{
 "cells": [
  {
   "cell_type": "markdown",
   "metadata": {},
   "source": [
    "# 2579번 계단 오르기\n",
    "\n",
    "Olympiad  > 한국정보올림피아드  > 한국정보올림피아드시․도지역본선  > 지역본선 2006  > 초등부 4번 \n",
    "\n",
    "URL : https://www.acmicpc.net/problem/2579"
   ]
  },
  {
   "cell_type": "code",
   "execution_count": 8,
   "metadata": {},
   "outputs": [
    {
     "name": "stdout",
     "output_type": "stream",
     "text": [
      "6\n"
     ]
    }
   ],
   "source": [
    "N = int(input())"
   ]
  },
  {
   "cell_type": "code",
   "execution_count": 9,
   "metadata": {},
   "outputs": [
    {
     "name": "stdout",
     "output_type": "stream",
     "text": [
      "10\n",
      "20\n",
      "15\n",
      "25\n",
      "10\n",
      "20\n"
     ]
    }
   ],
   "source": [
    "li=[0]\n",
    "for i in range(N):\n",
    "    li.append(int(input()))"
   ]
  },
  {
   "cell_type": "code",
   "execution_count": 10,
   "metadata": {},
   "outputs": [
    {
     "data": {
      "text/plain": [
       "[0, 10, 20, 15, 25, 10, 20]"
      ]
     },
     "execution_count": 10,
     "metadata": {},
     "output_type": "execute_result"
    }
   ],
   "source": [
    "li"
   ]
  },
  {
   "cell_type": "code",
   "execution_count": 12,
   "metadata": {},
   "outputs": [
    {
     "name": "stdout",
     "output_type": "stream",
     "text": [
      "75\n"
     ]
    }
   ],
   "source": [
    "tmp = []\n",
    "\n",
    "tmp.append(li[0]) #0\n",
    "tmp.append(li[1])\n",
    "tmp.append(li[1]+li[2])\n",
    "tmp.append(max(li[3]+li[1], li[3]+li[2]))\n",
    "\n",
    "for i in range(4, N+1):\n",
    "    tmp.append(max(li[i]+ tmp[i-2], li[i]+li[i-1]+tmp[i-3]))\n",
    "    \n",
    "print(tmp[-1])"
   ]
  },
  {
   "cell_type": "code",
   "execution_count": 13,
   "metadata": {},
   "outputs": [
    {
     "data": {
      "text/plain": [
       "[0, 10, 30, 35, 55, 65, 75]"
      ]
     },
     "execution_count": 13,
     "metadata": {},
     "output_type": "execute_result"
    }
   ],
   "source": [
    "tmp"
   ]
  },
  {
   "cell_type": "markdown",
   "metadata": {},
   "source": [
    "# 제출"
   ]
  },
  {
   "cell_type": "code",
   "execution_count": 18,
   "metadata": {},
   "outputs": [
    {
     "name": "stdout",
     "output_type": "stream",
     "text": [
      "4\n",
      "1\n",
      "2\n",
      "3\n",
      "4\n",
      "8\n"
     ]
    }
   ],
   "source": [
    "N = int(input())\n",
    "li=[0]\n",
    "for i in range(N):\n",
    "    li.append(int(input()))\n",
    "    \n",
    "tmp = []\n",
    "\n",
    "tmp.append(li[0]) #0\n",
    "tmp.append(li[1])\n",
    "if len(li) > 2:\n",
    "    tmp.append(li[1]+li[2])\n",
    "if len(li) > 3:\n",
    "    tmp.append(max(li[3]+li[1], li[3]+li[2]))\n",
    "\n",
    "for i in range(4, N+1):\n",
    "    tmp.append(max(li[i]+ tmp[i-2], li[i]+li[i-1]+tmp[i-3]))\n",
    "    \n",
    "print(tmp[-1])    "
   ]
  },
  {
   "cell_type": "markdown",
   "metadata": {},
   "source": [
    "# 숏코딩"
   ]
  },
  {
   "cell_type": "code",
   "execution_count": 19,
   "metadata": {},
   "outputs": [
    {
     "name": "stdout",
     "output_type": "stream",
     "text": [
      "4\n",
      "1\n",
      "2\n",
      "3\n",
      "4\n",
      "8\n"
     ]
    }
   ],
   "source": [
    "a=b=c=0;exec('p=int(input());a,b,c=c,a+p,max(a,b)+p;'*int(input()));print(c)"
   ]
  },
  {
   "cell_type": "code",
   "execution_count": 20,
   "metadata": {},
   "outputs": [
    {
     "name": "stdout",
     "output_type": "stream",
     "text": [
      "6\n",
      "1\n",
      "2\n",
      "3\n",
      "4\n",
      "5\n",
      "6\n",
      "16\n"
     ]
    }
   ],
   "source": [
    "a=b=c=d=e=f=0\n",
    "for i in\"A\"*int(input()):a,b,c=b,c,int(input());d,e,f=e,f,max(d+b+c,e+c)\n",
    "print(f)"
   ]
  },
  {
   "cell_type": "code",
   "execution_count": 27,
   "metadata": {},
   "outputs": [
    {
     "name": "stdout",
     "output_type": "stream",
     "text": [
      "10\n",
      "1\n",
      "2\n",
      "3\n",
      "4\n",
      "5\n",
      "6\n",
      "7\n",
      "8\n",
      "9\n",
      "10\n",
      "40\n"
     ]
    }
   ],
   "source": [
    "a=[0,0,0]\n",
    "for i in range(int(input())):p=int(input());a=[a[1]+p,a[2]+p,max(a[:2])]\n",
    "print(max(a[:2]))"
   ]
  }
 ],
 "metadata": {
  "kernelspec": {
   "display_name": "Python [conda env:tf20] *",
   "language": "python",
   "name": "conda-env-tf20-py"
  },
  "language_info": {
   "codemirror_mode": {
    "name": "ipython",
    "version": 3
   },
   "file_extension": ".py",
   "mimetype": "text/x-python",
   "name": "python",
   "nbconvert_exporter": "python",
   "pygments_lexer": "ipython3",
   "version": "3.6.9"
  }
 },
 "nbformat": 4,
 "nbformat_minor": 2
}

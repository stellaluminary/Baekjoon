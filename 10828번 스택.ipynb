{
 "cells": [
  {
   "cell_type": "markdown",
   "metadata": {},
   "source": [
    "# 10828번 스택\n",
    "- URL : https://www.acmicpc.net/problem/10828"
   ]
  },
  {
   "cell_type": "markdown",
   "metadata": {},
   "source": [
    "# 제출 1 - 시간 초과"
   ]
  },
  {
   "cell_type": "code",
   "execution_count": null,
   "metadata": {},
   "outputs": [],
   "source": [
    "stack = []\n",
    "for i in range(int(input())):\n",
    "    a = input().split()\n",
    "    if a[0] == 'push':\n",
    "        stack.append(int(a[1]))        \n",
    "    elif a[0] == 'pop':\n",
    "        if len(stack) != 0:\n",
    "            print(stack[-1])\n",
    "            del stack[-1]\n",
    "        else:\n",
    "            print(-1)\n",
    "    elif a[0] == 'size':\n",
    "        print(len(stack))\n",
    "    elif a[0] == 'empty':\n",
    "        if len(stack) == 0:\n",
    "            print(1)\n",
    "        else:\n",
    "            print(0)\n",
    "    elif a[0] == 'top':\n",
    "        if len(stack) != 0:\n",
    "            print(stack[-1])\n",
    "        else:\n",
    "            print(-1)     "
   ]
  },
  {
   "cell_type": "markdown",
   "metadata": {},
   "source": [
    "# 제출 2 - 31140KB, 456ms, 512B : 분리 + print condition문을 이용한 코드 간소화"
   ]
  },
  {
   "cell_type": "code",
   "execution_count": null,
   "metadata": {},
   "outputs": [],
   "source": [
    "N = int(input())\n",
    "stack = []\n",
    "a = []\n",
    "for i in range(N):\n",
    "    a.append(input().split())\n",
    "for i in range(N):\n",
    "    if a[i][0] == 'push':\n",
    "        stack.append(int(a[i][1]))        \n",
    "    elif a[i][0] == 'pop':\n",
    "        if len(stack) != 0:\n",
    "            print(stack[-1])\n",
    "            del stack[-1]\n",
    "        else:\n",
    "            print(-1)\n",
    "    elif a[i][0] == 'size':\n",
    "        print(len(stack))\n",
    "    elif a[i][0] == 'empty':\n",
    "        print(0 if len(stack) else 1)\n",
    "    elif a[i][0] == 'top':\n",
    "        print(stack[-1] if len(stack) else -1)"
   ]
  },
  {
   "cell_type": "markdown",
   "metadata": {},
   "source": [
    "# 제출 3 - 29616KB, 64ms, 474B : sys를 이용 + 코드 수정"
   ]
  },
  {
   "cell_type": "code",
   "execution_count": null,
   "metadata": {},
   "outputs": [],
   "source": [
    "import sys \n",
    "stack = []\n",
    "for i in range(int(sys.stdin.readline())):\n",
    "    a = sys.stdin.readline().split()\n",
    "    if a[0] == 'push':\n",
    "        stack.append(int(a[1]))        \n",
    "    elif a[0] == 'pop':\n",
    "        if stack: print(stack.pop())            \n",
    "        else: print(-1)\n",
    "    elif a[0] == 'size':\n",
    "        print(len(stack))\n",
    "    elif a[0] == 'empty':\n",
    "        if stack: print(0)\n",
    "        else: print(1)\n",
    "    elif a[0] == 'top':\n",
    "        if stack: print(stack[-1])\n",
    "        else: print(-1)  "
   ]
  },
  {
   "cell_type": "markdown",
   "metadata": {},
   "source": [
    "# 제출 4 - 29448KB, 64ms, 596B : print까지도 stdout으로 변경 -> 메모리가 줄었다."
   ]
  },
  {
   "cell_type": "code",
   "execution_count": null,
   "metadata": {},
   "outputs": [],
   "source": [
    "import sys \n",
    "stack = []\n",
    "for i in range(int(sys.stdin.readline())):\n",
    "    a = sys.stdin.readline().split()\n",
    "    if a[0] == 'push':\n",
    "        stack.append(a[1])\n",
    "    elif a[0] == 'pop':\n",
    "        if stack: sys.stdout.write(str(stack.pop())+'\\n')\n",
    "        else: sys.stdout.write(str(-1)+'\\n')\n",
    "    elif a[0] == 'size':\n",
    "        sys.stdout.write(str(len(stack))+'\\n')\n",
    "    elif a[0] == 'empty':\n",
    "        if stack: sys.stdout.write(str(0)+'\\n')\n",
    "        else: sys.stdout.write(str(1)+'\\n')\n",
    "    elif a[0] == 'top':\n",
    "        if stack: sys.stdout.write(str(stack[-1])+'\\n')\n",
    "        else: sys.stdout.write(str(-1)+'\\n')              "
   ]
  },
  {
   "cell_type": "markdown",
   "metadata": {},
   "source": [
    "# 제출 5 - 29448KB, 64ms, 505B : 코드 길이만 줄여봄"
   ]
  },
  {
   "cell_type": "code",
   "execution_count": null,
   "metadata": {},
   "outputs": [],
   "source": [
    "import sys \n",
    "stack = []\n",
    "for i in range(int(sys.stdin.readline())):\n",
    "    a = sys.stdin.readline().split()\n",
    "    if a[0] == 'push':\n",
    "        stack.append(a[1])\n",
    "    elif a[0] == 'pop':\n",
    "        sys.stdout.write(str(stack.pop() if stack else -1)+'\\n')        \n",
    "    elif a[0] == 'size':\n",
    "        sys.stdout.write(str(len(stack))+'\\n')\n",
    "    elif a[0] == 'empty':\n",
    "        sys.stdout.write(str(0 if stack else 1)+'\\n')        \n",
    "    elif a[0] == 'top':\n",
    "        sys.stdout.write(str(stack[-1] if stack else -1) +'\\n')        "
   ]
  },
  {
   "cell_type": "markdown",
   "metadata": {},
   "source": [
    "# 제출 6 - 29448KB, 68ms, 498B : 조금 더 줄여보자 -> 속도가 약간 더 느려짐"
   ]
  },
  {
   "cell_type": "code",
   "execution_count": null,
   "metadata": {},
   "outputs": [],
   "source": [
    "import sys \n",
    "stack = []\n",
    "for i in range(int(sys.stdin.readline())):\n",
    "    a = sys.stdin.readline().split()\n",
    "    k = a[0][:2]\n",
    "    if k == 'pu':\n",
    "        stack.append(a[1])\n",
    "    elif k == 'po':\n",
    "        sys.stdout.write(str(stack.pop() if stack else -1)+'\\n')        \n",
    "    elif k == 'si':\n",
    "        sys.stdout.write(str(len(stack))+'\\n')\n",
    "    elif k == 'em':\n",
    "        sys.stdout.write(str(0 if stack else 1)+'\\n')        \n",
    "    elif k == 'to':\n",
    "        sys.stdout.write(str(stack[-1] if stack else -1) +'\\n')        "
   ]
  },
  {
   "cell_type": "markdown",
   "metadata": {},
   "source": [
    "# 제출 7 - 29448KB, 68ms, 464B : tap 2칸으로 변경"
   ]
  },
  {
   "cell_type": "code",
   "execution_count": null,
   "metadata": {},
   "outputs": [],
   "source": [
    "import sys \n",
    "stack = []\n",
    "for i in range(int(sys.stdin.readline())):\n",
    "  a = sys.stdin.readline().split()\n",
    "  k = a[0][:2]\n",
    "  if k == 'pu':\n",
    "    stack.append(a[1])\n",
    "  elif k == 'po':\n",
    "    sys.stdout.write(str(stack.pop() if stack else -1)+'\\n')        \n",
    "  elif k == 'si':\n",
    "    sys.stdout.write(str(len(stack))+'\\n')\n",
    "  elif k == 'em':\n",
    "    sys.stdout.write(str(0 if stack else 1)+'\\n')        \n",
    "  elif k == 'to':\n",
    "    sys.stdout.write(str(stack[-1] if stack else -1) +'\\n')        "
   ]
  },
  {
   "cell_type": "markdown",
   "metadata": {},
   "source": [
    "# 제출 8 - 29448KB, 64ms, 520B : 다른 방식"
   ]
  },
  {
   "cell_type": "code",
   "execution_count": null,
   "metadata": {},
   "outputs": [],
   "source": [
    "import sys \n",
    "stack = []\n",
    "for i in range(int(sys.stdin.readline())):\n",
    "    a = sys.stdin.readline().rstrip()    \n",
    "    if a[0] == 'p':\n",
    "        if a[1] == 'u':\n",
    "            stack.append(a[5:])\n",
    "        else:\n",
    "            sys.stdout.write(str(stack.pop() if stack else -1)+'\\n')        \n",
    "    elif a[0] == 's':\n",
    "        sys.stdout.write(str(len(stack))+'\\n')\n",
    "    elif a[0] == 'e':\n",
    "        sys.stdout.write(str(0 if stack else 1)+'\\n')        \n",
    "    elif a[0] == 't':\n",
    "        sys.stdout.write(str(stack[-1] if stack else -1)+'\\n')        "
   ]
  },
  {
   "cell_type": "markdown",
   "metadata": {},
   "source": [
    "# 숏코딩"
   ]
  },
  {
   "cell_type": "markdown",
   "metadata": {},
   "source": [
    "# 제출 9 - 29616KB, 64ms, 286B \n",
    "- 메모리를 많이 먹음"
   ]
  },
  {
   "cell_type": "code",
   "execution_count": null,
   "metadata": {},
   "outputs": [],
   "source": [
    "import sys \n",
    "s,p, y = [],print, sys.stdin.readline\n",
    "for i in range(int(y())):\n",
    "    a = y(); b=a[:2]\n",
    "    if b == 'pu': s.append(a[5:-1]) # 그냥 a[5:]로 하면 개행문자가 포함된 것까지 넣기 때문에 출력 error\n",
    "    elif b == 'po': p(s.pop() if s else -1)\n",
    "    elif b == 'si': p(len(s))\n",
    "    elif b == 'em': p(0 if s else 1)\n",
    "    elif b == 'to': p(s[-1] if s else -1)"
   ]
  },
  {
   "cell_type": "markdown",
   "metadata": {},
   "source": [
    "# 제출 10 - 29680KB, 64ms, 255B : \n",
    "- 숏코딩의 취지와는 맞지만 메모리를 많이 먹음\n",
    "- 순위권"
   ]
  },
  {
   "cell_type": "code",
   "execution_count": null,
   "metadata": {},
   "outputs": [],
   "source": [
    "import sys \n",
    "s,p = [],print\n",
    "for i in sys.stdin.readlines()[1:]:\n",
    "    b=i[:2]\n",
    "    if b == 'pu': s.append(i[5:-1]) \n",
    "    elif b == 'po': p(s.pop() if s else -1)\n",
    "    elif b == 'si': p(len(s))\n",
    "    elif b == 'em': p(0 if s else 1)\n",
    "    else : p(s[-1] if s else -1)"
   ]
  },
  {
   "cell_type": "markdown",
   "metadata": {},
   "source": [
    "# 제출 11 - 29680KB, 64ms, 237B : \n",
    "- 제출 10의 띄어쓰기 1칸으로 변경\n",
    "- 2020-01-09 2등"
   ]
  },
  {
   "cell_type": "code",
   "execution_count": null,
   "metadata": {},
   "outputs": [],
   "source": [
    "import sys \n",
    "s,p = [],print\n",
    "for i in sys.stdin.readlines()[1:]:\n",
    " b=i[:2]\n",
    " if b == 'pu': s.append(i[5:-1]) \n",
    " elif b == 'po': p(s.pop() if s else -1)\n",
    " elif b == 'si': p(len(s))\n",
    " elif b == 'em': p(0 if s else 1)\n",
    " else : p(s[-1] if s else -1)"
   ]
  }
 ],
 "metadata": {
  "kernelspec": {
   "display_name": "tf20",
   "language": "python",
   "name": "tf20"
  },
  "language_info": {
   "codemirror_mode": {
    "name": "ipython",
    "version": 3
   },
   "file_extension": ".py",
   "mimetype": "text/x-python",
   "name": "python",
   "nbconvert_exporter": "python",
   "pygments_lexer": "ipython3",
   "version": "3.7.4"
  }
 },
 "nbformat": 4,
 "nbformat_minor": 2
}

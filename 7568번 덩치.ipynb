{
 "cells": [
  {
   "cell_type": "markdown",
   "metadata": {},
   "source": [
    "# 7568번 덩치 \n",
    "\n",
    "- URL : https://www.acmicpc.net/problem/7568\n",
    "- 최종 맞은 사람 제출 3, 6\n",
    "- 숏코딩 제출 6"
   ]
  },
  {
   "cell_type": "markdown",
   "metadata": {},
   "source": [
    "# 제출 1 - 29284KB 60ms 258B"
   ]
  },
  {
   "cell_type": "code",
   "execution_count": null,
   "metadata": {},
   "outputs": [],
   "source": [
    "N=int(input())\n",
    "l=[list(map(int,input().split()))+[1] for _ in range(N)]\n",
    "for i in range(N):\n",
    "    for j in range(N):\n",
    "        if l[i][0] > l[j][0] and l[i][1] > l[j][1]:\n",
    "            l[j][2] += 1\n",
    "s=str(l[0][2])\n",
    "for k in range(1,N):\n",
    "\ts += ' '+str(l[k][2])\n",
    "print(s)"
   ]
  },
  {
   "cell_type": "markdown",
   "metadata": {},
   "source": [
    "# 제출 2 - 29284KB 56ms 210B"
   ]
  },
  {
   "cell_type": "code",
   "execution_count": null,
   "metadata": {},
   "outputs": [],
   "source": [
    "N=int(input())\n",
    "l=[list(map(int,input().split())) for _ in range(N)]\n",
    "for i in range(N):\n",
    "    r=1\n",
    "    for j in range(N):\n",
    "        if l[i][0] < l[j][0] and l[i][1] < l[j][1]:\n",
    "            r += 1\n",
    "    print(r, end=' ')"
   ]
  },
  {
   "cell_type": "markdown",
   "metadata": {},
   "source": [
    "# 제출 3 - 29284KB 56ms 180B"
   ]
  },
  {
   "cell_type": "code",
   "execution_count": null,
   "metadata": {},
   "outputs": [],
   "source": [
    "l=[list(map(int,input().split())) for _ in range(int(input()))]\n",
    "for i in l:\n",
    "    r=1\n",
    "    for j in l:\n",
    "        if i[0] < j[0] and i[1] < j[1]:\n",
    "            r += 1\n",
    "    print(r, end=' ')"
   ]
  },
  {
   "cell_type": "markdown",
   "metadata": {},
   "source": [
    "# 제출 4 - 29284KB 56ms 207B"
   ]
  },
  {
   "cell_type": "code",
   "execution_count": null,
   "metadata": {},
   "outputs": [],
   "source": [
    "n = int(input())\n",
    "l=[]\n",
    "for _ in range(n):\n",
    "    l.append(list(map(int,input().split())))\n",
    "    \n",
    "for i in l:\n",
    "    r=1\n",
    "    for j in l:\n",
    "        if i[0] < j[0] and i[1] < j[1]:\n",
    "            r += 1\n",
    "    print(r, end=' ')"
   ]
  },
  {
   "cell_type": "markdown",
   "metadata": {},
   "source": [
    "# 제출 5 - 29284KB 56ms 117B"
   ]
  },
  {
   "cell_type": "code",
   "execution_count": null,
   "metadata": {},
   "outputs": [],
   "source": [
    "l=[list(map(int,input().split())) for _ in range(int(input()))];print(*[sum(c>a and b<d for c,d in l)+1for a,b in l])"
   ]
  },
  {
   "cell_type": "markdown",
   "metadata": {},
   "source": [
    "# 제출 6 - 29284KB 56ms 116B\n",
    "- 숏코딩 2020-02-17 4등"
   ]
  },
  {
   "cell_type": "code",
   "execution_count": null,
   "metadata": {},
   "outputs": [],
   "source": [
    "l=[];exec('l+=[list(map(int,input().split()))];'*int(input()));print(*[sum(c>a and b<d for c,d in l)+1for a,b in l])"
   ]
  }
 ],
 "metadata": {
  "kernelspec": {
   "display_name": "tf20",
   "language": "python",
   "name": "tf20"
  },
  "language_info": {
   "codemirror_mode": {
    "name": "ipython",
    "version": 3
   },
   "file_extension": ".py",
   "mimetype": "text/x-python",
   "name": "python",
   "nbconvert_exporter": "python",
   "pygments_lexer": "ipython3",
   "version": "3.7.4"
  }
 },
 "nbformat": 4,
 "nbformat_minor": 2
}

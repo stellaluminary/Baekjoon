{
 "cells": [
  {
   "cell_type": "markdown",
   "metadata": {},
   "source": [
    "# 1912번 연속합 - 동적 계획법 1\n",
    "\n",
    "URL : https://www.acmicpc.net/problem/1912"
   ]
  },
  {
   "cell_type": "markdown",
   "metadata": {},
   "source": [
    "***"
   ]
  },
  {
   "cell_type": "markdown",
   "metadata": {},
   "source": [
    "### 동적 계획법은 제출 6번부터 확인하시길 바랍니다.\n",
    "- 처음 제출 1~ 제출 5까지 brute force로 풀어보고자 했으나 메모리와 시간 초과"
   ]
  },
  {
   "cell_type": "markdown",
   "metadata": {},
   "source": [
    "# 제출 1 - 메모리 초과 - 239B"
   ]
  },
  {
   "cell_type": "code",
   "execution_count": null,
   "metadata": {},
   "outputs": [],
   "source": [
    "n = int(input())\n",
    "a = list(map(int, input().split()))\n",
    "tmpli=[]\n",
    "suma=0\n",
    "for i in range(len(a)):    \n",
    "    suma = a[i]\n",
    "    tmpli.append(suma)\n",
    "    for j in range(i+1,len(a)):\n",
    "        suma = suma + a[j]\n",
    "        tmpli.append(suma)\n",
    "print(max(tmpli))"
   ]
  },
  {
   "cell_type": "markdown",
   "metadata": {},
   "source": [
    "***"
   ]
  },
  {
   "cell_type": "markdown",
   "metadata": {},
   "source": [
    "# 제출 2 - 메모리 초과 - 269B"
   ]
  },
  {
   "cell_type": "code",
   "execution_count": null,
   "metadata": {},
   "outputs": [],
   "source": [
    "n = int(input())\n",
    "a = list(map(int, input().split()))\n",
    "tmpli=a.copy()\n",
    "suma=0\n",
    "maxvalue=set()\n",
    "for i in range(len(a)):    \n",
    "    suma = a[i]\n",
    "    for j in range(i+1,len(a)):\n",
    "        suma = suma + a[j]\n",
    "        tmpli.append(suma)\n",
    "    maxvalue.add(max(tmpli))\n",
    "print(max(maxvalue))"
   ]
  },
  {
   "cell_type": "markdown",
   "metadata": {},
   "source": [
    "***"
   ]
  },
  {
   "cell_type": "markdown",
   "metadata": {},
   "source": [
    "# 제출 3 - 메모리 초과 - 301B - 틀린 접근 모두 음수일 수 있음"
   ]
  },
  {
   "cell_type": "code",
   "execution_count": null,
   "metadata": {},
   "outputs": [],
   "source": [
    "n = int(input())\n",
    "a = list(map(int, input().split()))\n",
    "tmpli=[max(a)]\n",
    "suma=0\n",
    "maxvalue=set()\n",
    "for i in range(len(a)):  \n",
    "    if a[i] < 0:\n",
    "        continue\n",
    "    suma = a[i]\n",
    "    for j in range(i+1,len(a)):\n",
    "        suma = suma + a[j]\n",
    "        tmpli.append(suma)        \n",
    "    maxvalue.add(max(tmpli))\n",
    "    tmpli=[]\n",
    "print(max(maxvalue))"
   ]
  },
  {
   "cell_type": "markdown",
   "metadata": {},
   "source": [
    "***"
   ]
  },
  {
   "cell_type": "markdown",
   "metadata": {},
   "source": [
    "***\n",
    "# 제출 4 - 시간 초과 - 363B - 2% 6초에서 나아가질 못함"
   ]
  },
  {
   "cell_type": "code",
   "execution_count": null,
   "metadata": {},
   "outputs": [],
   "source": [
    "n = int(input())\n",
    "a = list(map(int, input().split()))\n",
    "\n",
    "b = []\n",
    "m = 0\n",
    "for i in range(len(a)):\n",
    "    if a[i] <0:\n",
    "        b.append(m)\n",
    "        b.append(a[i])\n",
    "        m=0\n",
    "    else:\n",
    "        m += a[i]\n",
    "\n",
    "suma=0\n",
    "maxvalue=set(b)\n",
    "for i in range(len(b)): \n",
    "    suma = b[i]\n",
    "    for j in range(i+1,len(b)):\n",
    "        suma = suma + b[j]\n",
    "        maxvalue.add(suma)  \n",
    "print(max(maxvalue))"
   ]
  },
  {
   "cell_type": "markdown",
   "metadata": {},
   "source": [
    "***\n",
    "# 제출 5 - 시간 초과 - 469B - 2% 6초에서 나아가질 못함"
   ]
  },
  {
   "cell_type": "code",
   "execution_count": null,
   "metadata": {},
   "outputs": [],
   "source": [
    "n = int(input())\n",
    "a = list(map(int, input().split()))\n",
    "\n",
    "b = []\n",
    "m = a[0]\n",
    "for i in range(1,len(a)):\n",
    "    if a[i] >= 0:\n",
    "        if a[i-1] < 0:\n",
    "            b.append(m)\n",
    "            m=a[i]\n",
    "            continue\n",
    "        m += a[i]\n",
    "    else:\n",
    "        b.append(m)        \n",
    "        m = a[i]\n",
    "b.append(m)\n",
    "\n",
    "suma=0\n",
    "maxvalue={max(b)}\n",
    "for i in range(len(b)): \n",
    "    suma = b[i]\n",
    "    for j in range(i+1,len(b)):\n",
    "        suma = suma + b[j]\n",
    "        maxvalue.add(suma)          \n",
    "print(max(maxvalue))"
   ]
  },
  {
   "cell_type": "markdown",
   "metadata": {},
   "source": [
    "# Dynamic Programming 동적계획법으로 풀기"
   ]
  },
  {
   "cell_type": "markdown",
   "metadata": {},
   "source": [
    "***\n",
    "# 제출 6 - 틀림 184B 초기값 문제"
   ]
  },
  {
   "cell_type": "code",
   "execution_count": null,
   "metadata": {},
   "outputs": [],
   "source": [
    "n = int(input())\n",
    "a = list(map(int, input().split()))\n",
    "tmp = a[0]\n",
    "maxvalue = -1001\n",
    "\n",
    "for i in range(1,len(a)):\n",
    "    tmp = max(tmp+a[i], a[i])\n",
    "    maxvalue=max(maxvalue,tmp)\n",
    "print(maxvalue)"
   ]
  },
  {
   "cell_type": "markdown",
   "metadata": {},
   "source": [
    "***\n",
    "# 제출 7 - 36428KB, 132ms, 182B"
   ]
  },
  {
   "cell_type": "code",
   "execution_count": null,
   "metadata": {},
   "outputs": [],
   "source": [
    "n = int(input())\n",
    "a = list(map(int, input().split()))\n",
    "tmp = a[0]\n",
    "maxvalue = a[0]\n",
    "for i in range(1,len(a)):\n",
    "    tmp = max(tmp+a[i], a[i])\n",
    "    maxvalue=max(maxvalue,tmp)\n",
    "print(maxvalue)"
   ]
  },
  {
   "cell_type": "markdown",
   "metadata": {},
   "source": [
    "***\n",
    "# 제출 8 - 36428KB, 108ms 226B"
   ]
  },
  {
   "cell_type": "code",
   "execution_count": null,
   "metadata": {},
   "outputs": [],
   "source": [
    "n = int(input())\n",
    "a = list(map(int, input().split()))\n",
    "\n",
    "if max(a) <=0: print(max(a))\n",
    "else:\n",
    "    tmp = a[0]\n",
    "    maxvalue = a[0]\n",
    "    for i in a[1:]:\n",
    "        tmp = max(tmp+i, i)\n",
    "        maxvalue=max(maxvalue,tmp)\n",
    "    print(maxvalue)"
   ]
  },
  {
   "cell_type": "markdown",
   "metadata": {},
   "source": [
    "***\n",
    "# 제출 9 - 36428KB, 92ms 140B -> 다시돌리면 96ms 나옴...?"
   ]
  },
  {
   "cell_type": "code",
   "execution_count": null,
   "metadata": {},
   "outputs": [],
   "source": [
    "n = int(input())\n",
    "a = list(map(int, input().split()))\n",
    "for i in range(1,len(a)):\n",
    "    if a[i-1]>0:\n",
    "        a[i] = a[i-1]+a[i]    \n",
    "print(max(a))"
   ]
  },
  {
   "cell_type": "markdown",
   "metadata": {},
   "source": [
    "***\n",
    "# 제출 10 - 35864KB, 132ms 103B"
   ]
  },
  {
   "cell_type": "code",
   "execution_count": null,
   "metadata": {},
   "outputs": [],
   "source": [
    "input()\n",
    "tmp=m=-1001\n",
    "for i in input().split():\n",
    "    tmp = max(0,tmp) + int(i)\n",
    "    m = max(m,tmp)\n",
    "print(m)"
   ]
  },
  {
   "cell_type": "markdown",
   "metadata": {},
   "source": [
    "***\n",
    "# 제출 11 - 35864KB, 124ms 107B\n",
    "- map을 쓰는 것이 시간적으로 빨라짐"
   ]
  },
  {
   "cell_type": "code",
   "execution_count": null,
   "metadata": {},
   "outputs": [],
   "source": [
    "input()\n",
    "tmp=m=-1001\n",
    "for i in map(int,input().split()):\n",
    "    tmp = max(0,tmp) + i\n",
    "    m = max(m,tmp)\n",
    "print(m)"
   ]
  },
  {
   "cell_type": "markdown",
   "metadata": {},
   "source": [
    "***\n",
    "# 제출 12 - 35864KB, 124ms 83B - 숏코딩"
   ]
  },
  {
   "cell_type": "code",
   "execution_count": null,
   "metadata": {},
   "outputs": [],
   "source": [
    "input();t=m=-1e4\n",
    "for i in map(int,input().split()):t=max(0,t)+i;m=max(t,m)\n",
    "print(m)"
   ]
  },
  {
   "cell_type": "markdown",
   "metadata": {},
   "source": [
    "***\n",
    "# 제출 13 - 36392KB, 112ms 97B"
   ]
  },
  {
   "cell_type": "code",
   "execution_count": null,
   "metadata": {},
   "outputs": [],
   "source": [
    "input(); a = [-1001]\n",
    "for i in map(int, input().split()):\n",
    "    a.append(max(i, a[-1] + i))\n",
    "print(max(a))"
   ]
  },
  {
   "cell_type": "markdown",
   "metadata": {},
   "source": [
    "# Best case 수정 - 제출 9\n",
    "- 100ms...? 왜?"
   ]
  },
  {
   "cell_type": "code",
   "execution_count": null,
   "metadata": {},
   "outputs": [],
   "source": [
    "input()\n",
    "a = list(map(int, input().split()))\n",
    "for i in range(1,len(a)):\n",
    "    if a[i-1]>0:\n",
    "        a[i] = a[i-1]+a[i]    \n",
    "print(max(a))"
   ]
  },
  {
   "cell_type": "markdown",
   "metadata": {},
   "source": [
    "# 이건 92ms 나옴, 96ms도 나옴"
   ]
  },
  {
   "cell_type": "code",
   "execution_count": null,
   "metadata": {},
   "outputs": [],
   "source": [
    "n = int(input())\n",
    "a = list(map(int, input().split()))\n",
    "for i in range(1,n):\n",
    "    if a[i-1]>0:\n",
    "        a[i] = a[i-1]+a[i]    \n",
    "print(max(a))"
   ]
  },
  {
   "cell_type": "markdown",
   "metadata": {},
   "source": [
    "***\n",
    "# 제출 14 - 36428KB, 88ms 214B - 1등 코드 - "
   ]
  },
  {
   "cell_type": "code",
   "execution_count": null,
   "metadata": {},
   "outputs": [],
   "source": [
    "input()\n",
    "a = list(map(int,input().split()))\n",
    "if max(a) <= 0: print(max(a))\n",
    "else:\n",
    "    t = 0\n",
    "    m = 0\n",
    "    \n",
    "    for i in a:\n",
    "        t += i\n",
    "        if t < 0:\n",
    "            t = 0\n",
    "        if m < t:\n",
    "            m = t\n",
    "            \n",
    "    print(m)"
   ]
  },
  {
   "cell_type": "markdown",
   "metadata": {},
   "source": [
    "***\n",
    "# 제출 15 - 36428KB, 84ms 179B\n",
    "-"
   ]
  },
  {
   "cell_type": "code",
   "execution_count": null,
   "metadata": {},
   "outputs": [],
   "source": [
    "input()\n",
    "a = [*map(int,input().split())]\n",
    "if max(a) <= 0: print(max(a))\n",
    "else:\n",
    "\tt = 0\n",
    "\tm = 0    \n",
    "\tfor i in a:\n",
    "\t\tt += i\n",
    "\t\tif t < 0:\n",
    "\t\t\tt = 0\n",
    "\t\tif m < t:\n",
    "\t\t\tm = t            \n",
    "\tprint(m)"
   ]
  }
 ],
 "metadata": {
  "kernelspec": {
   "display_name": "tf20",
   "language": "python",
   "name": "tf20"
  },
  "language_info": {
   "codemirror_mode": {
    "name": "ipython",
    "version": 3
   },
   "file_extension": ".py",
   "mimetype": "text/x-python",
   "name": "python",
   "nbconvert_exporter": "python",
   "pygments_lexer": "ipython3",
   "version": "3.7.4"
  }
 },
 "nbformat": 4,
 "nbformat_minor": 2
}

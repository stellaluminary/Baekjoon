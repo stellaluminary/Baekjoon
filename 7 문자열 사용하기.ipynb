{
 "cells": [
  {
   "cell_type": "markdown",
   "metadata": {},
   "source": [
    "# 1-11654-아스키 코드"
   ]
  },
  {
   "cell_type": "code",
   "execution_count": 2,
   "metadata": {},
   "outputs": [
    {
     "name": "stdout",
     "output_type": "stream",
     "text": [
      "A\n"
     ]
    }
   ],
   "source": [
    "N=input()"
   ]
  },
  {
   "cell_type": "code",
   "execution_count": 3,
   "metadata": {},
   "outputs": [
    {
     "data": {
      "text/plain": [
       "'A'"
      ]
     },
     "execution_count": 3,
     "metadata": {},
     "output_type": "execute_result"
    }
   ],
   "source": [
    "N"
   ]
  },
  {
   "cell_type": "code",
   "execution_count": 5,
   "metadata": {},
   "outputs": [
    {
     "data": {
      "text/plain": [
       "65"
      ]
     },
     "execution_count": 5,
     "metadata": {},
     "output_type": "execute_result"
    }
   ],
   "source": [
    "ord(N)"
   ]
  },
  {
   "cell_type": "code",
   "execution_count": 6,
   "metadata": {},
   "outputs": [
    {
     "data": {
      "text/plain": [
       "'a'"
      ]
     },
     "execution_count": 6,
     "metadata": {},
     "output_type": "execute_result"
    }
   ],
   "source": [
    "chr(97)"
   ]
  },
  {
   "cell_type": "code",
   "execution_count": 7,
   "metadata": {},
   "outputs": [
    {
     "data": {
      "text/plain": [
       "122"
      ]
     },
     "execution_count": 7,
     "metadata": {},
     "output_type": "execute_result"
    }
   ],
   "source": [
    "ord('z')"
   ]
  },
  {
   "cell_type": "markdown",
   "metadata": {},
   "source": [
    "# 2-10809 알파벳 찾기"
   ]
  },
  {
   "cell_type": "code",
   "execution_count": 8,
   "metadata": {},
   "outputs": [
    {
     "name": "stdout",
     "output_type": "stream",
     "text": [
      "baekjoon\n"
     ]
    }
   ],
   "source": [
    "getStr=input().split()"
   ]
  },
  {
   "cell_type": "code",
   "execution_count": 9,
   "metadata": {},
   "outputs": [
    {
     "data": {
      "text/plain": [
       "['baekjoon']"
      ]
     },
     "execution_count": 9,
     "metadata": {},
     "output_type": "execute_result"
    }
   ],
   "source": [
    "getStr"
   ]
  },
  {
   "cell_type": "code",
   "execution_count": 11,
   "metadata": {},
   "outputs": [
    {
     "data": {
      "text/plain": [
       "'b'"
      ]
     },
     "execution_count": 11,
     "metadata": {},
     "output_type": "execute_result"
    }
   ],
   "source": [
    "getStr[0][0]"
   ]
  },
  {
   "cell_type": "code",
   "execution_count": 16,
   "metadata": {},
   "outputs": [
    {
     "name": "stdout",
     "output_type": "stream",
     "text": [
      "['a', 'b', 'c', 'd', 'e', 'f', 'g', 'h', 'i', 'j', 'k', 'l', 'm', 'n', 'o', 'p', 'q', 'r', 's', 't', 'u', 'v', 'w', 'x', 'y', 'z']\n"
     ]
    }
   ],
   "source": [
    "alp=[]\n",
    "num=ord('a')\n",
    "for i in range(ord('z')-ord('a')+1):\n",
    "    num = ord('a')+i\n",
    "    alp.append(chr(num))\n",
    "    \n",
    "print(alp)"
   ]
  },
  {
   "cell_type": "code",
   "execution_count": 17,
   "metadata": {},
   "outputs": [
    {
     "data": {
      "text/plain": [
       "26"
      ]
     },
     "execution_count": 17,
     "metadata": {},
     "output_type": "execute_result"
    }
   ],
   "source": [
    "len(alp)"
   ]
  },
  {
   "cell_type": "code",
   "execution_count": 36,
   "metadata": {},
   "outputs": [
    {
     "name": "stdout",
     "output_type": "stream",
     "text": [
      "[-1, -1, -1, -1, -1, -1, -1, -1, -1, -1, -1, -1, -1, -1, -1, -1, -1, -1, -1, -1, -1, -1, -1, -1, -1, -1]\n"
     ]
    },
    {
     "data": {
      "text/plain": [
       "26"
      ]
     },
     "execution_count": 36,
     "metadata": {},
     "output_type": "execute_result"
    }
   ],
   "source": [
    "number=[]\n",
    "for i in range(len(alp)):\n",
    "    number.append(-1)\n",
    "    \n",
    "print(number)\n",
    "len(number)"
   ]
  },
  {
   "cell_type": "code",
   "execution_count": 41,
   "metadata": {},
   "outputs": [
    {
     "name": "stdout",
     "output_type": "stream",
     "text": [
      "[1, 0, -1, -1, 2, -1, -1, -1, -1, 4, 3, -1, -1, 7, 5, -1, -1, -1, -1, -1, -1, -1, -1, -1, -1, -1]\n"
     ]
    }
   ],
   "source": [
    "for i in range(len(getStr[0])):\n",
    "    for j in range(len(alp)):\n",
    "        if getStr[0][i] == alp[j]:\n",
    "            if number[j] == -1:\n",
    "                if i==0:\n",
    "                    number[j]=0\n",
    "                else:\n",
    "                    number[j]=i\n",
    "                \n",
    "print(number)                "
   ]
  },
  {
   "cell_type": "code",
   "execution_count": 43,
   "metadata": {},
   "outputs": [
    {
     "name": "stdout",
     "output_type": "stream",
     "text": [
      "0 번째 : 1\n",
      "1 번째 : 0\n",
      "2 번째 : -1\n",
      "3 번째 : -1\n",
      "4 번째 : 2\n",
      "5 번째 : -1\n",
      "6 번째 : -1\n",
      "7 번째 : -1\n",
      "8 번째 : -1\n",
      "9 번째 : 4\n",
      "10 번째 : 3\n",
      "11 번째 : -1\n",
      "12 번째 : -1\n",
      "13 번째 : 7\n",
      "14 번째 : 5\n",
      "15 번째 : -1\n",
      "16 번째 : -1\n",
      "17 번째 : -1\n",
      "18 번째 : -1\n",
      "19 번째 : -1\n",
      "20 번째 : -1\n",
      "21 번째 : -1\n",
      "22 번째 : -1\n",
      "23 번째 : -1\n",
      "24 번째 : -1\n",
      "25 번째 : -1\n",
      "1 0 -1 -1 2 -1 -1 -1 -1 4 3 -1 -1 7 5 -1 -1 -1 -1 -1 -1 -1 -1 -1 -1 -1 \n"
     ]
    }
   ],
   "source": [
    "printStr=''\n",
    "for i in range(len(number)):\n",
    "    print(i,'번째 :',number[i])\n",
    "    printStr += str(number[i])+' '\n",
    "    \n",
    "print(printStr)"
   ]
  },
  {
   "cell_type": "code",
   "execution_count": 44,
   "metadata": {},
   "outputs": [
    {
     "data": {
      "text/plain": [
       "'1 0 -1 -1 2 -1 -1 -1 -1 4 3 -1 -1 7 5 -1 -1 -1 -1 -1 -1 -1 -1 -1 -1 -1 '"
      ]
     },
     "execution_count": 44,
     "metadata": {},
     "output_type": "execute_result"
    }
   ],
   "source": [
    "printStr"
   ]
  },
  {
   "cell_type": "code",
   "execution_count": 19,
   "metadata": {},
   "outputs": [
    {
     "data": {
      "text/plain": [
       "8"
      ]
     },
     "execution_count": 19,
     "metadata": {},
     "output_type": "execute_result"
    }
   ],
   "source": [
    "len(getStr[0])"
   ]
  },
  {
   "cell_type": "code",
   "execution_count": 24,
   "metadata": {},
   "outputs": [
    {
     "name": "stdout",
     "output_type": "stream",
     "text": [
      "1\n",
      "2\n",
      "3\n",
      "4\n",
      "5\n",
      "6\n",
      "7\n"
     ]
    }
   ],
   "source": [
    "for i in range(1,len(getStr[0])):\n",
    "    print(i)"
   ]
  },
  {
   "cell_type": "code",
   "execution_count": 3,
   "metadata": {},
   "outputs": [
    {
     "name": "stdout",
     "output_type": "stream",
     "text": [
      "baekjoon\n",
      "1 0 -1 -1 2 -1 -1 -1 -1 4 3 -1 -1 7 5 -1 -1 -1 -1 -1 -1 -1 -1 -1 -1 -1 \n"
     ]
    }
   ],
   "source": [
    "getStr=input()\n",
    "alp=[]\n",
    "number=[]\n",
    "for i in range(ord('z')-ord('a')+1):\n",
    "    num = ord('a')+i\n",
    "    alp.append(chr(num))\n",
    "    number.append(-1)\n",
    "        \n",
    "for i in range(len(getStr)):\n",
    "    for j in range(len(alp)):\n",
    "        if getStr[i] == alp[j]:\n",
    "            if number[j] == -1:\n",
    "                number[j]=i\n",
    "\n",
    "printStr=''\n",
    "for i in range(len(number)):\n",
    "    printStr += str(number[i])+' '\n",
    "    \n",
    "print(printStr)"
   ]
  },
  {
   "cell_type": "code",
   "execution_count": 47,
   "metadata": {},
   "outputs": [
    {
     "name": "stdout",
     "output_type": "stream",
     "text": [
      "baekjoon\n"
     ]
    },
    {
     "data": {
      "text/plain": [
       "'baekjoon'"
      ]
     },
     "execution_count": 47,
     "metadata": {},
     "output_type": "execute_result"
    }
   ],
   "source": [
    "get=input()\n",
    "get"
   ]
  },
  {
   "cell_type": "code",
   "execution_count": 48,
   "metadata": {},
   "outputs": [
    {
     "data": {
      "text/plain": [
       "'b'"
      ]
     },
     "execution_count": 48,
     "metadata": {},
     "output_type": "execute_result"
    }
   ],
   "source": [
    "get[0]"
   ]
  },
  {
   "cell_type": "code",
   "execution_count": 1,
   "metadata": {},
   "outputs": [
    {
     "name": "stdout",
     "output_type": "stream",
     "text": [
      "baekjoon\n",
      "1 0 -1 -1 2 -1 -1 -1 -1 4 3 -1 -1 7 5 -1 -1 -1 -1 -1 -1 -1 -1 -1 -1 -1 "
     ]
    }
   ],
   "source": [
    "word = input() \n",
    "dic = {chr(i):-1 for i in range(ord('a'), ord('z'))} \n",
    "for i in range(len(word)): \n",
    "     if dic[word[i]] == -1:\n",
    "            dic[word[i]] = i \n",
    "for key in sorted(dic.keys()): \n",
    "    print(dic[key], end=\" \") \n"
   ]
  },
  {
   "cell_type": "code",
   "execution_count": null,
   "metadata": {
    "collapsed": true
   },
   "outputs": [],
   "source": []
  },
  {
   "cell_type": "code",
   "execution_count": 4,
   "metadata": {},
   "outputs": [
    {
     "name": "stdout",
     "output_type": "stream",
     "text": [
      "baekjoon\n"
     ]
    }
   ],
   "source": [
    "getStr = input() \n",
    "alp = {chr(i):-1 for i in range(ord('a'), ord('z'))} \n",
    "for i in range(len(getStr)): \n",
    "     if alp[getStr[i]] == -1:\n",
    "            alp[getStr[i]] = i \n",
    " "
   ]
  },
  {
   "cell_type": "code",
   "execution_count": 6,
   "metadata": {},
   "outputs": [
    {
     "data": {
      "text/plain": [
       "dict_keys(['a', 'b', 'c', 'd', 'e', 'f', 'g', 'h', 'i', 'j', 'k', 'l', 'm', 'n', 'o', 'p', 'q', 'r', 's', 't', 'u', 'v', 'w', 'x', 'y'])"
      ]
     },
     "execution_count": 6,
     "metadata": {},
     "output_type": "execute_result"
    }
   ],
   "source": [
    "alp.keys()"
   ]
  },
  {
   "cell_type": "code",
   "execution_count": 8,
   "metadata": {},
   "outputs": [
    {
     "data": {
      "text/plain": [
       "['a',\n",
       " 'b',\n",
       " 'c',\n",
       " 'd',\n",
       " 'e',\n",
       " 'f',\n",
       " 'g',\n",
       " 'h',\n",
       " 'i',\n",
       " 'j',\n",
       " 'k',\n",
       " 'l',\n",
       " 'm',\n",
       " 'n',\n",
       " 'o',\n",
       " 'p',\n",
       " 'q',\n",
       " 'r',\n",
       " 's',\n",
       " 't',\n",
       " 'u',\n",
       " 'v',\n",
       " 'w',\n",
       " 'x',\n",
       " 'y']"
      ]
     },
     "execution_count": 8,
     "metadata": {},
     "output_type": "execute_result"
    }
   ],
   "source": [
    "sorted(alp.keys())"
   ]
  },
  {
   "cell_type": "code",
   "execution_count": 7,
   "metadata": {
    "scrolled": true
   },
   "outputs": [
    {
     "data": {
      "text/plain": [
       "dict_items([('a', 1), ('b', 0), ('c', -1), ('d', -1), ('e', 2), ('f', -1), ('g', -1), ('h', -1), ('i', -1), ('j', 4), ('k', 3), ('l', -1), ('m', -1), ('n', 7), ('o', 5), ('p', -1), ('q', -1), ('r', -1), ('s', -1), ('t', -1), ('u', -1), ('v', -1), ('w', -1), ('x', -1), ('y', -1)])"
      ]
     },
     "execution_count": 7,
     "metadata": {},
     "output_type": "execute_result"
    }
   ],
   "source": [
    "alp.items()"
   ]
  },
  {
   "cell_type": "code",
   "execution_count": 10,
   "metadata": {},
   "outputs": [
    {
     "name": "stdout",
     "output_type": "stream",
     "text": [
      "1 0 -1 -1 2 -1 -1 -1 -1 4 3 -1 -1 7 5 -1 -1 -1 -1 -1 -1 -1 -1 -1 -1 "
     ]
    }
   ],
   "source": [
    "for key in sorted(alp.keys()): \n",
    "    print(alp[key], end=' ') "
   ]
  },
  {
   "cell_type": "code",
   "execution_count": 12,
   "metadata": {},
   "outputs": [
    {
     "name": "stdout",
     "output_type": "stream",
     "text": [
      "baekjoon\n",
      "1 0 -1 -1 2 -1 -1 -1 -1 4 3 -1 -1 7 5 -1 -1 -1 -1 -1 -1 -1 -1 -1 -1 -1 "
     ]
    }
   ],
   "source": [
    "getStr = input() \n",
    "alp = {chr(i):-1 for i in range(ord('a'), ord('z')+1)} \n",
    "for i in range(len(getStr)): \n",
    "     if alp[getStr[i]] == -1:\n",
    "            alp[getStr[i]] = i\n",
    "for key in sorted(alp.keys()): \n",
    "    print(alp[key], end=' ') "
   ]
  },
  {
   "cell_type": "markdown",
   "metadata": {},
   "source": [
    "# 3. 2675 문자열 반복"
   ]
  },
  {
   "cell_type": "code",
   "execution_count": 20,
   "metadata": {},
   "outputs": [
    {
     "name": "stdout",
     "output_type": "stream",
     "text": [
      "3 ABC\n"
     ]
    }
   ],
   "source": [
    "getStr=input().split()"
   ]
  },
  {
   "cell_type": "code",
   "execution_count": 21,
   "metadata": {},
   "outputs": [
    {
     "data": {
      "text/plain": [
       "2"
      ]
     },
     "execution_count": 21,
     "metadata": {},
     "output_type": "execute_result"
    }
   ],
   "source": [
    "len(getStr)"
   ]
  },
  {
   "cell_type": "code",
   "execution_count": 22,
   "metadata": {},
   "outputs": [],
   "source": [
    "getnum=getStr[0]\n",
    "if len(getStr)== 2:\n",
    "    getalp=[getStr[1][i] for i in range(len(getStr[1]))]\n",
    "elif len(getStr) ==1:\n",
    "    getalp=''"
   ]
  },
  {
   "cell_type": "code",
   "execution_count": 23,
   "metadata": {},
   "outputs": [
    {
     "name": "stdout",
     "output_type": "stream",
     "text": [
      "3\n",
      "['A', 'B', 'C']\n"
     ]
    }
   ],
   "source": [
    "print(getnum)\n",
    "print(getalp)"
   ]
  },
  {
   "cell_type": "code",
   "execution_count": 30,
   "metadata": {},
   "outputs": [],
   "source": [
    "printStr=''\n",
    "for i in range(len(getalp)):\n",
    "    printStr += getalp[i]*int(getnum)    "
   ]
  },
  {
   "cell_type": "code",
   "execution_count": 31,
   "metadata": {},
   "outputs": [
    {
     "data": {
      "text/plain": [
       "'AAABBBCCC'"
      ]
     },
     "execution_count": 31,
     "metadata": {},
     "output_type": "execute_result"
    }
   ],
   "source": [
    "printStr"
   ]
  },
  {
   "cell_type": "code",
   "execution_count": 36,
   "metadata": {},
   "outputs": [
    {
     "name": "stdout",
     "output_type": "stream",
     "text": [
      "5 /HTP\n",
      "/////HHHHHTTTTTPPPPP\n"
     ]
    }
   ],
   "source": [
    "getStr=input().split()\n",
    "getnum=getStr[0]\n",
    "if len(getStr)== 2:\n",
    "    getalp=[getStr[1][i] for i in range(len(getStr[1]))]\n",
    "elif len(getStr) ==1:\n",
    "    getalp=''\n",
    "printStr=''\n",
    "for i in range(len(getalp)):\n",
    "    printStr += getalp[i]*int(getnum)    \n",
    "print(printStr)"
   ]
  },
  {
   "cell_type": "code",
   "execution_count": 38,
   "metadata": {},
   "outputs": [
    {
     "name": "stdout",
     "output_type": "stream",
     "text": [
      "2\n",
      "3 ABC\n",
      "AAABBBCCC\n",
      "5 /fgf\n",
      "/////fffffgggggfffff\n"
     ]
    }
   ],
   "source": [
    "testNum=int(input())\n",
    "\n",
    "while testNum !=0:\n",
    "    getStr=input().split()\n",
    "    getnum=getStr[0]\n",
    "    getalp=[getStr[1][i] for i in range(len(getStr[1]))]\n",
    "    printStr=''\n",
    "    for i in range(len(getalp)):\n",
    "        printStr += getalp[i]*int(getnum)    \n",
    "    print(printStr)\n",
    "    testNum -= 1"
   ]
  },
  {
   "cell_type": "markdown",
   "metadata": {
    "collapsed": true
   },
   "source": [
    "# 4. 1157번 단어 공부"
   ]
  },
  {
   "cell_type": "code",
   "execution_count": 44,
   "metadata": {},
   "outputs": [
    {
     "name": "stdout",
     "output_type": "stream",
     "text": [
      "baaa\n"
     ]
    }
   ],
   "source": [
    "getStr=input()"
   ]
  },
  {
   "cell_type": "code",
   "execution_count": 45,
   "metadata": {},
   "outputs": [
    {
     "name": "stdout",
     "output_type": "stream",
     "text": [
      "{'A': 0, 'B': 0, 'C': 0, 'D': 0, 'E': 0, 'F': 0, 'G': 0, 'H': 0, 'I': 0, 'J': 0, 'K': 0, 'L': 0, 'M': 0, 'N': 0, 'O': 0, 'P': 0, 'Q': 0, 'R': 0, 'S': 0, 'T': 0, 'U': 0, 'V': 0, 'W': 0, 'X': 0, 'Y': 0, 'Z': 0}\n"
     ]
    }
   ],
   "source": [
    "alpDict={chr(i):0 for i in range(ord('A'),ord('Z')+1)}\n",
    "print(alpDict)"
   ]
  },
  {
   "cell_type": "code",
   "execution_count": 46,
   "metadata": {},
   "outputs": [
    {
     "name": "stdout",
     "output_type": "stream",
     "text": [
      "97 65 32\n",
      "122 90 32\n"
     ]
    }
   ],
   "source": [
    "print(ord('a'), ord('A'),ord('a')- ord('A'))\n",
    "print(ord('z'), ord('Z'),ord('z')- ord('Z'))"
   ]
  },
  {
   "cell_type": "code",
   "execution_count": 47,
   "metadata": {},
   "outputs": [
    {
     "data": {
      "text/plain": [
       "4"
      ]
     },
     "execution_count": 47,
     "metadata": {},
     "output_type": "execute_result"
    }
   ],
   "source": [
    "len(getStr)"
   ]
  },
  {
   "cell_type": "code",
   "execution_count": 48,
   "metadata": {},
   "outputs": [
    {
     "name": "stdout",
     "output_type": "stream",
     "text": [
      "{'A': 3, 'B': 1, 'C': 0, 'D': 0, 'E': 0, 'F': 0, 'G': 0, 'H': 0, 'I': 0, 'J': 0, 'K': 0, 'L': 0, 'M': 0, 'N': 0, 'O': 0, 'P': 0, 'Q': 0, 'R': 0, 'S': 0, 'T': 0, 'U': 0, 'V': 0, 'W': 0, 'X': 0, 'Y': 0, 'Z': 0}\n"
     ]
    }
   ],
   "source": [
    "for i in range(len(getStr)):\n",
    "    if ord(getStr[i]) > 90:\n",
    "        alpDict[chr(ord(getStr[i])-32)] +=1\n",
    "    else:\n",
    "        alpDict[getStr[i]] +=1\n",
    "\n",
    "print(alpDict)    "
   ]
  },
  {
   "cell_type": "code",
   "execution_count": 49,
   "metadata": {},
   "outputs": [
    {
     "name": "stdout",
     "output_type": "stream",
     "text": [
      "A\n"
     ]
    }
   ],
   "source": [
    "maxalp=''\n",
    "maxnum=0\n",
    "for i in sorted(alpDict.keys()):\n",
    "    if alpDict[i] >= maxnum:\n",
    "        if alpDict[i] > maxnum:\n",
    "            maxalp=''\n",
    "        maxalp+=i\n",
    "        maxnum=alpDict[i]\n",
    "        \n",
    "if len(maxalp) >1:\n",
    "    print('?')\n",
    "elif len(maxalp) == 1:\n",
    "    print(maxalp)"
   ]
  },
  {
   "cell_type": "code",
   "execution_count": 50,
   "metadata": {},
   "outputs": [
    {
     "name": "stdout",
     "output_type": "stream",
     "text": [
      "3\n"
     ]
    }
   ],
   "source": [
    "print(maxnum)"
   ]
  },
  {
   "cell_type": "code",
   "execution_count": 51,
   "metadata": {},
   "outputs": [
    {
     "name": "stdout",
     "output_type": "stream",
     "text": [
      "A\n"
     ]
    }
   ],
   "source": [
    "print(maxalp)"
   ]
  },
  {
   "cell_type": "code",
   "execution_count": 60,
   "metadata": {},
   "outputs": [
    {
     "name": "stdout",
     "output_type": "stream",
     "text": [
      "baaa\n",
      "A\n"
     ]
    }
   ],
   "source": [
    "getStr=input()\n",
    "alpDict={chr(i):0 for i in range(ord('A'),ord('Z')+1)}\n",
    "for i in range(len(getStr)):\n",
    "    if ord(getStr[i]) > 90:\n",
    "        alpDict[chr(ord(getStr[i])-32)] +=1\n",
    "    else:\n",
    "        alpDict[getStr[i]] +=1\n",
    "        \n",
    "maxalp=''\n",
    "maxnum=0\n",
    "for i in alpDict.keys():\n",
    "    if alpDict[i] >= maxnum:\n",
    "        if alpDict[i] > maxnum:\n",
    "            maxalp=''\n",
    "        maxalp+=i\n",
    "        maxnum=alpDict[i]\n",
    "        \n",
    "if len(maxalp) >1:\n",
    "    print('?')\n",
    "elif len(maxalp) == 1:\n",
    "    print(maxalp)      "
   ]
  },
  {
   "cell_type": "code",
   "execution_count": 56,
   "metadata": {},
   "outputs": [
    {
     "name": "stdout",
     "output_type": "stream",
     "text": [
      "baaa\n",
      "A\n"
     ]
    }
   ],
   "source": [
    "\n",
    "word = input().upper() \n",
    "dic = {chr(i):0 for i in range(65,91)} \n",
    "for key in dic.keys(): \n",
    "    dic[key] = word.count(key) \n",
    "value = list(dic.values()) \n",
    "value.sort() \n",
    "value.reverse() \n",
    "if value[0] == value[1]: \n",
    "    print(\"?\") \n",
    "else: \n",
    "    for key in dic.keys(): \n",
    "        if dic[key] == value[0]: \n",
    "            print(key) \n",
    "            break \n"
   ]
  },
  {
   "cell_type": "code",
   "execution_count": 58,
   "metadata": {},
   "outputs": [
    {
     "name": "stdout",
     "output_type": "stream",
     "text": [
      "Mississipi\n"
     ]
    }
   ],
   "source": [
    "word = input().upper() \n",
    "dic = {chr(i):0 for i in range(65,91)} "
   ]
  },
  {
   "cell_type": "code",
   "execution_count": 65,
   "metadata": {},
   "outputs": [
    {
     "data": {
      "text/plain": [
       "'MISSISSIPI'"
      ]
     },
     "execution_count": 65,
     "metadata": {},
     "output_type": "execute_result"
    }
   ],
   "source": [
    "word"
   ]
  },
  {
   "cell_type": "code",
   "execution_count": 59,
   "metadata": {},
   "outputs": [
    {
     "data": {
      "text/plain": [
       "{'A': 0,\n",
       " 'B': 0,\n",
       " 'C': 0,\n",
       " 'D': 0,\n",
       " 'E': 0,\n",
       " 'F': 0,\n",
       " 'G': 0,\n",
       " 'H': 0,\n",
       " 'I': 4,\n",
       " 'J': 0,\n",
       " 'K': 0,\n",
       " 'L': 0,\n",
       " 'M': 1,\n",
       " 'N': 0,\n",
       " 'O': 0,\n",
       " 'P': 1,\n",
       " 'Q': 0,\n",
       " 'R': 0,\n",
       " 'S': 4,\n",
       " 'T': 0,\n",
       " 'U': 0,\n",
       " 'V': 0,\n",
       " 'W': 0,\n",
       " 'X': 0,\n",
       " 'Y': 0,\n",
       " 'Z': 0}"
      ]
     },
     "execution_count": 59,
     "metadata": {},
     "output_type": "execute_result"
    }
   ],
   "source": [
    "for key in dic.keys(): \n",
    "    dic[key] = word.count(key) \n",
    "    \n",
    "dic"
   ]
  },
  {
   "cell_type": "code",
   "execution_count": 64,
   "metadata": {},
   "outputs": [
    {
     "data": {
      "text/plain": [
       "4"
      ]
     },
     "execution_count": 64,
     "metadata": {},
     "output_type": "execute_result"
    }
   ],
   "source": [
    "word.count('S')"
   ]
  },
  {
   "cell_type": "code",
   "execution_count": 67,
   "metadata": {},
   "outputs": [
    {
     "data": {
      "text/plain": [
       "[0, 0, 0, 0, 0, 0, 0, 0, 0, 0, 0, 0, 0, 0, 0, 0, 0, 0, 0, 0, 0, 0, 1, 1, 4, 4]"
      ]
     },
     "execution_count": 67,
     "metadata": {},
     "output_type": "execute_result"
    }
   ],
   "source": [
    "value = list(dic.values()) \n",
    "value.sort() \n",
    "value"
   ]
  },
  {
   "cell_type": "code",
   "execution_count": 66,
   "metadata": {},
   "outputs": [
    {
     "data": {
      "text/plain": [
       "[4, 4, 1, 1, 0, 0, 0, 0, 0, 0, 0, 0, 0, 0, 0, 0, 0, 0, 0, 0, 0, 0, 0, 0, 0, 0]"
      ]
     },
     "execution_count": 66,
     "metadata": {},
     "output_type": "execute_result"
    }
   ],
   "source": [
    "value.reverse() \n",
    "value"
   ]
  },
  {
   "cell_type": "code",
   "execution_count": 56,
   "metadata": {},
   "outputs": [
    {
     "name": "stdout",
     "output_type": "stream",
     "text": [
      "baaa\n",
      "A\n"
     ]
    }
   ],
   "source": [
    "if value[0] == value[1]: \n",
    "    print(\"?\") \n",
    "else: \n",
    "    for key in dic.keys(): \n",
    "        if dic[key] == value[0]: \n",
    "            print(key) \n",
    "            break "
   ]
  },
  {
   "cell_type": "code",
   "execution_count": 56,
   "metadata": {},
   "outputs": [
    {
     "name": "stdout",
     "output_type": "stream",
     "text": [
      "baaa\n",
      "A\n"
     ]
    }
   ],
   "source": [
    "\n",
    "getStr = input().upper() \n",
    "dic = {chr(i):0 for i in range(65,91)} \n",
    "for key in dic.keys(): \n",
    "    dic[key] = word.count(key) \n",
    "value = list(dic.values()) \n",
    "value.sort() \n",
    "value.reverse() \n",
    "if value[0] == value[1]: \n",
    "    print(\"?\") \n",
    "else: \n",
    "    for key in dic.keys(): \n",
    "        if dic[key] == value[0]: \n",
    "            print(key) \n",
    "            break \n"
   ]
  },
  {
   "cell_type": "code",
   "execution_count": 69,
   "metadata": {},
   "outputs": [
    {
     "name": "stdout",
     "output_type": "stream",
     "text": [
      "Mississipi\n",
      "?\n"
     ]
    }
   ],
   "source": [
    "getStr = input().upper() \n",
    "alpDict={chr(i):0 for i in range(ord('A'),ord('Z')+1)}\n",
    "        \n",
    "for i in alpDict.keys():\n",
    "    alpDict[i]=getStr.count(i)\n",
    "        \n",
    "maxalp=''\n",
    "maxnum=0\n",
    "for i in alpDict.keys():\n",
    "    if alpDict[i] >= maxnum:\n",
    "        if alpDict[i] > maxnum:\n",
    "            maxalp=''\n",
    "        maxalp+=i\n",
    "        maxnum=alpDict[i]\n",
    "        \n",
    "if len(maxalp) >1:\n",
    "    print('?')\n",
    "elif len(maxalp) == 1:\n",
    "    print(maxalp)      "
   ]
  },
  {
   "cell_type": "code",
   "execution_count": null,
   "metadata": {
    "collapsed": true
   },
   "outputs": [],
   "source": []
  }
 ],
 "metadata": {
  "kernelspec": {
   "display_name": "Python 3",
   "language": "python",
   "name": "python3"
  },
  "language_info": {
   "codemirror_mode": {
    "name": "ipython",
    "version": 3
   },
   "file_extension": ".py",
   "mimetype": "text/x-python",
   "name": "python",
   "nbconvert_exporter": "python",
   "pygments_lexer": "ipython3",
   "version": "3.6.9"
  }
 },
 "nbformat": 4,
 "nbformat_minor": 2
}

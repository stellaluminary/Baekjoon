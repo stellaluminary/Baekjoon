{
 "cells": [
  {
   "cell_type": "code",
   "execution_count": 37,
   "metadata": {},
   "outputs": [
    {
     "name": "stdout",
     "output_type": "stream",
     "text": [
      "5 50\n"
     ]
    }
   ],
   "source": [
    "M,N = map(int,input().split())"
   ]
  },
  {
   "cell_type": "markdown",
   "metadata": {},
   "source": [
    "https://stackoverflow.com/questions/5811151/why-do-we-check-up-to-the-square-root-of-a-prime-number-to-determine-if-it-is-pr/5813926#5813926"
   ]
  },
  {
   "cell_type": "markdown",
   "metadata": {},
   "source": [
    "에라토스테네스의 체\n",
    "\n",
    "https://ko.wikipedia.org/wiki/%EC%97%90%EB%9D%BC%ED%86%A0%EC%8A%A4%ED%85%8C%EB%84%A4%EC%8A%A4%EC%9D%98_%EC%B2%B4"
   ]
  },
  {
   "cell_type": "code",
   "execution_count": 38,
   "metadata": {},
   "outputs": [],
   "source": [
    "def is_prime(M, N):\n",
    "    result = []\n",
    "    \n",
    "    if N == 1:\n",
    "        return result\n",
    "    \n",
    "    # seive = 체\n",
    "    seive = [0] * 2 + [1] * (N-1) # [0,1,2,3,4,5,6,...N번째] => [0,0,1,1,1,1,...1]   \n",
    "    \n",
    "    for i in range(2, int(pow(N,0.5))+1):\n",
    "        if seive[i]:\n",
    "            seive[i+i::i] = [0] * int((N-i)/i) #i+i인 이유 자기 자신을 제외한 것을 체에 거르기위해서            \n",
    "    \n",
    "    for i in range(M, N+1):\n",
    "        if seive[i]:\n",
    "            result.append(i)\n",
    "    return result    "
   ]
  },
  {
   "cell_type": "code",
   "execution_count": 39,
   "metadata": {},
   "outputs": [
    {
     "name": "stdout",
     "output_type": "stream",
     "text": [
      "5\n",
      "7\n",
      "11\n",
      "13\n",
      "17\n",
      "19\n",
      "23\n",
      "29\n",
      "31\n",
      "37\n",
      "41\n",
      "43\n",
      "47\n"
     ]
    }
   ],
   "source": [
    "result = is_prime(M, N)\n",
    "for i in result:\n",
    "    print(i)"
   ]
  },
  {
   "cell_type": "code",
   "execution_count": 4,
   "metadata": {},
   "outputs": [
    {
     "name": "stdout",
     "output_type": "stream",
     "text": [
      "3 16\n",
      "3\n",
      "5\n",
      "7\n",
      "11\n",
      "13\n"
     ]
    }
   ],
   "source": [
    "#https://github.com/lee-seul/baekjoon/blob/master/1929.py\n",
    "    \n",
    "import sys\n",
    "write = sys.stdout.write\n",
    "read = sys.stdin.readline\n",
    "\n",
    "m, n = map(int,input().split())\n",
    "\n",
    "def sieve(n, m):\n",
    "    if n < 2:\n",
    "        return []\n",
    "    s = [0, 0] + [1] * (n-1)\n",
    "    for i in range(2, int(n**0.5)+1):\n",
    "        if s[i]:\n",
    "            s[i*2::i] = [0] * ((n-i)//i)\n",
    "    return [i for i, v in enumerate(s) if v and i >= m]\n",
    "\n",
    "result = sieve(n, m)\n",
    "\n",
    "for i in result:\n",
    "    write(str(i)+\"\\n\") "
   ]
  },
  {
   "cell_type": "markdown",
   "metadata": {},
   "source": [
    "제출"
   ]
  },
  {
   "cell_type": "code",
   "execution_count": null,
   "metadata": {},
   "outputs": [],
   "source": [
    "M,N = map(int,input().split())\n",
    "\n",
    "def is_prime(M, N):\n",
    "    result = []\n",
    "    \n",
    "    if N == 1:\n",
    "        return result\n",
    "    \n",
    "    # seive = 체\n",
    "    seive = [0] * 2 + [1] * (N-1) # [0,1,2,3,4,5,6,...N번째] => [0,0,1,1,1,1,...1]   \n",
    "    \n",
    "    for i in range(2, int(pow(N,0.5))+1):\n",
    "        if seive[i]:\n",
    "            seive[i+i::i] = [0] * int((N-i)/i) #i+i인 이유 자기 자신을 제외한 것을 체에 거르기위해서            \n",
    "    \n",
    "    for i in range(M, N+1):\n",
    "        if seive[i]:\n",
    "            result.append(i)\n",
    "    return result    \n",
    "\n",
    "result = is_prime(M, N)\n",
    "for i in result:\n",
    "    print(i)"
   ]
  }
 ],
 "metadata": {
  "kernelspec": {
   "display_name": "Python [conda env:tf20] *",
   "language": "python",
   "name": "conda-env-tf20-py"
  },
  "language_info": {
   "codemirror_mode": {
    "name": "ipython",
    "version": 3
   },
   "file_extension": ".py",
   "mimetype": "text/x-python",
   "name": "python",
   "nbconvert_exporter": "python",
   "pygments_lexer": "ipython3",
   "version": "3.6.9"
  }
 },
 "nbformat": 4,
 "nbformat_minor": 2
}

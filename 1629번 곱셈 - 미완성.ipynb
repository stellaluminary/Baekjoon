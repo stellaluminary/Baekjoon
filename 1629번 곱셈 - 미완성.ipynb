{
 "cells": [
  {
   "cell_type": "markdown",
   "metadata": {},
   "source": [
    "# 1629번 곱셈\n",
    "- URL : https://www.acmicpc.net/problem/1629"
   ]
  },
  {
   "cell_type": "code",
   "execution_count": 13,
   "metadata": {},
   "outputs": [
    {
     "name": "stdout",
     "output_type": "stream",
     "text": [
      "10 11 12\n"
     ]
    }
   ],
   "source": [
    "a,b,c=list(map(int,input().split()))"
   ]
  },
  {
   "cell_type": "code",
   "execution_count": 14,
   "metadata": {},
   "outputs": [
    {
     "data": {
      "text/plain": [
       "(10, 11, 12)"
      ]
     },
     "execution_count": 14,
     "metadata": {},
     "output_type": "execute_result"
    }
   ],
   "source": [
    "a,b,c"
   ]
  },
  {
   "cell_type": "code",
   "execution_count": 15,
   "metadata": {},
   "outputs": [
    {
     "name": "stdout",
     "output_type": "stream",
     "text": [
      "4\n"
     ]
    }
   ],
   "source": [
    "t = 1\n",
    "for i in range(b):\n",
    "    t*=a\n",
    "print(t%c)"
   ]
  },
  {
   "cell_type": "markdown",
   "metadata": {},
   "source": [
    "# 제출 1 - 시간 초과"
   ]
  },
  {
   "cell_type": "code",
   "execution_count": null,
   "metadata": {},
   "outputs": [],
   "source": [
    "a,b,c=list(map(int,input().split()))\n",
    "t = 1\n",
    "for i in range(b):\n",
    "    t*=a\n",
    "print(t%c)"
   ]
  },
  {
   "cell_type": "code",
   "execution_count": null,
   "metadata": {},
   "outputs": [],
   "source": [
    "import sys\n",
    "a,b,c=list(map(int,sys.stdin.readline().split()))\n",
    "t = 1\n",
    "for i in range(b):\n",
    "    t*=a\n",
    "print(t%c)"
   ]
  },
  {
   "cell_type": "markdown",
   "metadata": {},
   "source": [
    "# 제출 2 - 메모리 초과\n",
    "- 분할 정복이라는 생각으로 곱셈 자체를 내가 분리해봐서 해봤는데 역시나 이 방법은 오히려 역효과"
   ]
  },
  {
   "cell_type": "code",
   "execution_count": null,
   "metadata": {},
   "outputs": [],
   "source": [
    "import sys\n",
    "a,b,c=list(map(int, sys.stdin.readline().split()))\n",
    "sys.setrecursionlimit(2000000000)\t\n",
    "a = str(a)\n",
    "lea = len(a)//2\n",
    "t=a\n",
    "\n",
    "def recur(a,b):\n",
    "    global t,lea\n",
    "    if b==1:return t\n",
    "    al = a[:lea]\n",
    "    ar = a[lea:]\n",
    "    t = recur(a,b-1)\n",
    "    let = len(t)//2\n",
    "    tl = t[:let]\n",
    "    tr = t[let:] \n",
    "    ur = int(tr)*int(ar)\n",
    "    ul = int(tl)*int(ar)\n",
    "    dr = int(tr)*int(al)\n",
    "    dl = int(tl)*int(al)\n",
    "    result1 = ul*10**let+ur\n",
    "    result2 = dl*10**let+dr\n",
    "    t = str(result2*10**lea+result1)\n",
    "    return t    \n",
    "print(int(recur(a,b))%c)"
   ]
  },
  {
   "cell_type": "markdown",
   "metadata": {},
   "source": [
    "# 제출 3 - \n",
    "- "
   ]
  },
  {
   "cell_type": "code",
   "execution_count": 116,
   "metadata": {},
   "outputs": [
    {
     "name": "stdout",
     "output_type": "stream",
     "text": [
      "=======================\n",
      "7895 b 2 7895\n",
      "2 78 95\n",
      "2 78 95\n",
      "9025 7410 7410 6084\n",
      "62331025\n",
      "=======================\n",
      "7895 b 3 62331025\n",
      "4 6233 1025\n",
      "2 78 95\n",
      "97375 592135 79950 486174\n",
      "492103442375\n",
      "=======================\n",
      "7895 b 4 492103442375\n",
      "6 492103 442375\n",
      "2 78 95\n",
      "42025625 46749785 34505250 38384034\n",
      "3885156677550625\n"
     ]
    },
    {
     "data": {
      "text/plain": [
       "'3885156677550625'"
      ]
     },
     "execution_count": 116,
     "metadata": {},
     "output_type": "execute_result"
    }
   ],
   "source": [
    "a,b,c=list(map(int, input().split()))\n",
    "a = str(a)\n",
    "lea = len(a)//2\n",
    "t=a\n",
    "def recur(a,b):\n",
    "    global t,lea\n",
    "    if b==1:return t\n",
    "    # a는 고정\n",
    "    al = a[:lea]\n",
    "    ar = a[lea:]\n",
    "    # t는 누적\n",
    "    t = recur(a,b-1)\n",
    "    print('=======================')\n",
    "    print(a,'b',b,t)\n",
    "    let = len(t)//2\n",
    "    tl = t[:let]\n",
    "    tr = t[let:]\n",
    "    print(let,tl,tr)\n",
    "    print(lea,al,ar)    \n",
    "    ur = int(tr)*int(ar)\n",
    "    ul = int(tl)*int(ar)\n",
    "    dr = int(tr)*int(al)\n",
    "    dl = int(tl)*int(al)\n",
    "    print(ur,ul,dr,dl)\n",
    "    result1 = ul*10**let+ur\n",
    "    result2 = dl*10**let+dr\n",
    "    t = str(result2*10**lea+result1)\n",
    "    print(t)\n",
    "    return t\n",
    "    \n",
    "recur(a,b)"
   ]
  },
  {
   "cell_type": "code",
   "execution_count": null,
   "metadata": {},
   "outputs": [],
   "source": []
  }
 ],
 "metadata": {
  "kernelspec": {
   "display_name": "tf20",
   "language": "python",
   "name": "tf20"
  },
  "language_info": {
   "codemirror_mode": {
    "name": "ipython",
    "version": 3
   },
   "file_extension": ".py",
   "mimetype": "text/x-python",
   "name": "python",
   "nbconvert_exporter": "python",
   "pygments_lexer": "ipython3",
   "version": "3.7.4"
  }
 },
 "nbformat": 4,
 "nbformat_minor": 2
}

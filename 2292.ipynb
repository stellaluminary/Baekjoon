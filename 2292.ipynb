{
 "cells": [
  {
   "cell_type": "code",
   "execution_count": 5,
   "metadata": {},
   "outputs": [
    {
     "name": "stdout",
     "output_type": "stream",
     "text": [
      "58\n"
     ]
    }
   ],
   "source": [
    "getbee=int(input())"
   ]
  },
  {
   "cell_type": "code",
   "execution_count": 10,
   "metadata": {},
   "outputs": [
    {
     "name": "stdout",
     "output_type": "stream",
     "text": [
      "value: 1 \t n= 1 \t rommNum= 1\n",
      "value: 7 \t n= 3 \t rommNum= 2\n",
      "value: 19 \t n= 6 \t rommNum= 3\n",
      "value: 37 \t n= 10 \t rommNum= 4\n",
      "value: 61 \t n= 15 \t rommNum= 5\n",
      "5\n"
     ]
    }
   ],
   "source": [
    "roomNum=1\n",
    "value=1\n",
    "n=0\n",
    "for i in range(1,getbee):\n",
    "    value = 6*n+1\n",
    "    n += i\n",
    "    print('value:',value,'\\t n=',n,'\\t rommNum=',roomNum)\n",
    "    if value >= getbee:\n",
    "        print(roomNum)\n",
    "        break    \n",
    "    roomNum += 1"
   ]
  },
  {
   "cell_type": "code",
   "execution_count": 33,
   "metadata": {},
   "outputs": [
    {
     "name": "stdout",
     "output_type": "stream",
     "text": [
      "62\n",
      "value: 1 \t n= 0 \t rommNum= 2\n",
      "value: 7 \t n= 1 \t rommNum= 3\n",
      "value: 19 \t n= 3 \t rommNum= 4\n",
      "value: 37 \t n= 6 \t rommNum= 5\n",
      "value: 61 \t n= 10 \t rommNum= 6\n",
      "value: 91 \t n= 15 \t rommNum= 7\n",
      "6\n"
     ]
    }
   ],
   "source": [
    "getbee=int(input())\n",
    "roomNum=1\n",
    "value=1\n",
    "n=0\n",
    "for i in range(getbee):\n",
    "    n += i\n",
    "    value = 6*n+1\n",
    "    roomNum += 1\n",
    "    if value >= getbee:\n",
    "        print(roomNum-1)\n",
    "        break    "
   ]
  }
 ],
 "metadata": {
  "kernelspec": {
   "display_name": "Python 3",
   "language": "python",
   "name": "python3"
  },
  "language_info": {
   "codemirror_mode": {
    "name": "ipython",
    "version": 3
   },
   "file_extension": ".py",
   "mimetype": "text/x-python",
   "name": "python",
   "nbconvert_exporter": "python",
   "pygments_lexer": "ipython3",
   "version": "3.6.9"
  }
 },
 "nbformat": 4,
 "nbformat_minor": 2
}

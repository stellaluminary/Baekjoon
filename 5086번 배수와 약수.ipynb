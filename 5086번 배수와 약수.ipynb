{
 "cells": [
  {
   "cell_type": "markdown",
   "metadata": {},
   "source": [
    "# 5086번 배수와 약수\n",
    "\n",
    "URL : https://www.acmicpc.net/problem/5086<br>\n",
    "출처 : ACM-ICPC  > Regionals  > South Pacific  > South Pacific Region  > New Zealand Programming Contest  > NZPC 2011A번 <br>\n",
    "알고리즘 분류 : 수학 3"
   ]
  },
  {
   "cell_type": "markdown",
   "metadata": {},
   "source": [
    "# 제출 - 286B 56ms"
   ]
  },
  {
   "cell_type": "code",
   "execution_count": null,
   "metadata": {},
   "outputs": [],
   "source": [
    "a =[]\n",
    "while len(a)==0 or a[-1][0] != 0 and a[-1][1] != 0:\n",
    "    a.append(list(map(int, input().split())))\n",
    "    \n",
    "for i in range(len(a)-1):\n",
    "    if a[i][1] % a[i][0] == 0:\n",
    "        print(\"factor\")\n",
    "    elif a[i][0] % a[i][1] == 0:\n",
    "        print(\"multiple\")\n",
    "    else:\n",
    "        print(\"neither\")   "
   ]
  },
  {
   "cell_type": "code",
   "execution_count": null,
   "metadata": {},
   "outputs": [],
   "source": [
    "print(8 % 16)\n",
    "print(32 % 4)"
   ]
  },
  {
   "cell_type": "markdown",
   "metadata": {},
   "source": [
    "# 발전 - 231B 56ms"
   ]
  },
  {
   "cell_type": "code",
   "execution_count": null,
   "metadata": {},
   "outputs": [],
   "source": [
    "while True:\n",
    "    a = list(map(int, input().split()))\n",
    "    \n",
    "    if a[0] == 0: #if a[0]+a[1] == 0:를 사용하면 56ms\n",
    "        break\n",
    "    \n",
    "    if a[1] % a[0] == 0:\n",
    "        print(\"factor\")\n",
    "    elif a[0] % a[1] == 0:\n",
    "        print(\"multiple\")\n",
    "    else:\n",
    "        print(\"neither\")   "
   ]
  },
  {
   "cell_type": "markdown",
   "metadata": {},
   "source": [
    "## 181B 56ms"
   ]
  },
  {
   "cell_type": "code",
   "execution_count": null,
   "metadata": {},
   "outputs": [],
   "source": [
    "while True:\n",
    "    a,b = list(map(int, input().split()))    \n",
    "    if a == 0:break    \n",
    "    if b % a == 0:print(\"factor\")\n",
    "    elif a % b == 0:print(\"multiple\")\n",
    "    else:print(\"neither\")  "
   ]
  },
  {
   "cell_type": "markdown",
   "metadata": {},
   "source": [
    "## 178B 56ms"
   ]
  },
  {
   "cell_type": "code",
   "execution_count": null,
   "metadata": {},
   "outputs": [],
   "source": [
    "while True:\n",
    "    a,b = list(map(int, input().split()))    \n",
    "    if not a:break    \n",
    "    if not b % a:print(\"factor\")\n",
    "    elif not a % b:print(\"multiple\")\n",
    "    else:print(\"neither\")  "
   ]
  },
  {
   "cell_type": "markdown",
   "metadata": {},
   "source": [
    "## 135B 56ms"
   ]
  },
  {
   "cell_type": "code",
   "execution_count": null,
   "metadata": {},
   "outputs": [],
   "source": [
    "while 1:\n",
    "    a,b=map(int,input().split())\n",
    "    if a==0:break\n",
    "    if b%a==0:print(\"factor\")\n",
    "    else:print([\"multiple\",\"neither\"][a%b>0])"
   ]
  },
  {
   "cell_type": "markdown",
   "metadata": {},
   "source": [
    "## 122B 56ms indentation이 스페이스 2칸이냐 tab(4칸)이냐"
   ]
  },
  {
   "cell_type": "code",
   "execution_count": null,
   "metadata": {},
   "outputs": [],
   "source": [
    "while 1:\n",
    " a,b=map(int,input().split())\n",
    " if a<1:break\n",
    " if b%a==0:print(\"factor\")\n",
    " else:print([\"multiple\",\"neither\"][a%b>0])"
   ]
  },
  {
   "cell_type": "markdown",
   "metadata": {},
   "source": [
    "## 125B 56ms"
   ]
  },
  {
   "cell_type": "code",
   "execution_count": null,
   "metadata": {},
   "outputs": [],
   "source": [
    "while 1:\n",
    " a,b=map(int,input().split())\n",
    " if not a:break\n",
    " if not b%a:print(\"factor\")\n",
    " else:print([\"multiple\",\"neither\"][a%b>0])"
   ]
  },
  {
   "cell_type": "markdown",
   "metadata": {},
   "source": [
    "# 1등 코드 - changhw, 131B 52ms"
   ]
  },
  {
   "cell_type": "code",
   "execution_count": null,
   "metadata": {},
   "outputs": [],
   "source": [
    "while 1:\n",
    " a,b=map(int,input().split())\n",
    " if a<1 and b<1:break\n",
    " if b%a==0:print(\"factor\")\n",
    " else:print([\"multiple\",\"neither\"][a%b>0])\n"
   ]
  },
  {
   "cell_type": "code",
   "execution_count": null,
   "metadata": {},
   "outputs": [],
   "source": [
    "while 1:\n",
    "    a,b=map(int,input().split())\n",
    "    if a<1 and b<1:break\n",
    "    if b%a==0:print(\"factor\")\n",
    "    else:print([\"multiple\",\"neither\"][a%b>0])"
   ]
  },
  {
   "cell_type": "code",
   "execution_count": null,
   "metadata": {},
   "outputs": [],
   "source": [
    "p1= 3\n",
    "p2=5\n",
    "print(1 if p1>p2 else 2)\n",
    "print([1,2][p1>p2]) # 조건이 거짓이면 1번"
   ]
  },
  {
   "cell_type": "code",
   "execution_count": null,
   "metadata": {},
   "outputs": [],
   "source": [
    "p1=8\n",
    "p2=16\n",
    "print(1 if p1>p2 else 2)\n",
    "print([p1,p2][not p1%p2])"
   ]
  },
  {
   "cell_type": "markdown",
   "metadata": {},
   "source": [
    "# baehyunsol, 171B 52ms -> 56ms"
   ]
  },
  {
   "cell_type": "code",
   "execution_count": null,
   "metadata": {},
   "outputs": [],
   "source": [
    "while True:\n",
    "\ta, b = list(map(int, input().split()))\n",
    "\n",
    "\tif a == 0:\n",
    "\t\tbreak\n",
    "\n",
    "\tif a % b == 0:\n",
    "\t\tprint('multiple')\n",
    "\n",
    "\telif b % a == 0:\n",
    "\t\tprint('factor')\n",
    "\n",
    "\telse:\n",
    "\t\tprint('neither')"
   ]
  },
  {
   "cell_type": "markdown",
   "metadata": {},
   "source": [
    "# baehyunsol 같은 코드인데 208B 56ms"
   ]
  },
  {
   "cell_type": "code",
   "execution_count": null,
   "metadata": {},
   "outputs": [],
   "source": [
    "while True:\n",
    "    a, b = list(map(int, input().split()))    \n",
    "    if a == 0:\n",
    "        break        \n",
    "    if a % b == 0:\n",
    "        print('multiple')        \n",
    "    elif b % a == 0:\n",
    "        print('factor')        \n",
    "    else:\n",
    "        print('neither')"
   ]
  },
  {
   "cell_type": "markdown",
   "metadata": {},
   "source": [
    "# 숏코딩 sait2000 99B 64ms"
   ]
  },
  {
   "cell_type": "code",
   "execution_count": null,
   "metadata": {},
   "outputs": [],
   "source": [
    "a=1\n",
    "while a:a,b=map(int,input().split());a>0!=print('mn uefliattcihtpeolrre'[(a%b>0)+4*(b%a<1)::3])"
   ]
  },
  {
   "cell_type": "markdown",
   "metadata": {},
   "source": [
    "# changhw 107B 56ms"
   ]
  },
  {
   "cell_type": "code",
   "execution_count": null,
   "metadata": {},
   "outputs": [],
   "source": [
    "a=1\n",
    "while a:\n",
    " a,b=map(int,input().split())\n",
    " a>0!=print(\"factor\"if b%a<1 else[\"multiple\",\"neither\"][a%b>0])"
   ]
  },
  {
   "cell_type": "markdown",
   "metadata": {},
   "source": [
    "# lstar 120B 56ms"
   ]
  },
  {
   "cell_type": "code",
   "execution_count": null,
   "metadata": {},
   "outputs": [],
   "source": [
    "a,b=0,1\n",
    "while a!=b:a,b=map(int,input().split());print((\"neither\"if a%b else\"multiple\")if b%a else\"factor\")if a!=b else 0"
   ]
  },
  {
   "cell_type": "markdown",
   "metadata": {},
   "source": [
    "# 최종 코드 - 108B 56ms 숏코딩 3등 - python부분"
   ]
  },
  {
   "cell_type": "code",
   "execution_count": null,
   "metadata": {},
   "outputs": [],
   "source": [
    "a=1\n",
    "while a:a,b=map(int,input().split());a>0!=print((\"neither\" if b%a else \"factor\") if a%b else \"multiple\")"
   ]
  },
  {
   "cell_type": "markdown",
   "metadata": {},
   "source": [
    "# 최종 코드 업그레이드 - 103B 52ms 숏코딩 2등"
   ]
  },
  {
   "cell_type": "code",
   "execution_count": null,
   "metadata": {},
   "outputs": [],
   "source": [
    "a=1\n",
    "while a:a,b=map(int,input().split());a>0!=print([\"factor\",\"neither\"][b%a>0] if a%b else \"multiple\")"
   ]
  }
 ],
 "metadata": {
  "kernelspec": {
   "display_name": "tf20",
   "language": "python",
   "name": "tf20"
  },
  "language_info": {
   "codemirror_mode": {
    "name": "ipython",
    "version": 3
   },
   "file_extension": ".py",
   "mimetype": "text/x-python",
   "name": "python",
   "nbconvert_exporter": "python",
   "pygments_lexer": "ipython3",
   "version": "3.7.4"
  }
 },
 "nbformat": 4,
 "nbformat_minor": 2
}

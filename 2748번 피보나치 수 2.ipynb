{
 "cells": [
  {
   "cell_type": "markdown",
   "metadata": {},
   "source": [
    "# 2748번 피보나치 수 2\n",
    "\n",
    "URL : https://www.acmicpc.net/problem/2748"
   ]
  },
  {
   "cell_type": "code",
   "execution_count": 1,
   "metadata": {},
   "outputs": [
    {
     "name": "stdout",
     "output_type": "stream",
     "text": [
      "10\n"
     ]
    }
   ],
   "source": [
    "N = int(input())"
   ]
  },
  {
   "cell_type": "code",
   "execution_count": 3,
   "metadata": {},
   "outputs": [
    {
     "data": {
      "text/plain": [
       "55"
      ]
     },
     "execution_count": 3,
     "metadata": {},
     "output_type": "execute_result"
    }
   ],
   "source": [
    "def fibonacci(N):\n",
    "    f_1 = 0\n",
    "    f_2 = 1\n",
    "    \n",
    "    if N == 1:\n",
    "        return 1\n",
    "    for i in range(N-1):\n",
    "        f = f_1 + f_2\n",
    "        f_1 = f_2\n",
    "        f_2 = f\n",
    "        \n",
    "    return f\n",
    "\n",
    "print(fibonacci(N))"
   ]
  },
  {
   "cell_type": "markdown",
   "metadata": {},
   "source": [
    "# 숏코딩"
   ]
  },
  {
   "cell_type": "code",
   "execution_count": 5,
   "metadata": {},
   "outputs": [
    {
     "name": "stdout",
     "output_type": "stream",
     "text": [
      "10\n",
      "55\n"
     ]
    }
   ],
   "source": [
    "a,b=0,1; exec(\"a,b=b,a+b;\" *int(input())); print(a)"
   ]
  },
  {
   "cell_type": "code",
   "execution_count": 8,
   "metadata": {},
   "outputs": [
    {
     "name": "stdout",
     "output_type": "stream",
     "text": [
      "10\n",
      "1 0 1\n",
      "0 1 1\n",
      "1 1 2\n",
      "1 2 3\n",
      "2 3 5\n",
      "3 5 8\n",
      "5 8 13\n",
      "8 13 21\n",
      "13 21 34\n",
      "21 34 55\n",
      "55\n"
     ]
    }
   ],
   "source": [
    "a=1\n",
    "b=0\n",
    "for _ in range(int(input())):print(a,b,a+b);a,b=b,a+b; \n",
    "print(b)"
   ]
  }
 ],
 "metadata": {
  "kernelspec": {
   "display_name": "Python [conda env:tf20] *",
   "language": "python",
   "name": "conda-env-tf20-py"
  },
  "language_info": {
   "codemirror_mode": {
    "name": "ipython",
    "version": 3
   },
   "file_extension": ".py",
   "mimetype": "text/x-python",
   "name": "python",
   "nbconvert_exporter": "python",
   "pygments_lexer": "ipython3",
   "version": "3.6.9"
  }
 },
 "nbformat": 4,
 "nbformat_minor": 2
}

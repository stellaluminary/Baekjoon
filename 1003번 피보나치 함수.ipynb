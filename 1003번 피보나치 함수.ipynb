{
 "cells": [
  {
   "cell_type": "markdown",
   "metadata": {},
   "source": [
    "# 1003번 피보나치 함수\n",
    "\n",
    "URL : https://www.acmicpc.net/problem/1003"
   ]
  },
  {
   "cell_type": "markdown",
   "metadata": {},
   "source": [
    "|f|0 개수|1 개수|\n",
    "|--|--|--|\n",
    "|0|1|0|\n",
    "|1|0|1|\n",
    "|2|1(1+0)|1(0+1)|\n",
    "|3|1(0+1)|2(1+1)|\n",
    "|4|2(1+1)|3(1+2)|\n",
    "|5|3(1+2)|5(2+3)|\n",
    "|6|5(2+3)|8(3+5)|\n"
   ]
  },
  {
   "cell_type": "code",
   "execution_count": 1,
   "metadata": {},
   "outputs": [
    {
     "name": "stdout",
     "output_type": "stream",
     "text": [
      "3\n"
     ]
    }
   ],
   "source": [
    "N = int(input())"
   ]
  },
  {
   "cell_type": "code",
   "execution_count": 2,
   "metadata": {},
   "outputs": [],
   "source": [
    "def fibonacci(N):\n",
    "    global sum_zero, sum_one\n",
    "    if N == 0:\n",
    "        print('0')\n",
    "        sum_zero += 1\n",
    "        return 0\n",
    "    elif N==1:\n",
    "        print('1')\n",
    "        sum_one += 1\n",
    "        return 1\n",
    "    else:\n",
    "        return fibonacci(N-1) + fibonacci(N-2)"
   ]
  },
  {
   "cell_type": "code",
   "execution_count": 3,
   "metadata": {},
   "outputs": [
    {
     "name": "stdout",
     "output_type": "stream",
     "text": [
      "3\n",
      "1\n",
      "0\n",
      "1\n",
      "1 2\n",
      "4\n",
      "1\n",
      "0\n",
      "1\n",
      "1\n",
      "0\n",
      "2 3\n",
      "5\n",
      "1\n",
      "0\n",
      "1\n",
      "1\n",
      "0\n",
      "1\n",
      "0\n",
      "1\n",
      "3 5\n"
     ]
    }
   ],
   "source": [
    "for i in range(N):\n",
    "    sum_zero = 0\n",
    "    sum_one = 0\n",
    "    fibonacci(int(input()))\n",
    "    print(sum_zero, sum_one, sep=' ')"
   ]
  },
  {
   "cell_type": "markdown",
   "metadata": {},
   "source": [
    "# 제출"
   ]
  },
  {
   "cell_type": "code",
   "execution_count": 4,
   "metadata": {},
   "outputs": [
    {
     "name": "stdout",
     "output_type": "stream",
     "text": [
      "3\n",
      "3\n",
      "1 2\n",
      "4\n",
      "2 3\n",
      "5\n",
      "3 5\n"
     ]
    }
   ],
   "source": [
    "# 시간 초과 Fail\n",
    "N = int(input())\n",
    "\n",
    "def fibonacci(N):\n",
    "    global sum_zero, sum_one\n",
    "    if N == 0:\n",
    "        sum_zero += 1\n",
    "        return 0\n",
    "    elif N==1:\n",
    "        sum_one += 1\n",
    "        return 1\n",
    "    else:\n",
    "        return fibonacci(N-1) + fibonacci(N-2)\n",
    "    \n",
    "for i in range(N):\n",
    "    sum_zero = 0\n",
    "    sum_one = 0\n",
    "    fibonacci(int(input()))\n",
    "    print(sum_zero, sum_one, sep=' ')"
   ]
  },
  {
   "cell_type": "markdown",
   "metadata": {},
   "source": [
    "|f|0 개수|1 개수|\n",
    "|--|--|--|\n",
    "|0|1|0|\n",
    "|1|0|1|\n",
    "|2|1(1+0)|1(0+1)|\n",
    "|3|1(0+1)|2(1+1)|\n",
    "|4|2(1+1)|3(1+2)|\n",
    "|5|3(1+2)|5(2+3)|\n",
    "|6|5(2+3)|8(3+5)|\n"
   ]
  },
  {
   "cell_type": "code",
   "execution_count": 5,
   "metadata": {},
   "outputs": [
    {
     "name": "stdout",
     "output_type": "stream",
     "text": [
      "3\n",
      "3\n",
      "1 2\n",
      "4\n",
      "2 3\n",
      "5\n",
      "3 5\n"
     ]
    }
   ],
   "source": [
    "N = int(input())\n",
    "\n",
    "def fibonacci(N):\n",
    "    f_0, f_1 = 1,0\n",
    "    \n",
    "    for _ in range(N):\n",
    "        f = f_0 + f_1\n",
    "        f_0 = f_1\n",
    "        f_1 = f\n",
    "    print(f_0,f_1)\n",
    "    \n",
    "for i in range(N):\n",
    "    fibonacci(int(input()))"
   ]
  },
  {
   "cell_type": "markdown",
   "metadata": {},
   "source": [
    "# 숏코딩"
   ]
  },
  {
   "cell_type": "code",
   "execution_count": 6,
   "metadata": {},
   "outputs": [
    {
     "name": "stdout",
     "output_type": "stream",
     "text": [
      "3\n",
      "3\n",
      "1 2\n",
      "4\n",
      "2 3\n",
      "5\n",
      "3 5\n"
     ]
    }
   ],
   "source": [
    "exec('a,b=1,0;exec(\"a,b=b,a+b;\"*int(input()));print(a,b);'*int(input()))"
   ]
  }
 ],
 "metadata": {
  "kernelspec": {
   "display_name": "Python [conda env:tf20] *",
   "language": "python",
   "name": "conda-env-tf20-py"
  },
  "language_info": {
   "codemirror_mode": {
    "name": "ipython",
    "version": 3
   },
   "file_extension": ".py",
   "mimetype": "text/x-python",
   "name": "python",
   "nbconvert_exporter": "python",
   "pygments_lexer": "ipython3",
   "version": "3.6.9"
  }
 },
 "nbformat": 4,
 "nbformat_minor": 2
}

{
 "cells": [
  {
   "cell_type": "markdown",
   "metadata": {},
   "source": [
    "# 1904번 01타일\n",
    "\n",
    "URL : https://www.acmicpc.net/problem/1904"
   ]
  },
  {
   "cell_type": "markdown",
   "metadata": {},
   "source": [
    "# 방법 1 - 피보나치\n",
    "우연히도 N의 값의 결과가 피보나치와 같다.\n",
    "\n",
    "|N| 총 합|\n",
    "|--|--|\n",
    "|1|1|\n",
    "|2|2|\n",
    "|3|3(=1+2)|\n",
    "|4|5(=2+3)|\n",
    "|5|8(=3+5)|\n"
   ]
  },
  {
   "cell_type": "code",
   "execution_count": 1,
   "metadata": {},
   "outputs": [
    {
     "name": "stdout",
     "output_type": "stream",
     "text": [
      "4\n"
     ]
    }
   ],
   "source": [
    "N = int(input())"
   ]
  },
  {
   "cell_type": "code",
   "execution_count": 2,
   "metadata": {},
   "outputs": [
    {
     "name": "stdout",
     "output_type": "stream",
     "text": [
      "1 1 1\n",
      "1 2 2\n",
      "2 3 3\n",
      "3 5 5\n",
      "5\n"
     ]
    }
   ],
   "source": [
    "f_0, f_1 = 0,1\n",
    "tot_num = 0\n",
    "for _ in range(N):\n",
    "    tot_num = (f_0 + f_1) % 15746\n",
    "    f_0 = f_1 % 15746\n",
    "    f_1 = tot_num\n",
    "    print(f_0, f_1, tot_num)\n",
    "print(tot_num)"
   ]
  },
  {
   "cell_type": "markdown",
   "metadata": {},
   "source": [
    "# 방법 2 - 런타임 에러가 남... 본 문제의 취지와는 다른 계산법"
   ]
  },
  {
   "cell_type": "code",
   "execution_count": 3,
   "metadata": {},
   "outputs": [
    {
     "name": "stdout",
     "output_type": "stream",
     "text": [
      "4\n"
     ]
    }
   ],
   "source": [
    "N = int(input())"
   ]
  },
  {
   "cell_type": "code",
   "execution_count": 4,
   "metadata": {},
   "outputs": [
    {
     "name": "stdout",
     "output_type": "stream",
     "text": [
      "2 0\n"
     ]
    }
   ],
   "source": [
    "tot_num = 0\n",
    "\n",
    "N_00 = N // 2\n",
    "N_1 = N % 2\n",
    "\n",
    "print(N_00, N_1)"
   ]
  },
  {
   "cell_type": "code",
   "execution_count": 5,
   "metadata": {},
   "outputs": [],
   "source": [
    "def factorial(N):\n",
    "    if N==0:\n",
    "        return 1\n",
    "    return N * factorial(N-1)"
   ]
  },
  {
   "cell_type": "code",
   "execution_count": 6,
   "metadata": {},
   "outputs": [
    {
     "data": {
      "text/plain": [
       "120"
      ]
     },
     "execution_count": 6,
     "metadata": {},
     "output_type": "execute_result"
    }
   ],
   "source": [
    "factorial(5)"
   ]
  },
  {
   "cell_type": "code",
   "execution_count": 7,
   "metadata": {},
   "outputs": [
    {
     "name": "stdout",
     "output_type": "stream",
     "text": [
      "2 2 0 1\n",
      "3 1 2 4\n"
     ]
    }
   ],
   "source": [
    "for _ in range(N // 2):\n",
    "    tot_num += factorial(N_00 + N_1) // factorial(N_00) // factorial(N_1)\n",
    "    print(N_00+N_1, N_00, N_1, tot_num)\n",
    "    N_00 -= 1\n",
    "    N_1 += 2"
   ]
  },
  {
   "cell_type": "code",
   "execution_count": 8,
   "metadata": {},
   "outputs": [],
   "source": [
    "tot_num += 1"
   ]
  },
  {
   "cell_type": "code",
   "execution_count": 9,
   "metadata": {},
   "outputs": [],
   "source": [
    "tot_num %= 15746"
   ]
  },
  {
   "cell_type": "code",
   "execution_count": 10,
   "metadata": {},
   "outputs": [
    {
     "name": "stdout",
     "output_type": "stream",
     "text": [
      "5\n"
     ]
    }
   ],
   "source": [
    "print(tot_num)"
   ]
  },
  {
   "cell_type": "markdown",
   "metadata": {},
   "source": [
    "# 제출"
   ]
  },
  {
   "cell_type": "code",
   "execution_count": 11,
   "metadata": {},
   "outputs": [
    {
     "name": "stdout",
     "output_type": "stream",
     "text": [
      "4\n",
      "5\n"
     ]
    }
   ],
   "source": [
    "# 시간 초과\n",
    "N = int(input())\n",
    "f_0, f_1 = 0,1\n",
    "tot_num = 0\n",
    "for _ in range(N):\n",
    "    tot_num = f_0 + f_1\n",
    "    f_0 = f_1\n",
    "    f_1 = tot_num    \n",
    "tot_num %= 15746\n",
    "print(tot_num)"
   ]
  },
  {
   "cell_type": "markdown",
   "metadata": {},
   "source": [
    "# 정답"
   ]
  },
  {
   "cell_type": "code",
   "execution_count": 12,
   "metadata": {},
   "outputs": [
    {
     "name": "stdout",
     "output_type": "stream",
     "text": [
      "4\n",
      "5\n"
     ]
    }
   ],
   "source": [
    "N = int(input())\n",
    "f_0, f_1 = 0,1\n",
    "tot_num = 0\n",
    "for _ in range(N):\n",
    "    tot_num = (f_0 + f_1) % 15746\n",
    "    f_0 = f_1 % 15746\n",
    "    f_1 = tot_num   \n",
    "print(tot_num)"
   ]
  },
  {
   "cell_type": "markdown",
   "metadata": {},
   "source": [
    "# 방법 2 제출"
   ]
  },
  {
   "cell_type": "code",
   "execution_count": 13,
   "metadata": {},
   "outputs": [
    {
     "name": "stdout",
     "output_type": "stream",
     "text": [
      "4\n",
      "5\n"
     ]
    }
   ],
   "source": [
    "#런타임 에러\n",
    "N = int(input())\n",
    "tot_num = 0\n",
    "\n",
    "N_00 = N // 2\n",
    "N_1 = N % 2\n",
    "\n",
    "def factorial(N):\n",
    "    if N==0:\n",
    "        return 1\n",
    "    return N * factorial(N-1)\n",
    "\n",
    "for _ in range(N // 2):\n",
    "    tot_num += factorial(N_00 + N_1) // factorial(N_00) // factorial(N_1)\n",
    "    N_00 -= 1\n",
    "    N_1 += 2\n",
    "\n",
    "tot_num = (tot_num + 1) % 15746\n",
    "print(tot_num)"
   ]
  },
  {
   "cell_type": "markdown",
   "metadata": {},
   "source": [
    "# 숏코딩"
   ]
  },
  {
   "cell_type": "code",
   "execution_count": 14,
   "metadata": {},
   "outputs": [
    {
     "name": "stdout",
     "output_type": "stream",
     "text": [
      "4\n",
      "5\n"
     ]
    }
   ],
   "source": [
    "a,b=0,1\n",
    "for i in range(int(input())):a,b=b,(a+b)%15746\n",
    "print(b)"
   ]
  }
 ],
 "metadata": {
  "kernelspec": {
   "display_name": "Python [conda env:tf20] *",
   "language": "python",
   "name": "conda-env-tf20-py"
  },
  "language_info": {
   "codemirror_mode": {
    "name": "ipython",
    "version": 3
   },
   "file_extension": ".py",
   "mimetype": "text/x-python",
   "name": "python",
   "nbconvert_exporter": "python",
   "pygments_lexer": "ipython3",
   "version": "3.6.9"
  }
 },
 "nbformat": 4,
 "nbformat_minor": 2
}

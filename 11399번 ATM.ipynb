{
 "cells": [
  {
   "cell_type": "markdown",
   "metadata": {},
   "source": [
    "# 11399번 ATM\n",
    "\n",
    "URL : https://www.acmicpc.net/problem/11399"
   ]
  },
  {
   "cell_type": "markdown",
   "metadata": {},
   "source": [
    "- 알고리즘 분류 : 그리디 알고리즘\n",
    "\n",
    "- 사람의 수로 첫 줄에 N을 입력받는다\n",
    "- 각 사람이 인출하는데 걸리는 시간 $P_i$이 주어진다\n",
    "- 각 위치에 해당하는 사람이 기다려야하는 시간을 각각 구해 총 합을 구한다.\n",
    "- 다만 각 사람의 위치를 변경할 수 있고 그 총 합이 최솟값이 되도록 하라.\n",
    "- 가령 $P_i=[3,1,4,3,2]$일 때, $i=[1,2,3,4,5]$ 순서가 아니라 $i=[2,5,1,4,3]$ 순서일 때 최솟값이 된다."
   ]
  },
  {
   "cell_type": "code",
   "execution_count": 1,
   "metadata": {},
   "outputs": [
    {
     "name": "stdout",
     "output_type": "stream",
     "text": [
      "5\n",
      "3 1 4 3 2\n"
     ]
    }
   ],
   "source": [
    "N=int(input())\n",
    "s = list(map(int, input().split()))"
   ]
  },
  {
   "cell_type": "code",
   "execution_count": 2,
   "metadata": {},
   "outputs": [],
   "source": [
    "s = sorted(s)"
   ]
  },
  {
   "cell_type": "code",
   "execution_count": 3,
   "metadata": {},
   "outputs": [
    {
     "name": "stdout",
     "output_type": "stream",
     "text": [
      "32\n"
     ]
    }
   ],
   "source": [
    "cnt = 0\n",
    "for i in range(N):\n",
    "    cnt += s[i]*(N-i)\n",
    "    \n",
    "print(cnt)"
   ]
  },
  {
   "cell_type": "markdown",
   "metadata": {},
   "source": [
    "# 최종 제출 - 122B 56ms"
   ]
  },
  {
   "cell_type": "code",
   "execution_count": null,
   "metadata": {},
   "outputs": [],
   "source": [
    "N=int(input())\n",
    "s = sorted(list(map(int, input().split())))\n",
    "cnt = 0\n",
    "for i in range(N):\n",
    "    cnt += s[i]*(N-i)    \n",
    "print(cnt)"
   ]
  },
  {
   "cell_type": "markdown",
   "metadata": {},
   "source": [
    "# 다른 사람 제출 결과  - noye - 94B 56ms"
   ]
  },
  {
   "cell_type": "code",
   "execution_count": null,
   "metadata": {},
   "outputs": [],
   "source": [
    "input()\n",
    "a=sorted(map(int,input().split()))\n",
    "print(sum([a[i]*(len(a)-i)for i in range(len(a))]))"
   ]
  },
  {
   "cell_type": "markdown",
   "metadata": {},
   "source": [
    "# 숏코딩 - skygarlics 76B 64ms"
   ]
  },
  {
   "cell_type": "code",
   "execution_count": null,
   "metadata": {},
   "outputs": [],
   "source": [
    "input();b=0;t=0\n",
    "for i in sorted(map(int,input().split())):b+=i;t+=b\n",
    "print(t)"
   ]
  }
 ],
 "metadata": {
  "kernelspec": {
   "display_name": "tf20",
   "language": "python",
   "name": "tf20"
  },
  "language_info": {
   "codemirror_mode": {
    "name": "ipython",
    "version": 3
   },
   "file_extension": ".py",
   "mimetype": "text/x-python",
   "name": "python",
   "nbconvert_exporter": "python",
   "pygments_lexer": "ipython3",
   "version": "3.7.4"
  }
 },
 "nbformat": 4,
 "nbformat_minor": 2
}

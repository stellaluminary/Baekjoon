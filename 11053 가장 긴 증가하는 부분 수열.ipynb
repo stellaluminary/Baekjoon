{
 "cells": [
  {
   "cell_type": "markdown",
   "metadata": {},
   "source": [
    "# 11053 가장 긴 증가하는 부분 수열\n",
    "\n",
    "URL : https://www.acmicpc.net/problem/11053"
   ]
  },
  {
   "cell_type": "code",
   "execution_count": 19,
   "metadata": {},
   "outputs": [
    {
     "name": "stdout",
     "output_type": "stream",
     "text": [
      "6\n"
     ]
    }
   ],
   "source": [
    "n = int(input())"
   ]
  },
  {
   "cell_type": "code",
   "execution_count": 2,
   "metadata": {},
   "outputs": [
    {
     "name": "stdout",
     "output_type": "stream",
     "text": [
      "10 20 10 30 20 50\n"
     ]
    }
   ],
   "source": [
    "seq = list(map(int, input().split()))"
   ]
  },
  {
   "cell_type": "code",
   "execution_count": 3,
   "metadata": {},
   "outputs": [
    {
     "data": {
      "text/plain": [
       "[10, 20, 10, 30, 20, 50]"
      ]
     },
     "execution_count": 3,
     "metadata": {},
     "output_type": "execute_result"
    }
   ],
   "source": [
    "seq"
   ]
  },
  {
   "cell_type": "code",
   "execution_count": 23,
   "metadata": {},
   "outputs": [],
   "source": [
    "tmp = [0 for _ in range(n)]"
   ]
  },
  {
   "cell_type": "code",
   "execution_count": 24,
   "metadata": {},
   "outputs": [
    {
     "data": {
      "text/plain": [
       "[0, 0, 0, 0, 0, 0]"
      ]
     },
     "execution_count": 24,
     "metadata": {},
     "output_type": "execute_result"
    }
   ],
   "source": [
    "tmp"
   ]
  },
  {
   "cell_type": "code",
   "execution_count": 26,
   "metadata": {},
   "outputs": [
    {
     "name": "stdout",
     "output_type": "stream",
     "text": [
      "4\n"
     ]
    }
   ],
   "source": [
    "for i in range(n):\n",
    "    tmp[i] = 1      \n",
    "    if i:\n",
    "        cnt = 0\n",
    "        for j in range(i):\n",
    "            if cnt < tmp[j] and seq[i] > seq[j]:\n",
    "                cnt = tmp[j]\n",
    "        tmp[i] = cnt + 1\n",
    "    \n",
    "print(max(tmp))        "
   ]
  },
  {
   "cell_type": "markdown",
   "metadata": {},
   "source": [
    "# 제출 "
   ]
  },
  {
   "cell_type": "code",
   "execution_count": 27,
   "metadata": {},
   "outputs": [
    {
     "name": "stdout",
     "output_type": "stream",
     "text": [
      "8\n",
      "10 20 50 10 20 30 40 60\n",
      "5\n"
     ]
    }
   ],
   "source": [
    "n = int(input())\n",
    "seq = list(map(int, input().split()))\n",
    "tmp = [0 for _ in range(n)]\n",
    "for i in range(n):\n",
    "    tmp[i] = 1      \n",
    "    if i:\n",
    "        cnt = 0\n",
    "        for j in range(i):\n",
    "            if cnt < tmp[j] and seq[i] > seq[j]:\n",
    "                cnt = tmp[j]\n",
    "        tmp[i] = cnt + 1\n",
    "    \n",
    "print(max(tmp))    "
   ]
  },
  {
   "cell_type": "code",
   "execution_count": null,
   "metadata": {},
   "outputs": [],
   "source": [
    "# xbfld https://www.acmicpc.net/source/14017398\n",
    "n=int(input())\n",
    "a=*map(int,input().split()),\n",
    "d=[1]*n\n",
    "for i in range(n):\n",
    "    for j in range(i):\n",
    "        if a[i]>a[j]:d[i]=max(d[i],d[j]+1)\n",
    "print(max(d))"
   ]
  },
  {
   "cell_type": "markdown",
   "metadata": {},
   "source": [
    "# 숏코딩"
   ]
  },
  {
   "cell_type": "code",
   "execution_count": 34,
   "metadata": {},
   "outputs": [
    {
     "name": "stdout",
     "output_type": "stream",
     "text": [
      "3\n",
      "3 1 4\n",
      "2\n"
     ]
    }
   ],
   "source": [
    "# hjy5405 https://www.acmicpc.net/source/11234739\n",
    "n = int(input())\n",
    "a = list(map(int,input().split()))\n",
    "num = [0] * 1001\n",
    "for i in range(n):\n",
    "    num[a[i]] = max(num[:a[i]])+1\n",
    "print(max(num))"
   ]
  },
  {
   "cell_type": "code",
   "execution_count": 36,
   "metadata": {},
   "outputs": [
    {
     "data": {
      "text/plain": [
       "[10]"
      ]
     },
     "execution_count": 36,
     "metadata": {},
     "output_type": "execute_result"
    }
   ],
   "source": [
    "v = [seq[0]]\n",
    "v"
   ]
  },
  {
   "cell_type": "code",
   "execution_count": 38,
   "metadata": {},
   "outputs": [
    {
     "name": "stdout",
     "output_type": "stream",
     "text": [
      "0 5 10\n",
      "m 2\n",
      "m 1\n",
      "m 0\n",
      "0 5 20\n",
      "m 2\n",
      "m 1\n",
      "m 0\n",
      "0 5 50\n",
      "m 2\n",
      "m 4\n",
      "m 3\n",
      "0 5 10\n",
      "m 2\n",
      "m 1\n",
      "m 0\n",
      "0 5 20\n",
      "m 2\n",
      "m 1\n",
      "m 0\n",
      "0 5 30\n",
      "m 2\n",
      "m 1\n",
      "0 5 40\n",
      "m 2\n",
      "m 4\n",
      "m 3\n",
      "6\n"
     ]
    }
   ],
   "source": [
    "for x in seq:\n",
    "    if v[-1] < x:\n",
    "        v.append(x)\n",
    "    else:\n",
    "        lo, hi = 0, len(v)\n",
    "        print(lo, hi, x)\n",
    "        while lo < hi:\n",
    "            m = (lo + hi) // 2\n",
    "            print('m',m)\n",
    "            if v[m] < x:\n",
    "                lo = m + 1\n",
    "            else:\n",
    "                hi = m\n",
    "        v[lo] = x\n",
    "print(len(v))"
   ]
  },
  {
   "cell_type": "code",
   "execution_count": null,
   "metadata": {},
   "outputs": [],
   "source": [
    "# whdgurclzls https://www.acmicpc.net/source/12868262 56ms 가장 빠름\n",
    "from sys import*\n",
    "input = stdin.readline\n",
    "\n",
    "def lower(l,r,x):\n",
    "    while l<=r:\n",
    "        m = (l+r)//2\n",
    "        if v[m] >= x:\n",
    "            r = m - 1\n",
    "        else:\n",
    "            l = m + 1\n",
    "    return l\n",
    "n=int(input())\n",
    "arr=list(map(int,input().split()))\n",
    "v=[arr[0]]\n",
    "for i in range(1,n):\n",
    "    if v[-1] < arr[i]:\n",
    "        v.append(arr[i])\n",
    "    else:\n",
    "        v[lower(0,len(v)-1,arr[i])]=arr[i]\n",
    "\n",
    "print(len(v))"
   ]
  },
  {
   "cell_type": "code",
   "execution_count": 42,
   "metadata": {},
   "outputs": [],
   "source": [
    "def lower(l,r,x):\n",
    "    while l<=r:\n",
    "        m = (l+r)//2\n",
    "        if v[m] >= x:\n",
    "            r = m - 1\n",
    "        else:\n",
    "            l = m + 1\n",
    "    return l"
   ]
  },
  {
   "cell_type": "code",
   "execution_count": 39,
   "metadata": {},
   "outputs": [
    {
     "name": "stdout",
     "output_type": "stream",
     "text": [
      "6\n",
      "10 20 10 30 20 50\n"
     ]
    }
   ],
   "source": [
    "n=int(input())\n",
    "arr=list(map(int,input().split()))\n"
   ]
  },
  {
   "cell_type": "code",
   "execution_count": 45,
   "metadata": {},
   "outputs": [
    {
     "data": {
      "text/plain": [
       "[10]"
      ]
     },
     "execution_count": 45,
     "metadata": {},
     "output_type": "execute_result"
    }
   ],
   "source": [
    "v=[arr[0]]\n",
    "v"
   ]
  },
  {
   "cell_type": "code",
   "execution_count": 46,
   "metadata": {},
   "outputs": [
    {
     "name": "stdout",
     "output_type": "stream",
     "text": [
      "lower 2 1 10\n",
      "0\n",
      "lower 4 2 20\n",
      "1\n"
     ]
    }
   ],
   "source": [
    "for i in range(1,n):\n",
    "    if v[-1] < arr[i]:\n",
    "        v.append(arr[i])\n",
    "    else:\n",
    "        print('lower',i, len(v)-1, arr[i])\n",
    "        print(lower(0,len(v)-1,arr[i]))\n",
    "        v[lower(0,len(v)-1,arr[i])]=arr[i]    \n",
    "        "
   ]
  },
  {
   "cell_type": "markdown",
   "metadata": {},
   "source": [
    "# 기교"
   ]
  },
  {
   "cell_type": "code",
   "execution_count": 8,
   "metadata": {},
   "outputs": [
    {
     "name": "stdout",
     "output_type": "stream",
     "text": [
      "10 20 30\n",
      "0 10\n",
      "1 20\n",
      "2 30\n"
     ]
    }
   ],
   "source": [
    "for i, n in enumerate(map(int, input().split())):\n",
    "    print(i,n)"
   ]
  }
 ],
 "metadata": {
  "kernelspec": {
   "display_name": "Python [conda env:tf20] *",
   "language": "python",
   "name": "conda-env-tf20-py"
  },
  "language_info": {
   "codemirror_mode": {
    "name": "ipython",
    "version": 3
   },
   "file_extension": ".py",
   "mimetype": "text/x-python",
   "name": "python",
   "nbconvert_exporter": "python",
   "pygments_lexer": "ipython3",
   "version": "3.6.9"
  }
 },
 "nbformat": 4,
 "nbformat_minor": 2
}

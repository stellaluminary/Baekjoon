{
 "cells": [
  {
   "cell_type": "markdown",
   "metadata": {},
   "source": [
    "# 1018번 체스판 다시 칠하기\n",
    "- URL : https://www.acmicpc.net/problem/1018\n",
    "- 1등 코드 완전히 이해 못함"
   ]
  },
  {
   "cell_type": "markdown",
   "metadata": {},
   "source": [
    "# 제출 1 - 29284KB 96ms 537B"
   ]
  },
  {
   "cell_type": "code",
   "execution_count": null,
   "metadata": {},
   "outputs": [],
   "source": [
    "a,b=map(int,input().split())\n",
    "l = [list(input()) for j in range(a)]\n",
    "def check(r,c):\n",
    "    s1,s2 = 0,0\n",
    "    b,w=0,0\n",
    "    for i in range(8):\n",
    "        for j in range(8):            \n",
    "            if (r+i+c+j) % 2 == 0 and l[r+i][c+j] == 'B':                \n",
    "                b += 1\n",
    "            elif (r+i+c+j) % 2 == 1 and l[r+i][c+j] == 'W':                \n",
    "                w += 1\n",
    "    s1 = 32-b +32-w\n",
    "    s2 = b + w    \n",
    "    return min(s1,s2)  \n",
    "res = []\n",
    "for i in range(a-8+1):\n",
    "    for j in range(b-8+1):\n",
    "        res.append(check(i,j))\n",
    "print(min(res))"
   ]
  },
  {
   "cell_type": "markdown",
   "metadata": {},
   "source": [
    "# 제출 2 - 29284KB 92ms 481B"
   ]
  },
  {
   "cell_type": "code",
   "execution_count": null,
   "metadata": {},
   "outputs": [],
   "source": [
    "a,b=map(int,input().split())\n",
    "l = [list(input()) for j in range(a)]\n",
    "def check(r,c):\n",
    "    b,w=0,0\n",
    "    for i in range(8):\n",
    "        for j in range(8):            \n",
    "            if (r+i+c+j) % 2 == 0 and l[r+i][c+j] == 'B':                \n",
    "                b += 1\n",
    "            elif (r+i+c+j) % 2 == 1 and l[r+i][c+j] == 'W':                \n",
    "                w += 1\n",
    "    return min(64-b-w,b+w)  \n",
    "res = 32\n",
    "for i in range(a-7):\n",
    "    for j in range(b-7):\n",
    "        res = min(res,check(i,j))\n",
    "print(res)"
   ]
  },
  {
   "cell_type": "markdown",
   "metadata": {},
   "source": [
    "# 제출 3 - 29284KB 56ms 391B"
   ]
  },
  {
   "cell_type": "code",
   "execution_count": null,
   "metadata": {},
   "outputs": [],
   "source": [
    "import sys\n",
    "from itertools import accumulate\n",
    "input=sys.stdin.readline\n",
    "n,m=map(int, input().split())\n",
    "t=[[0]*(m+1)]\n",
    "for i in range(n):\n",
    "    a=[0]\n",
    "    a.extend(accumulate([(ord(c)+i+j)%2for j,c in enumerate(input())]))\n",
    "    t.append([k+j for k,j in zip(a,t[-1])])\n",
    "r=32\n",
    "for i in range(n-7):\n",
    "    for j in range(m-7):\n",
    "        l=t[i+8][j+8]-t[i+8][j]-t[i][j+8]+t[i][j]\n",
    "        r=min(r,l,64-l)\n",
    "print(r)"
   ]
  },
  {
   "cell_type": "markdown",
   "metadata": {},
   "source": [
    "# 제출 4 - 29284KB 80ms 243B"
   ]
  },
  {
   "cell_type": "code",
   "execution_count": null,
   "metadata": {},
   "outputs": [],
   "source": [
    "n,m=map(int,input().split())\n",
    "l=list(input() for i in range(n))\n",
    "t=32\n",
    "wb=('WB'*4+'BW'*4)*4\n",
    "for i in range(n-7):\n",
    " for j in range(m-7):\n",
    "  x=''.join(l[i+k][j:j+8] for k in range(8))\n",
    "  s=sum(x[a]==wb[a] for a in range(64))\n",
    "  t=min(t,s,64-s)\n",
    "print(t)"
   ]
  }
 ],
 "metadata": {
  "kernelspec": {
   "display_name": "tf20",
   "language": "python",
   "name": "tf20"
  },
  "language_info": {
   "codemirror_mode": {
    "name": "ipython",
    "version": 3
   },
   "file_extension": ".py",
   "mimetype": "text/x-python",
   "name": "python",
   "nbconvert_exporter": "python",
   "pygments_lexer": "ipython3",
   "version": "3.7.4"
  }
 },
 "nbformat": 4,
 "nbformat_minor": 2
}

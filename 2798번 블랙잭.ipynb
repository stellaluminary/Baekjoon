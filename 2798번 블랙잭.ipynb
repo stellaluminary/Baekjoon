{
 "cells": [
  {
   "cell_type": "markdown",
   "metadata": {},
   "source": [
    "# 2798번 블랙잭\n",
    "\n",
    "- URL : https://www.acmicpc.net/problem/2798"
   ]
  },
  {
   "cell_type": "code",
   "execution_count": 5,
   "metadata": {},
   "outputs": [
    {
     "name": "stdout",
     "output_type": "stream",
     "text": [
      "5 21\n",
      "5 6 7 8 9\n"
     ]
    }
   ],
   "source": [
    "N,M = map(int,input().split())\n",
    "card=list(map(int, input().split()))"
   ]
  },
  {
   "cell_type": "code",
   "execution_count": 6,
   "metadata": {},
   "outputs": [
    {
     "name": "stdout",
     "output_type": "stream",
     "text": [
      "5 21 [5, 6, 7, 8, 9]\n"
     ]
    }
   ],
   "source": [
    "print(N,M,card)"
   ]
  },
  {
   "cell_type": "code",
   "execution_count": 16,
   "metadata": {},
   "outputs": [
    {
     "name": "stdout",
     "output_type": "stream",
     "text": [
      "5 , 6 , 7\n",
      "5 , 6 , 8\n",
      "5 , 6 , 9\n",
      "5 , 7 , 8\n",
      "5 , 7 , 9\n",
      "5 , 8 , 9\n",
      "6 , 7 , 8\n",
      "6 , 7 , 9\n",
      "6 , 8 , 9\n",
      "7 , 8 , 9\n",
      "21\n"
     ]
    }
   ],
   "source": [
    "tmp = 0\n",
    "for i in range(N-2):\n",
    "    for j in range(i+1,N-1):\n",
    "        for k in range(j+1,N):\n",
    "            tmpsum = card[i]+card[j]+card[k]\n",
    "            if tmp < tmpsum <= M:\n",
    "                tmp = tmpsum\n",
    "                \n",
    "print(tmp)"
   ]
  },
  {
   "cell_type": "markdown",
   "metadata": {},
   "source": [
    "# 제출 1 - 29284KB, 100ms, 334B"
   ]
  },
  {
   "cell_type": "code",
   "execution_count": null,
   "metadata": {},
   "outputs": [],
   "source": [
    "N,M = map(int,input().split())\n",
    "card=list(map(int, input().split()))\n",
    "tmp = 0\n",
    "for i in range(N-2):\n",
    "    for j in range(i+1,N-1):\n",
    "        for k in range(j+1,N):\n",
    "            tmpsum = card[i]+card[j]+card[k]\n",
    "            if tmp < tmpsum <= M:\n",
    "                tmp = tmpsum\n",
    "                \n",
    "print(tmp)"
   ]
  },
  {
   "cell_type": "code",
   "execution_count": null,
   "metadata": {},
   "outputs": [],
   "source": [
    "import sys\n",
    "N,M=list(map(int, sys.stdin.readline().split()))\n",
    "card=list(map(int, sys.stdin.readline().split()))\n",
    "tmp = 0\n",
    "for i in range(N-2):\n",
    "    for j in range(i+1,N-1):\n",
    "        for k in range(j+1,N):\n",
    "            tmpsum = card[i]+card[j]+card[k]\n",
    "            if tmp < tmpsum <= M:\n",
    "                tmp = tmpsum\n",
    "                \n",
    "print(tmp)"
   ]
  },
  {
   "cell_type": "markdown",
   "metadata": {},
   "source": [
    "# 제출 2 - 29284KB, 100ms, 478B"
   ]
  },
  {
   "cell_type": "code",
   "execution_count": 24,
   "metadata": {},
   "outputs": [
    {
     "name": "stdout",
     "output_type": "stream",
     "text": [
      "5 21\n",
      "5 6 7 8 9\n",
      "21\n"
     ]
    }
   ],
   "source": [
    "N,M = map(int,input().split())\n",
    "card = sorted(list(map(int, input().split())))\n",
    "tmp = 0\n",
    "for i in range(N-2):\n",
    "    for j in range(i+1,N-1):\n",
    "        for k in range(j+1,N):\n",
    "            tmpsum = card[i]+card[j]+card[k]\n",
    "            if tmpsum == M:\n",
    "                tmp = tmpsum                \n",
    "                break\n",
    "            elif tmp < tmpsum < M:\n",
    "                tmp = tmpsum                \n",
    "        if tmp == M:\n",
    "            break\n",
    "    if tmp == M:\n",
    "        break\n",
    "                    \n",
    "print(tmp)"
   ]
  },
  {
   "cell_type": "code",
   "execution_count": 24,
   "metadata": {},
   "outputs": [
    {
     "name": "stdout",
     "output_type": "stream",
     "text": [
      "5 21\n",
      "5 6 7 8 9\n",
      "21\n"
     ]
    }
   ],
   "source": [
    "import sys\n",
    "N,M=list(map(int, sys.stdin.readline().split()))\n",
    "card=list(map(int, sys.stdin.readline().split()))\n",
    "tmp = 0\n",
    "for i in range(N-2):\n",
    "    for j in range(i+1,N-1):\n",
    "        for k in range(j+1,N):\n",
    "            tmpsum = card[i]+card[j]+card[k]\n",
    "            if tmpsum == M:\n",
    "                tmp = tmpsum                \n",
    "                break\n",
    "            elif tmp < tmpsum < M:\n",
    "                tmp = tmpsum                \n",
    "        if tmp == M:\n",
    "            break\n",
    "    if tmp == M:\n",
    "        break\n",
    "                    \n",
    "print(tmp)"
   ]
  },
  {
   "cell_type": "markdown",
   "metadata": {},
   "source": [
    "# 제출 3 - 29284KB, 108ms, 622B"
   ]
  },
  {
   "cell_type": "code",
   "execution_count": 25,
   "metadata": {},
   "outputs": [
    {
     "name": "stdout",
     "output_type": "stream",
     "text": [
      "5 21\n",
      "5 6 7 8 9\n",
      "21\n"
     ]
    }
   ],
   "source": [
    "N,M = map(int,input().split())\n",
    "card = sorted(list(map(int, input().split())))\n",
    "tmp = 0\n",
    "for i in range(N-2):\n",
    "    if card[i]>M:\n",
    "        continue\n",
    "    for j in range(i+1,N-1):\n",
    "        if card[i]+card[j]>M:\n",
    "            continue\n",
    "        for k in range(j+1,N):\n",
    "            tmpsum = card[i]+card[j]+card[k]\n",
    "            if tmpsum > M:\n",
    "                continue\n",
    "            if tmpsum == M:\n",
    "                tmp = tmpsum                \n",
    "                break\n",
    "            elif tmp < tmpsum:\n",
    "                tmp = tmpsum                \n",
    "        if tmp == M:\n",
    "            break\n",
    "    if tmp == M:\n",
    "        break\n",
    "                    \n",
    "print(tmp)"
   ]
  },
  {
   "cell_type": "markdown",
   "metadata": {},
   "source": [
    "# 제출 4 - 29284KB, 60ms, 543B 1등 s1004101 코드 - 내 것 아님"
   ]
  },
  {
   "cell_type": "code",
   "execution_count": null,
   "metadata": {},
   "outputs": [],
   "source": [
    "N, M = map(int, input().split())\n",
    "cards = list(reversed(sorted(map(int, input().split()))))\n",
    "sumSet = set()\n",
    "blackjack = False\n",
    "for i in range(N-2):\n",
    "    for j in range(i+1, N-1):\n",
    "        for k in range(j+1, N):\n",
    "            sum = cards[i] + cards[j] + cards[k]\n",
    "            if sum == M:\n",
    "                blackjack = True\n",
    "                break\n",
    "            elif sum < M:\n",
    "                sumSet.add(sum)\n",
    "                break\n",
    "        if blackjack:\n",
    "            break\n",
    "    if blackjack:\n",
    "        break\n",
    "if blackjack:\n",
    "    print(M)\n",
    "else:\n",
    "    print(max(sumSet))"
   ]
  },
  {
   "cell_type": "markdown",
   "metadata": {},
   "source": [
    "# 제출 5 - 29284KB, 100ms, 334B"
   ]
  },
  {
   "cell_type": "code",
   "execution_count": 31,
   "metadata": {},
   "outputs": [
    {
     "name": "stdout",
     "output_type": "stream",
     "text": [
      "5 21\n",
      "5 6 7 8 9\n",
      "21\n"
     ]
    }
   ],
   "source": [
    "N,M = map(int,input().split())\n",
    "card = list(reversed(sorted(map(int, input().split()))))\n",
    "tmp = 0\n",
    "boolean=False\n",
    "for i in range(N-2):\n",
    "    if card[i]>M:\n",
    "        continue\n",
    "    for j in range(i+1,N-1):\n",
    "        if card[i]+card[j]>M:\n",
    "            continue\n",
    "        for k in range(j+1,N):\n",
    "            tmpsum = card[i]+card[j]+card[k]\n",
    "            if tmpsum > M:\n",
    "                continue\n",
    "            if tmpsum == M:\n",
    "                tmp = tmpsum \n",
    "                boolean = True\n",
    "                break\n",
    "            elif tmp < tmpsum:\n",
    "                tmp = tmpsum                \n",
    "        if boolean:\n",
    "            break\n",
    "    if boolean:\n",
    "        break\n",
    "                    \n",
    "print(tmp)"
   ]
  },
  {
   "cell_type": "code",
   "execution_count": 34,
   "metadata": {},
   "outputs": [
    {
     "name": "stdout",
     "output_type": "stream",
     "text": [
      "5 21\n",
      "5 6 7 8 9\n",
      "21\n"
     ]
    }
   ],
   "source": [
    "N,M = map(int,input().split())\n",
    "card = list(reversed(sorted(map(int, input().split()))))\n",
    "tmp = 0\n",
    "boolean=False\n",
    "for i in range(N-2):\n",
    "    for j in range(i+1,N-1):\n",
    "        for k in range(j+1,N):\n",
    "            tmpsum = card[i]+card[j]+card[k]\n",
    "            if tmpsum == M:\n",
    "                tmp = tmpsum \n",
    "                boolean = True\n",
    "                break\n",
    "            elif tmp < tmpsum < M:\n",
    "                tmp = tmpsum \n",
    "                break\n",
    "        if boolean:\n",
    "            break\n",
    "    if boolean:\n",
    "        break\n",
    "\n",
    "if boolean:\n",
    "    print(M)\n",
    "else:\n",
    "    print(tmp)"
   ]
  },
  {
   "cell_type": "code",
   "execution_count": 30,
   "metadata": {},
   "outputs": [
    {
     "data": {
      "text/plain": [
       "[9, 8, 7, 6, 5]"
      ]
     },
     "execution_count": 30,
     "metadata": {},
     "output_type": "execute_result"
    }
   ],
   "source": [
    "card"
   ]
  },
  {
   "cell_type": "code",
   "execution_count": 41,
   "metadata": {},
   "outputs": [
    {
     "name": "stdout",
     "output_type": "stream",
     "text": [
      "5 21\n",
      "5 6 7 8 9\n",
      "21\n"
     ]
    }
   ],
   "source": [
    "N,M = map(int,input().split())\n",
    "card = list(reversed(sorted(map(int, input().split()))))\n",
    "tmp = set()\n",
    "boolean=False\n",
    "for i in range(N-2):\n",
    "    for j in range(i+1,N-1):\n",
    "        for k in range(j+1,N):\n",
    "            tmpsum = card[i]+card[j]+card[k]\n",
    "            if tmpsum == M:\n",
    "                boolean = True\n",
    "                break\n",
    "            elif tmpsum < M:\n",
    "                tmp.add(tmpsum) \n",
    "                break\n",
    "        if boolean:\n",
    "            break\n",
    "    if boolean:\n",
    "        break\n",
    "\n",
    "if boolean:\n",
    "    print(M)\n",
    "else:\n",
    "    print(tmp)"
   ]
  },
  {
   "cell_type": "markdown",
   "metadata": {},
   "source": [
    "# 제출 6 - 29284KB, 80ms, 123B"
   ]
  },
  {
   "cell_type": "code",
   "execution_count": null,
   "metadata": {},
   "outputs": [],
   "source": [
    "[n,m],d=eval('map(int,input().split()),'*2);from itertools import*;print(max(v for v in map(sum,combinations(d,3))if v<=m))"
   ]
  },
  {
   "cell_type": "code",
   "execution_count": 46,
   "metadata": {},
   "outputs": [
    {
     "data": {
      "text/plain": [
       "[(1, 2, 3, 4)]"
      ]
     },
     "execution_count": 46,
     "metadata": {},
     "output_type": "execute_result"
    }
   ],
   "source": [
    "from itertools import combinations\n",
    "list(combinations([1,2,3,4],4))"
   ]
  },
  {
   "cell_type": "code",
   "execution_count": 58,
   "metadata": {},
   "outputs": [
    {
     "name": "stdout",
     "output_type": "stream",
     "text": [
      "5 21\n",
      "5 6 7 8 9\n",
      "5 21 <map object at 0x000002CBEBC5A8C8>\n"
     ]
    }
   ],
   "source": [
    "[n,m],d=eval('map(int,input().split()),'*2)\n",
    "print(n, m, d)"
   ]
  },
  {
   "cell_type": "code",
   "execution_count": 62,
   "metadata": {},
   "outputs": [
    {
     "name": "stdout",
     "output_type": "stream",
     "text": [
      "(5, 6, 7)\n",
      "(5, 6, 8)\n",
      "(5, 6, 9)\n",
      "(5, 7, 8)\n",
      "(5, 7, 9)\n",
      "(5, 8, 9)\n",
      "(6, 7, 8)\n",
      "(6, 7, 9)\n",
      "(6, 8, 9)\n",
      "(7, 8, 9)\n",
      "<class 'tuple'>\n"
     ]
    }
   ],
   "source": [
    "for i in combinations([5,6,7,8,9],3):\n",
    "    print(i)\n",
    "print(type(i))"
   ]
  },
  {
   "cell_type": "code",
   "execution_count": 63,
   "metadata": {},
   "outputs": [
    {
     "name": "stdout",
     "output_type": "stream",
     "text": [
      "18\n",
      "19\n",
      "20\n",
      "20\n",
      "21\n",
      "22\n",
      "21\n",
      "22\n",
      "23\n",
      "24\n",
      "<class 'int'>\n"
     ]
    }
   ],
   "source": [
    "for i in map(sum,combinations([5,6,7,8,9],3)):\n",
    "    print(i)\n",
    "print(type(i))"
   ]
  }
 ],
 "metadata": {
  "kernelspec": {
   "display_name": "tf20",
   "language": "python",
   "name": "tf20"
  },
  "language_info": {
   "codemirror_mode": {
    "name": "ipython",
    "version": 3
   },
   "file_extension": ".py",
   "mimetype": "text/x-python",
   "name": "python",
   "nbconvert_exporter": "python",
   "pygments_lexer": "ipython3",
   "version": "3.7.4"
  }
 },
 "nbformat": 4,
 "nbformat_minor": 2
}

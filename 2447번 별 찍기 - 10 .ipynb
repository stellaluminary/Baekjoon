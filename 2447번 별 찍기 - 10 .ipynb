{
 "cells": [
  {
   "cell_type": "markdown",
   "metadata": {},
   "source": [
    "# 2447번 별 찍기 - 10 \n",
    "- URL : https://www.acmicpc.net/problem/2447\n",
    "- 제출 1을 제외하고는 다른 사람 코드를 참조하여 업그레이드를 진행\n",
    "- 맞은 사람 : 최종 제출 3번\n",
    "- 숏코딩 : 최종 제출4,5번"
   ]
  },
  {
   "cell_type": "markdown",
   "metadata": {},
   "source": [
    "<img src=\"./2447.png\">"
   ]
  },
  {
   "cell_type": "markdown",
   "metadata": {},
   "source": [
    "# 제출 1 - 66500KB, 576ms, 696B"
   ]
  },
  {
   "cell_type": "code",
   "execution_count": null,
   "metadata": {},
   "outputs": [],
   "source": [
    "N = int(input())\n",
    "l = [['*']*N for i in range(N)]\n",
    "def star(rs,re,cs,ce):\n",
    "    if re-rs+1 == 3: \n",
    "        l[rs+1][cs+1]=' '         \n",
    "        return        \n",
    "    term = (re-rs+1)//3\n",
    "    star(rs,rs+term-1,cs,cs+term-1)\n",
    "    star(rs,rs+term-1,cs+term,cs+2*term-1)\n",
    "    star(rs,rs+term-1,cs+2*term,ce)\n",
    "    star(rs+term,rs+2*term-1,cs,cs+term-1)\n",
    "    star(rs+term,rs+2*term-1,cs+2*term,ce)\n",
    "    star(rs+2*term,re,cs,cs+term-1)\n",
    "    star(rs+2*term,re,cs+term,cs+2*term-1)\n",
    "    star(rs+2*term,re,cs+2*term,ce)\n",
    "    for i in range(rs+term,rs+2*term):\n",
    "        for j in range(cs+term, cs+2*term):            \n",
    "            l[i][j]=' '   \n",
    "    return \n",
    "        \n",
    "star(0,N-1,0,N-1)\n",
    "for i in range(N):\n",
    "    print(''.join(l[i]))"
   ]
  },
  {
   "cell_type": "markdown",
   "metadata": {},
   "source": [
    "# 제출 2 - 38632KB 64ms 173B\n",
    "- 2020-02-13 맞은 사람 3위, 숏코딩 5위"
   ]
  },
  {
   "cell_type": "code",
   "execution_count": null,
   "metadata": {},
   "outputs": [],
   "source": [
    "def c(p,l):return [''.join(x) for x in zip(p,l,p)]\n",
    "def s(n):\n",
    " if n==1:return ['*']\n",
    " n//=3\n",
    " x=s(n)\n",
    " a=c(x,x)\n",
    " b=c(x,[' '*n]*n)\n",
    " return a+b+a\n",
    "print('\\n'.join(s(int(input()))))"
   ]
  },
  {
   "cell_type": "markdown",
   "metadata": {},
   "source": [
    "# 제출 3 - 38632KB 64ms 251B - 다른 사람 코드"
   ]
  },
  {
   "cell_type": "code",
   "execution_count": null,
   "metadata": {},
   "outputs": [],
   "source": [
    "a=int(input())\n",
    "def s(n):\n",
    " if n==3:return['***','* *','***']\n",
    " x=s(n//3)\n",
    " y=list(zip(x,x,x))\n",
    " for i in range(len(y)):y[i]=''.join(y[i])\n",
    " z=list(zip(x,[' '*(n//3)]*(n//3),x))\n",
    " for i in range(len(z)):z[i]=''.join(z[i])\n",
    " return y+z+y\n",
    "print('\\n'.join(s(a)))"
   ]
  },
  {
   "cell_type": "markdown",
   "metadata": {},
   "source": [
    "# 제출 4 - 42064KB 68ms 127B\n",
    "- 2020-02-13 숏코딩 1위"
   ]
  },
  {
   "cell_type": "code",
   "execution_count": null,
   "metadata": {},
   "outputs": [],
   "source": [
    "n,s,i=int(input()),['***','* *','***'],3\n",
    "while i<n:\n",
    " t=[j*3 for j in s]\n",
    " s=t+[j+' '*i+j for j in s]+t\n",
    " i*=3\n",
    "print('\\n'.join(s))"
   ]
  },
  {
   "cell_type": "markdown",
   "metadata": {},
   "source": [
    "# 제출 5 - 32712KB 88ms 127B\n",
    "- 제출 4과 같지만 마지막 줄만 다름\n",
    " - print('\\n'.join(s))에 비해 메모리가 줄어들고 속도는 느려짐\n",
    " - 제출 3 방식이 더 좋을 듯\n",
    "- 2020-02-13 숏코딩 1위"
   ]
  },
  {
   "cell_type": "code",
   "execution_count": null,
   "metadata": {},
   "outputs": [],
   "source": [
    "n,s,i=int(input()),['***','* *','***'],3\n",
    "while i<n:\n",
    " t=[j*3 for j in s]\n",
    " s=t+[j+' '*i+j for j in s]+t\n",
    " i*=3\n",
    "for i in s:print(i)"
   ]
  }
 ],
 "metadata": {
  "kernelspec": {
   "display_name": "tf20",
   "language": "python",
   "name": "tf20"
  },
  "language_info": {
   "codemirror_mode": {
    "name": "ipython",
    "version": 3
   },
   "file_extension": ".py",
   "mimetype": "text/x-python",
   "name": "python",
   "nbconvert_exporter": "python",
   "pygments_lexer": "ipython3",
   "version": "3.7.4"
  }
 },
 "nbformat": 4,
 "nbformat_minor": 2
}

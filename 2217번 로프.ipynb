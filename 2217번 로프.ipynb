{
 "cells": [
  {
   "cell_type": "markdown",
   "metadata": {},
   "source": [
    "# 2217번 로프\n",
    "\n",
    "URL : https://www.acmicpc.net/problem/2217"
   ]
  },
  {
   "cell_type": "markdown",
   "metadata": {},
   "source": [
    "- 알고리즘 분류 : 그리디 알고리즘\n",
    "\n",
    "- k개의 로프 최대 중량 구하기"
   ]
  },
  {
   "cell_type": "code",
   "execution_count": 10,
   "metadata": {},
   "outputs": [
    {
     "name": "stdout",
     "output_type": "stream",
     "text": [
      "10\n",
      "1\n",
      "2\n",
      "2\n",
      "3\n",
      "3\n",
      "3\n",
      "4\n",
      "4\n",
      "4\n",
      "4\n"
     ]
    }
   ],
   "source": [
    "N = int(input())\n",
    "r = [int(input()) for _ in range(N)]"
   ]
  },
  {
   "cell_type": "code",
   "execution_count": 11,
   "metadata": {},
   "outputs": [
    {
     "data": {
      "text/plain": [
       "[1, 2, 2, 3, 3, 3, 4, 4, 4, 4]"
      ]
     },
     "execution_count": 11,
     "metadata": {},
     "output_type": "execute_result"
    }
   ],
   "source": [
    "r"
   ]
  },
  {
   "cell_type": "code",
   "execution_count": 12,
   "metadata": {},
   "outputs": [
    {
     "name": "stdout",
     "output_type": "stream",
     "text": [
      "[1, 2, 2, 3, 3, 3, 4, 4, 4, 4] 10\n"
     ]
    }
   ],
   "source": [
    "r = sorted(r)\n",
    "l = len(r)\n",
    "print(r,l)"
   ]
  },
  {
   "cell_type": "code",
   "execution_count": 5,
   "metadata": {},
   "outputs": [],
   "source": [
    "result = []\n",
    "for i in range(N):\n",
    "    result.append(r[i]*l)\n",
    "    l -= 1"
   ]
  },
  {
   "cell_type": "code",
   "execution_count": 6,
   "metadata": {},
   "outputs": [
    {
     "data": {
      "text/plain": [
       "[20, 15]"
      ]
     },
     "execution_count": 6,
     "metadata": {},
     "output_type": "execute_result"
    }
   ],
   "source": [
    "result"
   ]
  },
  {
   "cell_type": "code",
   "execution_count": 7,
   "metadata": {},
   "outputs": [
    {
     "data": {
      "text/plain": [
       "20"
      ]
     },
     "execution_count": 7,
     "metadata": {},
     "output_type": "execute_result"
    }
   ],
   "source": [
    "max(result)"
   ]
  },
  {
   "cell_type": "code",
   "execution_count": null,
   "metadata": {},
   "outputs": [],
   "source": []
  },
  {
   "cell_type": "markdown",
   "metadata": {},
   "source": [
    "# 제출 - 틀림\n",
    "- 중복된 숫자 생각을 하지않음  => no 생각했던 것임\n",
    "- 결정적 : 출력물을 print를 사용하지 않음"
   ]
  },
  {
   "cell_type": "code",
   "execution_count": null,
   "metadata": {},
   "outputs": [],
   "source": [
    "N = int(input())\n",
    "r = sorted([int(input()) for _ in range(N)])\n",
    "result = []\n",
    "for i in range(N):\n",
    "    result.append(r[i]*(N-i))\n",
    "print(max(result))"
   ]
  },
  {
   "cell_type": "code",
   "execution_count": 70,
   "metadata": {},
   "outputs": [
    {
     "name": "stdout",
     "output_type": "stream",
     "text": [
      "5\n",
      "10\n",
      "15\n",
      "15\n",
      "15\n",
      "19\n"
     ]
    },
    {
     "data": {
      "text/plain": [
       "60"
      ]
     },
     "execution_count": 70,
     "metadata": {},
     "output_type": "execute_result"
    }
   ],
   "source": [
    "N = int(input())\n",
    "r = sorted([int(input()) for _ in range(N)])\n",
    "result = 0\n",
    "for i in range(N):\n",
    "    cal = r[i]*(N-1)\n",
    "    if result < cal:\n",
    "        result = cal    \n",
    "print(result)"
   ]
  },
  {
   "cell_type": "code",
   "execution_count": 70,
   "metadata": {},
   "outputs": [
    {
     "name": "stdout",
     "output_type": "stream",
     "text": [
      "5\n",
      "10\n",
      "15\n",
      "15\n",
      "15\n",
      "19\n"
     ]
    },
    {
     "data": {
      "text/plain": [
       "60"
      ]
     },
     "execution_count": 70,
     "metadata": {},
     "output_type": "execute_result"
    }
   ],
   "source": [
    "N = int(input())\n",
    "r = sorted([int(input()) for _ in range(N)])\n",
    "result = 0\n",
    "for i in range(N):\n",
    "    cal = r[i]*(N-1)\n",
    "    if result < cal:\n",
    "        result = cal    \n",
    "print(result)"
   ]
  },
  {
   "cell_type": "code",
   "execution_count": 71,
   "metadata": {},
   "outputs": [
    {
     "data": {
      "text/plain": [
       "([10, 15, 15, 15, 19], [50, 60, 45, 30, 19])"
      ]
     },
     "execution_count": 71,
     "metadata": {},
     "output_type": "execute_result"
    }
   ],
   "source": [
    "r, result"
   ]
  },
  {
   "cell_type": "markdown",
   "metadata": {},
   "source": [
    "***"
   ]
  },
  {
   "cell_type": "code",
   "execution_count": 14,
   "metadata": {},
   "outputs": [
    {
     "data": {
      "text/plain": [
       "{1, 2, 3, 4}"
      ]
     },
     "execution_count": 14,
     "metadata": {},
     "output_type": "execute_result"
    }
   ],
   "source": [
    "uniq=set(r)\n",
    "uniq"
   ]
  },
  {
   "cell_type": "code",
   "execution_count": 16,
   "metadata": {},
   "outputs": [
    {
     "data": {
      "text/plain": [
       "[1, 2, 3, 4]"
      ]
     },
     "execution_count": 16,
     "metadata": {},
     "output_type": "execute_result"
    }
   ],
   "source": [
    "uniq = list(uniq)\n",
    "uniq"
   ]
  },
  {
   "cell_type": "code",
   "execution_count": 21,
   "metadata": {},
   "outputs": [
    {
     "data": {
      "text/plain": [
       "{1: 1, 2: 2, 3: 3, 4: 4}"
      ]
     },
     "execution_count": 21,
     "metadata": {},
     "output_type": "execute_result"
    }
   ],
   "source": [
    "import collections\n",
    "\n",
    "counter = collections.Counter(r)\n",
    "d = dict(counter)\n",
    "d"
   ]
  },
  {
   "cell_type": "code",
   "execution_count": 23,
   "metadata": {},
   "outputs": [
    {
     "data": {
      "text/plain": [
       "3"
      ]
     },
     "execution_count": 23,
     "metadata": {},
     "output_type": "execute_result"
    }
   ],
   "source": [
    "r.count(3)"
   ]
  },
  {
   "cell_type": "code",
   "execution_count": 24,
   "metadata": {},
   "outputs": [
    {
     "data": {
      "text/plain": [
       "4"
      ]
     },
     "execution_count": 24,
     "metadata": {},
     "output_type": "execute_result"
    }
   ],
   "source": [
    "len(d)"
   ]
  },
  {
   "cell_type": "code",
   "execution_count": 26,
   "metadata": {},
   "outputs": [
    {
     "data": {
      "text/plain": [
       "1"
      ]
     },
     "execution_count": 26,
     "metadata": {},
     "output_type": "execute_result"
    }
   ],
   "source": [
    "d[uniq[0]]"
   ]
  },
  {
   "cell_type": "code",
   "execution_count": null,
   "metadata": {},
   "outputs": [],
   "source": [
    "N = int(input())\n",
    "r = [int(input()) for _ in range(N)]\n",
    "r = sorted(r)\n",
    "uniq=list(set(r))\n",
    "\n",
    "import collections\n",
    "counter = collections.Counter(r)\n",
    "d = dict(counter)"
   ]
  },
  {
   "cell_type": "code",
   "execution_count": 31,
   "metadata": {},
   "outputs": [
    {
     "data": {
      "text/plain": [
       "(10,\n",
       " [11, 11, 11, 11, 12, 12, 12, 12, 13, 13],\n",
       " [11, 12, 13],\n",
       " {11: 4, 12: 4, 13: 2})"
      ]
     },
     "execution_count": 31,
     "metadata": {},
     "output_type": "execute_result"
    }
   ],
   "source": [
    "N,r,uniq,d"
   ]
  },
  {
   "cell_type": "code",
   "execution_count": 35,
   "metadata": {},
   "outputs": [
    {
     "name": "stdout",
     "output_type": "stream",
     "text": [
      "11 10 40\n",
      "12 6 24\n",
      "13 2 4\n"
     ]
    },
    {
     "data": {
      "text/plain": [
       "110"
      ]
     },
     "execution_count": 35,
     "metadata": {},
     "output_type": "execute_result"
    }
   ],
   "source": [
    "result = []\n",
    "num = 0 \n",
    "for i in range(len(d)):\n",
    "    print(uniq[i], (N-num),d[uniq[i]] * (N-num))\n",
    "    result.append(uniq[i] * (N-num))\n",
    "    num += d[uniq[i]]\n",
    "max(result)"
   ]
  },
  {
   "cell_type": "code",
   "execution_count": 36,
   "metadata": {},
   "outputs": [
    {
     "data": {
      "text/plain": [
       "[110, 72, 26]"
      ]
     },
     "execution_count": 36,
     "metadata": {},
     "output_type": "execute_result"
    }
   ],
   "source": [
    "result"
   ]
  },
  {
   "cell_type": "code",
   "execution_count": 37,
   "metadata": {},
   "outputs": [
    {
     "data": {
      "text/plain": [
       "10"
      ]
     },
     "execution_count": 37,
     "metadata": {},
     "output_type": "execute_result"
    }
   ],
   "source": [
    "num"
   ]
  },
  {
   "cell_type": "markdown",
   "metadata": {},
   "source": [
    "# 제출 - 틀림\n",
    "- 0의 존재 => 곱셈이라 크게 영향이 없을 듯 한데\n",
    "- print 쓰지 않았음"
   ]
  },
  {
   "cell_type": "code",
   "execution_count": 47,
   "metadata": {},
   "outputs": [
    {
     "name": "stdout",
     "output_type": "stream",
     "text": [
      "15\n",
      "5\n",
      "5\n",
      "5\n",
      "5\n",
      "9\n",
      "9\n",
      "9\n",
      "9\n",
      "20\n",
      "20\n",
      "20\n",
      "20\n",
      "4\n",
      "4\n",
      "4\n"
     ]
    },
    {
     "data": {
      "text/plain": [
       "80"
      ]
     },
     "execution_count": 47,
     "metadata": {},
     "output_type": "execute_result"
    }
   ],
   "source": [
    "N = int(input())\n",
    "r = [int(input()) for _ in range(N)]\n",
    "r = sorted(r)\n",
    "uniq=sorted(list(set(r)))\n",
    "\n",
    "import collections\n",
    "counter = collections.Counter(r)\n",
    "d = dict(counter)\n",
    "\n",
    "result = []\n",
    "num = 0 \n",
    "for i in range(len(d)):\n",
    "    result.append(uniq[i] * (N-num))\n",
    "    num += d[uniq[i]]\n",
    "max(result)"
   ]
  },
  {
   "cell_type": "code",
   "execution_count": 48,
   "metadata": {},
   "outputs": [
    {
     "data": {
      "text/plain": [
       "[60, 60, 72, 80]"
      ]
     },
     "execution_count": 48,
     "metadata": {},
     "output_type": "execute_result"
    }
   ],
   "source": [
    "result"
   ]
  },
  {
   "cell_type": "code",
   "execution_count": 40,
   "metadata": {},
   "outputs": [
    {
     "data": {
      "text/plain": [
       "[8, 9, 20, 5]"
      ]
     },
     "execution_count": 40,
     "metadata": {},
     "output_type": "execute_result"
    }
   ],
   "source": [
    "uniq"
   ]
  },
  {
   "cell_type": "code",
   "execution_count": 42,
   "metadata": {},
   "outputs": [
    {
     "data": {
      "text/plain": [
       "[9, 13, 4, 5]"
      ]
     },
     "execution_count": 42,
     "metadata": {},
     "output_type": "execute_result"
    }
   ],
   "source": [
    "t = [5,5,5,5,9,9,9,9,9,13,13,13,13,4,4,4,4]\n",
    "list(set(t))"
   ]
  },
  {
   "cell_type": "code",
   "execution_count": 43,
   "metadata": {},
   "outputs": [
    {
     "data": {
      "text/plain": [
       "{4, 5, 9, 13}"
      ]
     },
     "execution_count": 43,
     "metadata": {},
     "output_type": "execute_result"
    }
   ],
   "source": [
    "set(t)"
   ]
  },
  {
   "cell_type": "code",
   "execution_count": 46,
   "metadata": {},
   "outputs": [
    {
     "data": {
      "text/plain": [
       "[4, 5, 9, 13]"
      ]
     },
     "execution_count": 46,
     "metadata": {},
     "output_type": "execute_result"
    }
   ],
   "source": [
    "sorted(list(set(t)))"
   ]
  },
  {
   "cell_type": "markdown",
   "metadata": {},
   "source": [
    "***"
   ]
  },
  {
   "cell_type": "code",
   "execution_count": 65,
   "metadata": {},
   "outputs": [
    {
     "name": "stdout",
     "output_type": "stream",
     "text": [
      "6\n",
      "0\n",
      "1\n",
      "1\n",
      "9\n",
      "9\n",
      "7\n"
     ]
    }
   ],
   "source": [
    "N = int(input())\n",
    "r = sorted([int(input()) for _ in range(N)])\n",
    "uniq=sorted(list(set(r)))"
   ]
  },
  {
   "cell_type": "code",
   "execution_count": 66,
   "metadata": {},
   "outputs": [
    {
     "data": {
      "text/plain": [
       "(6, [0, 1, 1, 7, 9, 9], [0, 1, 7, 9])"
      ]
     },
     "execution_count": 66,
     "metadata": {},
     "output_type": "execute_result"
    }
   ],
   "source": [
    "N,r,uniq"
   ]
  },
  {
   "cell_type": "code",
   "execution_count": 67,
   "metadata": {},
   "outputs": [
    {
     "data": {
      "text/plain": [
       "{0: 1, 1: 2, 7: 1, 9: 2}"
      ]
     },
     "execution_count": 67,
     "metadata": {},
     "output_type": "execute_result"
    }
   ],
   "source": [
    "d = {i:0 for i in uniq}\n",
    "for i in range(N):\n",
    "    d[r[i]] += 1\n",
    "d"
   ]
  },
  {
   "cell_type": "code",
   "execution_count": 60,
   "metadata": {},
   "outputs": [
    {
     "data": {
      "text/plain": [
       "25"
      ]
     },
     "execution_count": 60,
     "metadata": {},
     "output_type": "execute_result"
    }
   ],
   "source": [
    "result = []\n",
    "num = 0 \n",
    "for i in range(len(d)):\n",
    "    result.append(uniq[i] * (N-num))\n",
    "    num += d[uniq[i]]\n",
    "max(result)"
   ]
  },
  {
   "cell_type": "markdown",
   "metadata": {},
   "source": [
    "# 제출 - 288B 4028ms\n",
    "- print 쓰지 않아 틀림"
   ]
  },
  {
   "cell_type": "code",
   "execution_count": null,
   "metadata": {},
   "outputs": [],
   "source": [
    "N = int(input())\n",
    "r = sorted([int(input()) for _ in range(N)])\n",
    "uniq=sorted(list(set(r)))\n",
    "d = {i:0 for i in uniq}\n",
    "for i in range(N):\n",
    "    d[r[i]] += 1\n",
    "    \n",
    "result = []\n",
    "num = 0 \n",
    "for i in range(len(d)):\n",
    "    result.append(uniq[i] * (N-num))\n",
    "    num += d[uniq[i]]\n",
    "print(max(result))"
   ]
  },
  {
   "cell_type": "code",
   "execution_count": 69,
   "metadata": {},
   "outputs": [
    {
     "data": {
      "text/plain": [
       "[10, 12, 12, 15, 19]"
      ]
     },
     "execution_count": 69,
     "metadata": {},
     "output_type": "execute_result"
    }
   ],
   "source": [
    "ropes"
   ]
  },
  {
   "cell_type": "markdown",
   "metadata": {},
   "source": [
    "# 다른 사람의 결과물 - rapaeljin 256B 92ms - 내가 돌려보니 96ms"
   ]
  },
  {
   "cell_type": "code",
   "execution_count": null,
   "metadata": {},
   "outputs": [],
   "source": [
    "import sys\n",
    "In = sys.stdin.readline\n",
    "\n",
    "def main():\n",
    "    n = int(In())\n",
    "    rope = [0] * 10001\n",
    "    for _ in range(n):\n",
    "        rope[int(In())] += 1\n",
    "    m, s = 0, 0\n",
    "    for x in range(10000,-1,-1):\n",
    "        s += rope[x]\n",
    "        m = max(m, x * s)\n",
    "    print(m)\n",
    "main()"
   ]
  },
  {
   "cell_type": "markdown",
   "metadata": {},
   "source": [
    "# sys 대신 input을 사용했을 뿐인데 속도가... 4196ms"
   ]
  },
  {
   "cell_type": "code",
   "execution_count": null,
   "metadata": {},
   "outputs": [],
   "source": [
    "def main():\n",
    "    n = int(input())\n",
    "    rope = [0] * 10001\n",
    "    for _ in range(n):\n",
    "        rope[int(input())] += 1\n",
    "    m, s = 0, 0\n",
    "    for x in range(10000,-1,-1):\n",
    "        s += rope[x]\n",
    "        m = max(m, x * s)\n",
    "    print(m)\n",
    "main()"
   ]
  },
  {
   "cell_type": "markdown",
   "metadata": {},
   "source": [
    "# 100ms?"
   ]
  },
  {
   "cell_type": "code",
   "execution_count": null,
   "metadata": {},
   "outputs": [],
   "source": [
    "import sys\n",
    "def main():\n",
    "    n = int(sys.stdin.readline())\n",
    "    rope = [0] * 10001\n",
    "    for _ in range(n):\n",
    "        rope[int(sys.stdin.readline())] += 1\n",
    "    m, s = 0, 0\n",
    "    for x in range(10000,-1,-1):\n",
    "        s += rope[x]\n",
    "        m = max(m, x * s)\n",
    "    print(m)\n",
    "main()"
   ]
  },
  {
   "cell_type": "code",
   "execution_count": null,
   "metadata": {},
   "outputs": [],
   "source": [
    "import sys\n",
    "In = sys.stdin.readline\n",
    "N = int(In())\n",
    "r = sorted([int(In()) for _ in range(N)])\n",
    "result = 0\n",
    "for i in range(N):\n",
    "    cal = r[i]*(N-1)\n",
    "    if result < cal:\n",
    "        result = cal    \n",
    "print(result)"
   ]
  },
  {
   "cell_type": "code",
   "execution_count": null,
   "metadata": {},
   "outputs": [],
   "source": [
    "import sys\n",
    "N = int(sys.stdin.readline())\n",
    "r = sorted([int(sys.stdin.readline()) for _ in range(N)])\n",
    "result = 0\n",
    "for i in range(N):\n",
    "    cal = r[i]*(N-1)\n",
    "    if result < cal:\n",
    "        result = cal    \n",
    "print(result)"
   ]
  },
  {
   "cell_type": "code",
   "execution_count": null,
   "metadata": {},
   "outputs": [],
   "source": [
    "N = int(input())\n",
    "r = sorted([int(input()) for _ in range(N)])\n",
    "result = 0\n",
    "for i in range(N):\n",
    "    cal = r[i]*(N-1)\n",
    "    if result < cal:\n",
    "        result = cal    \n",
    "print(result)"
   ]
  },
  {
   "cell_type": "markdown",
   "metadata": {},
   "source": [
    "# 152ms"
   ]
  },
  {
   "cell_type": "code",
   "execution_count": null,
   "metadata": {},
   "outputs": [],
   "source": [
    "import sys\n",
    "N = int(sys.stdin.readline())\n",
    "r = sorted([int(sys.stdin.readline()) for _ in range(N)])\n",
    "uniq=sorted(list(set(r)))\n",
    "\n",
    "import collections\n",
    "counter = collections.Counter(r)\n",
    "d = dict(counter)\n",
    "\n",
    "result = []\n",
    "num = 0 \n",
    "for i in range(len(d)):\n",
    "    result.append(uniq[i] * (N-num))\n",
    "    num += d[uniq[i]]\n",
    "print(max(result))"
   ]
  },
  {
   "cell_type": "markdown",
   "metadata": {},
   "source": [
    "# 148ms"
   ]
  },
  {
   "cell_type": "code",
   "execution_count": null,
   "metadata": {},
   "outputs": [],
   "source": [
    "import sys\n",
    "N = int(sys.stdin.readline())\n",
    "r = sorted([int(sys.stdin.readline()) for _ in range(N)])\n",
    "result = []\n",
    "for i in range(N):\n",
    "    result.append(r[i]*(N-i))\n",
    "print(max(result))"
   ]
  },
  {
   "cell_type": "markdown",
   "metadata": {},
   "source": [
    "# 128ms"
   ]
  },
  {
   "cell_type": "code",
   "execution_count": null,
   "metadata": {},
   "outputs": [],
   "source": [
    "import sys\n",
    "In = sys.stdin.readline\n",
    "def main():\n",
    "    N = int(In())\n",
    "    r = sorted([int(In()) for _ in range(N)])\n",
    "    result = []\n",
    "    for i in range(N):\n",
    "        result.append(r[i]*(N-i))\n",
    "    print(max(result))\n",
    "main()"
   ]
  },
  {
   "cell_type": "markdown",
   "metadata": {},
   "source": [
    "# 100ms"
   ]
  },
  {
   "cell_type": "code",
   "execution_count": null,
   "metadata": {},
   "outputs": [],
   "source": [
    "import sys\n",
    "In = sys.stdin.readline\n",
    "n = int(In())\n",
    "rope = [0] * 10001\n",
    "for _ in range(n):\n",
    "    rope[int(In())] += 1\n",
    "m, s = 0, 0\n",
    "for x in range(10000,-1,-1):\n",
    "    s += rope[x]\n",
    "    m = max(m, x * s)\n",
    "print(m)"
   ]
  }
 ],
 "metadata": {
  "kernelspec": {
   "display_name": "tf20",
   "language": "python",
   "name": "tf20"
  },
  "language_info": {
   "codemirror_mode": {
    "name": "ipython",
    "version": 3
   },
   "file_extension": ".py",
   "mimetype": "text/x-python",
   "name": "python",
   "nbconvert_exporter": "python",
   "pygments_lexer": "ipython3",
   "version": "3.7.4"
  }
 },
 "nbformat": 4,
 "nbformat_minor": 2
}

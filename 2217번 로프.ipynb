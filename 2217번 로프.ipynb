{
 "cells": [
  {
   "cell_type": "markdown",
   "metadata": {},
   "source": [
    "# 2217번 로프\n",
    "\n",
    "URL : https://www.acmicpc.net/problem/2217"
   ]
  },
  {
   "cell_type": "markdown",
   "metadata": {},
   "source": [
    "- 알고리즘 분류 : 그리디 알고리즘\n",
    "\n",
    "- k개의 로프 최대 중량 구하기"
   ]
  },
  {
   "cell_type": "markdown",
   "metadata": {},
   "source": [
    "# 제출 - 틀림 - 수정(맞음) 147B 4164ms\n",
    "- 중복된 숫자 생각을 하지않음  => no 생각했던 것임\n",
    "- 결정적 : 출력물을 print를 사용하지 않음"
   ]
  },
  {
   "cell_type": "code",
   "execution_count": null,
   "metadata": {},
   "outputs": [],
   "source": [
    "N = int(input())\n",
    "r = sorted([int(input()) for _ in range(N)])\n",
    "result = []\n",
    "for i in range(N):\n",
    "    result.append(r[i]*(N-i))\n",
    "print(max(result))"
   ]
  },
  {
   "cell_type": "markdown",
   "metadata": {},
   "source": [
    "***"
   ]
  },
  {
   "cell_type": "code",
   "execution_count": null,
   "metadata": {},
   "outputs": [],
   "source": [
    "import collections\n",
    "\n",
    "counter = collections.Counter(r)\n",
    "d = dict(counter)\n",
    "d"
   ]
  },
  {
   "cell_type": "code",
   "execution_count": null,
   "metadata": {},
   "outputs": [],
   "source": [
    "N = int(input())\n",
    "r = [int(input()) for _ in range(N)]\n",
    "r = sorted(r)\n",
    "uniq=sorted(list(set(r)))\n",
    "\n",
    "import collections\n",
    "counter = collections.Counter(r)\n",
    "d = dict(counter)\n",
    "\n",
    "result = []\n",
    "num = 0 \n",
    "for i in range(len(d)):\n",
    "    result.append(uniq[i] * (N-num))\n",
    "    num += d[uniq[i]]\n",
    "print(max(result))"
   ]
  },
  {
   "cell_type": "markdown",
   "metadata": {},
   "source": [
    "***"
   ]
  },
  {
   "cell_type": "markdown",
   "metadata": {},
   "source": [
    "# 제출 - 288B 4028ms\n",
    "- print 쓰지 않아 틀림"
   ]
  },
  {
   "cell_type": "code",
   "execution_count": null,
   "metadata": {},
   "outputs": [],
   "source": [
    "N = int(input())\n",
    "r = sorted([int(input()) for _ in range(N)])\n",
    "uniq=sorted(list(set(r)))\n",
    "d = {i:0 for i in uniq}\n",
    "for i in range(N):\n",
    "    d[r[i]] += 1\n",
    "    \n",
    "result = []\n",
    "num = 0 \n",
    "for i in range(len(d)):\n",
    "    result.append(uniq[i] * (N-num))\n",
    "    num += d[uniq[i]]\n",
    "print(max(result))"
   ]
  },
  {
   "cell_type": "markdown",
   "metadata": {},
   "source": [
    "# 다른 사람의 결과물 - rapaeljin 256B 92ms - 내가 돌려보니 96ms"
   ]
  },
  {
   "cell_type": "code",
   "execution_count": null,
   "metadata": {},
   "outputs": [],
   "source": [
    "import sys\n",
    "In = sys.stdin.readline\n",
    "\n",
    "def main():\n",
    "    n = int(In())\n",
    "    rope = [0] * 10001\n",
    "    for _ in range(n):\n",
    "        rope[int(In())] += 1\n",
    "    m, s = 0, 0\n",
    "    for x in range(10000,-1,-1):\n",
    "        s += rope[x]\n",
    "        m = max(m, x * s)\n",
    "    print(m)\n",
    "main()"
   ]
  },
  {
   "cell_type": "markdown",
   "metadata": {},
   "source": [
    "# sys 대신 input을 사용했을 뿐인데 속도가... 4196ms"
   ]
  },
  {
   "cell_type": "code",
   "execution_count": null,
   "metadata": {},
   "outputs": [],
   "source": [
    "def main():\n",
    "    n = int(input())\n",
    "    rope = [0] * 10001\n",
    "    for _ in range(n):\n",
    "        rope[int(input())] += 1\n",
    "    m, s = 0, 0\n",
    "    for x in range(10000,-1,-1):\n",
    "        s += rope[x]\n",
    "        m = max(m, x * s)\n",
    "    print(m)\n",
    "main()"
   ]
  },
  {
   "cell_type": "markdown",
   "metadata": {},
   "source": [
    "# 100ms?"
   ]
  },
  {
   "cell_type": "code",
   "execution_count": null,
   "metadata": {},
   "outputs": [],
   "source": [
    "import sys\n",
    "def main():\n",
    "    n = int(sys.stdin.readline())\n",
    "    rope = [0] * 10001\n",
    "    for _ in range(n):\n",
    "        rope[int(sys.stdin.readline())] += 1\n",
    "    m, s = 0, 0\n",
    "    for x in range(10000,-1,-1):\n",
    "        s += rope[x]\n",
    "        m = max(m, x * s)\n",
    "    print(m)\n",
    "main()"
   ]
  },
  {
   "cell_type": "code",
   "execution_count": null,
   "metadata": {},
   "outputs": [],
   "source": [
    "import sys\n",
    "In = sys.stdin.readline\n",
    "N = int(In())\n",
    "r = sorted([int(In()) for _ in range(N)])\n",
    "result = 0\n",
    "for i in range(N):\n",
    "    cal = r[i]*(N-1)\n",
    "    if result < cal:\n",
    "        result = cal    \n",
    "print(result)"
   ]
  },
  {
   "cell_type": "code",
   "execution_count": null,
   "metadata": {},
   "outputs": [],
   "source": [
    "import sys\n",
    "N = int(sys.stdin.readline())\n",
    "r = sorted([int(sys.stdin.readline()) for _ in range(N)])\n",
    "result = 0\n",
    "for i in range(N):\n",
    "    cal = r[i]*(N-1)\n",
    "    if result < cal:\n",
    "        result = cal    \n",
    "print(result)"
   ]
  },
  {
   "cell_type": "code",
   "execution_count": null,
   "metadata": {},
   "outputs": [],
   "source": [
    "N = int(input())\n",
    "r = sorted([int(input()) for _ in range(N)])\n",
    "result = 0\n",
    "for i in range(N):\n",
    "    cal = r[i]*(N-1)\n",
    "    if result < cal:\n",
    "        result = cal    \n",
    "print(result)"
   ]
  },
  {
   "cell_type": "markdown",
   "metadata": {},
   "source": [
    "# 152ms"
   ]
  },
  {
   "cell_type": "code",
   "execution_count": null,
   "metadata": {},
   "outputs": [],
   "source": [
    "import sys\n",
    "N = int(sys.stdin.readline())\n",
    "r = sorted([int(sys.stdin.readline()) for _ in range(N)])\n",
    "uniq=sorted(list(set(r)))\n",
    "\n",
    "import collections\n",
    "counter = collections.Counter(r)\n",
    "d = dict(counter)\n",
    "\n",
    "result = []\n",
    "num = 0 \n",
    "for i in range(len(d)):\n",
    "    result.append(uniq[i] * (N-num))\n",
    "    num += d[uniq[i]]\n",
    "print(max(result))"
   ]
  },
  {
   "cell_type": "markdown",
   "metadata": {},
   "source": [
    "# 148ms"
   ]
  },
  {
   "cell_type": "code",
   "execution_count": null,
   "metadata": {},
   "outputs": [],
   "source": [
    "import sys\n",
    "N = int(sys.stdin.readline())\n",
    "r = sorted([int(sys.stdin.readline()) for _ in range(N)])\n",
    "result = []\n",
    "for i in range(N):\n",
    "    result.append(r[i]*(N-i))\n",
    "print(max(result))"
   ]
  },
  {
   "cell_type": "markdown",
   "metadata": {},
   "source": [
    "# 128ms"
   ]
  },
  {
   "cell_type": "code",
   "execution_count": null,
   "metadata": {},
   "outputs": [],
   "source": [
    "import sys\n",
    "In = sys.stdin.readline\n",
    "def main():\n",
    "    N = int(In())\n",
    "    r = sorted([int(In()) for _ in range(N)])\n",
    "    result = []\n",
    "    for i in range(N):\n",
    "        result.append(r[i]*(N-i))\n",
    "    print(max(result))\n",
    "main()"
   ]
  },
  {
   "cell_type": "markdown",
   "metadata": {},
   "source": [
    "# 100ms"
   ]
  },
  {
   "cell_type": "code",
   "execution_count": null,
   "metadata": {},
   "outputs": [],
   "source": [
    "import sys\n",
    "In = sys.stdin.readline\n",
    "n = int(In())\n",
    "rope = [0] * 10001\n",
    "for _ in range(n):\n",
    "    rope[int(In())] += 1\n",
    "m, s = 0, 0\n",
    "for x in range(10000,-1,-1):\n",
    "    s += rope[x]\n",
    "    m = max(m, x * s)\n",
    "print(m)"
   ]
  }
 ],
 "metadata": {
  "kernelspec": {
   "display_name": "tf20",
   "language": "python",
   "name": "tf20"
  },
  "language_info": {
   "codemirror_mode": {
    "name": "ipython",
    "version": 3
   },
   "file_extension": ".py",
   "mimetype": "text/x-python",
   "name": "python",
   "nbconvert_exporter": "python",
   "pygments_lexer": "ipython3",
   "version": "3.7.4"
  }
 },
 "nbformat": 4,
 "nbformat_minor": 2
}

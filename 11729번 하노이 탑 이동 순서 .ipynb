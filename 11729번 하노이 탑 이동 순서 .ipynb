{
 "cells": [
  {
   "cell_type": "markdown",
   "metadata": {},
   "source": [
    "# 11729번 하노이 탑 이동 순서\n",
    "- URL : https://www.acmicpc.net/problem/11729\n",
    "\n",
    "- 2020-02-15\n",
    "- 최종 맞은 사람 3위 : 제출 3\n",
    "- 최종 숏코딩 : 제출 4"
   ]
  },
  {
   "cell_type": "markdown",
   "metadata": {},
   "source": [
    "# 제출 1 - 29924KB 964ms 151B"
   ]
  },
  {
   "cell_type": "code",
   "execution_count": null,
   "metadata": {},
   "outputs": [],
   "source": [
    "N = int(input())\n",
    "def h(n,f,b,t):\n",
    "    if n==1:print(f,t)\n",
    "    else:\n",
    "        h(n-1,f,t,b)\n",
    "        print(f,t)\n",
    "        h(n-1,b,f,t)\n",
    "print(2**N-1)\n",
    "h(N,1,2,3)"
   ]
  },
  {
   "cell_type": "markdown",
   "metadata": {},
   "source": [
    "# 제출 2 - 41580KB 476ms 140B"
   ]
  },
  {
   "cell_type": "code",
   "execution_count": null,
   "metadata": {},
   "outputs": [],
   "source": [
    "N = int(input())\n",
    "def h(n,f,b,t):\n",
    " if n==1:return f'{f} {t}\\n'\n",
    " return h(n-1,f,t,b)+f'{f} {t}\\n'+h(n-1,b,f,t)\n",
    "print(2**N-1)\n",
    "print(h(N,1,2,3))"
   ]
  },
  {
   "cell_type": "markdown",
   "metadata": {},
   "source": [
    "# 제출 3 - 50416KB 92ms 200B\n",
    "- 2등 erados 코드 참조"
   ]
  },
  {
   "cell_type": "code",
   "execution_count": null,
   "metadata": {},
   "outputs": [],
   "source": [
    "n=int(input())\n",
    "s=\"1 3\\n\"\n",
    "for i in range(n-1):\n",
    " a=s.replace(\"3\",\"4\").replace(\"2\",\"3\").replace(\"4\",\"2\")\n",
    " b=\"1 3\\n\"\n",
    " c=s.replace(\"1\",\"4\").replace(\"2\",\"1\").replace(\"4\",\"2\")\n",
    " s=a+b+c\n",
    "print(2**n-1)\n",
    "print(s)"
   ]
  },
  {
   "cell_type": "markdown",
   "metadata": {},
   "source": [
    "# 제출 4 - 29924KB 1068ms 98B\n",
    "- 2020-02-15 숏코딩 5등"
   ]
  },
  {
   "cell_type": "code",
   "execution_count": null,
   "metadata": {},
   "outputs": [],
   "source": [
    "N=int(input())\n",
    "print(2**N-1)\n",
    "def h(n,a,b,c):\n",
    " if n:h(n-1,a,c,b);print(a,b);h(n-1,c,b,a)\n",
    "h(N,1,3,2)"
   ]
  },
  {
   "cell_type": "markdown",
   "metadata": {},
   "source": [
    "# 제출 5 - 29924KB 1064ms 98B"
   ]
  },
  {
   "cell_type": "code",
   "execution_count": null,
   "metadata": {},
   "outputs": [],
   "source": [
    "p=print;N=int(input());p(2**N-1)\n",
    "def h(n,a,b,c):\n",
    " if n:h(n-1,a,c,b);p(a,b);h(n-1,c,b,a)\n",
    "h(N,1,3,2)"
   ]
  },
  {
   "cell_type": "markdown",
   "metadata": {},
   "source": [
    "# 제출 6 - 29924KB 1064ms 98B\n",
    "- a^b = a xor b"
   ]
  },
  {
   "cell_type": "code",
   "execution_count": null,
   "metadata": {},
   "outputs": [],
   "source": [
    "def h(f,t,n):n>1!=h(f,f^t,n-1);print(f,t);n>1!=h(f^t,t,n-1)\n",
    "n=int(input());print(2**n-1);h(1,3,n)"
   ]
  },
  {
   "cell_type": "code",
   "execution_count": null,
   "metadata": {},
   "outputs": [],
   "source": [
    "def h(f,t,n):\n",
    "    n>1!=h(f,f^t,n-1)\n",
    "    print(f,t)\n",
    "    n>1!=h(f^t,t,n-1)\n",
    "    print(n>1,n>1!=1,f^t)\n",
    "n=int(input());print(2**n-1);h(1,3,n)"
   ]
  },
  {
   "cell_type": "markdown",
   "metadata": {},
   "source": [
    "# 제출 7 - 29924KB 1008ms 101B"
   ]
  },
  {
   "cell_type": "code",
   "execution_count": null,
   "metadata": {},
   "outputs": [],
   "source": [
    "def h(n,a,b,c):n>1!=h(n-1,a,c,b);p(a,b);n>1!=h(n-1,c,b,a)\n",
    "p=print;N=int(input());p(2**N-1);h(N,1,3,2)"
   ]
  }
 ],
 "metadata": {
  "kernelspec": {
   "display_name": "tf20",
   "language": "python",
   "name": "tf20"
  },
  "language_info": {
   "codemirror_mode": {
    "name": "ipython",
    "version": 3
   },
   "file_extension": ".py",
   "mimetype": "text/x-python",
   "name": "python",
   "nbconvert_exporter": "python",
   "pygments_lexer": "ipython3",
   "version": "3.7.4"
  }
 },
 "nbformat": 4,
 "nbformat_minor": 2
}

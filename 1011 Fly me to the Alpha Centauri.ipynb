{
 "cells": [
  {
   "cell_type": "markdown",
   "metadata": {},
   "source": [
    "# 잘못된 방식의 진행"
   ]
  },
  {
   "cell_type": "code",
   "execution_count": null,
   "metadata": {},
   "outputs": [],
   "source": [
    "start,end=input().split()"
   ]
  },
  {
   "cell_type": "code",
   "execution_count": null,
   "metadata": {},
   "outputs": [],
   "source": [
    "val=int(end)-1-int(start)\n",
    "count=1\n",
    "before=0\n",
    "after=0\n",
    "position=int(start)\n",
    "\n",
    "print('val:',val,'count:',count,'position:',position,'before:',before,'after:',after)"
   ]
  },
  {
   "cell_type": "code",
   "execution_count": null,
   "metadata": {},
   "outputs": [],
   "source": [
    "while True:\n",
    "    if val == int(end)-1-int(start):\n",
    "        before = 1\n",
    "    else:\n",
    "        if val >= after +1:\n",
    "            before = after + 1\n",
    "\n",
    "        elif after-1 < val <=after:\n",
    "            before = after\n",
    "        else:\n",
    "            before=after-1\n",
    "    after = before\n",
    "    val -= before\n",
    "    count += 1\n",
    "    print('val:',val,'count:',count,'position:',position,'before:',before,'after:',after)\n",
    "\n",
    "    if val <= 0:\n",
    "        break"
   ]
  },
  {
   "cell_type": "markdown",
   "metadata": {
    "collapsed": true
   },
   "source": [
    "# 잘못된 방식의 진행 마무리"
   ]
  },
  {
   "cell_type": "code",
   "execution_count": null,
   "metadata": {},
   "outputs": [],
   "source": [
    "getNum=int(input())\n",
    "\n",
    "for i in range(getNum):\n",
    "    start,end=input().split()\n",
    "    val=int(end)-1-int(start)\n",
    "    count=1\n",
    "    before, after=0,0 \n",
    "\n",
    "    while val > 0:\n",
    "        if val == int(end)-1-int(start):\n",
    "            before = 1\n",
    "        else:\n",
    "            if val >= after+1:\n",
    "                before = after + 1\n",
    "\n",
    "            elif after-1 < val <= after:\n",
    "                before = after\n",
    "            else:\n",
    "                before=after-1\n",
    "        after = before\n",
    "        val -= before\n",
    "        count += 1\n",
    "\n",
    "    print(count)"
   ]
  },
  {
   "cell_type": "code",
   "execution_count": null,
   "metadata": {
    "collapsed": true
   },
   "outputs": [],
   "source": [
    "start,end=input().split()\n",
    "val=int(end)-1-int(start)\n",
    "count=1\n",
    "before=0\n",
    "after=0\n",
    "\n",
    "while True:\n",
    "    if val <= 0:\n",
    "        break\n",
    "        \n",
    "    if val == int(end)-1-int(start):\n",
    "        if val == 0:\n",
    "            before =0\n",
    "            break\n",
    "        else:\n",
    "            before = 1\n",
    "    else:\n",
    "        if val >= after +1:\n",
    "            before = after + 1\n",
    "\n",
    "        elif after-1 < val <=after:\n",
    "            before = after\n",
    "        else:\n",
    "            before=after-1\n",
    "    after = before\n",
    "    val -= before\n",
    "    count += 1\n",
    "\n",
    "print(count)"
   ]
  },
  {
   "cell_type": "markdown",
   "metadata": {},
   "source": [
    "# 올바른 방식"
   ]
  },
  {
   "cell_type": "code",
   "execution_count": 1,
   "metadata": {},
   "outputs": [
    {
     "name": "stdout",
     "output_type": "stream",
     "text": [
      "0 7\n"
     ]
    }
   ],
   "source": [
    "start,end=map(int, input().split())"
   ]
  },
  {
   "cell_type": "code",
   "execution_count": 5,
   "metadata": {},
   "outputs": [
    {
     "name": "stdout",
     "output_type": "stream",
     "text": [
      "3 12\n",
      "5\n"
     ]
    }
   ],
   "source": [
    "val=end-start\n",
    "count=0\n",
    "improve=0\n",
    "tot=0\n",
    "\n",
    "while val > tot:\n",
    "    improve += 1\n",
    "    tot += 2*improve\n",
    "\n",
    "print(improve, tot)\n",
    "if val <= tot-improve:\n",
    "    count = 2*improve -1\n",
    "else:\n",
    "    count = 2*improve    \n",
    "\n",
    "print(count)"
   ]
  },
  {
   "cell_type": "markdown",
   "metadata": {
    "collapsed": true
   },
   "source": [
    "# 올바른 방식 마무리"
   ]
  },
  {
   "cell_type": "code",
   "execution_count": null,
   "metadata": {
    "collapsed": true
   },
   "outputs": [],
   "source": [
    "getNum=int(input())\n",
    "\n",
    "for i in range(getNum):\n",
    "    start,end=map(int, input().split())\n",
    "    val=end-start\n",
    "    count=0\n",
    "    improve=0\n",
    "    tot=0\n",
    "\n",
    "    while val > tot:\n",
    "        improve += 1\n",
    "        tot += 2*improve\n",
    "\n",
    "    if val <= tot-improve:\n",
    "        count = 2*improve -1\n",
    "    else:\n",
    "        count = 2*improve    \n",
    "\n",
    "    print(count)"
   ]
  }
 ],
 "metadata": {
  "kernelspec": {
   "display_name": "Python 3",
   "language": "python",
   "name": "python3"
  },
  "language_info": {
   "codemirror_mode": {
    "name": "ipython",
    "version": 3
   },
   "file_extension": ".py",
   "mimetype": "text/x-python",
   "name": "python",
   "nbconvert_exporter": "python",
   "pygments_lexer": "ipython3",
   "version": "3.6.9"
  }
 },
 "nbformat": 4,
 "nbformat_minor": 2
}

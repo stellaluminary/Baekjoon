{
 "cells": [
  {
   "cell_type": "code",
   "execution_count": 25,
   "metadata": {},
   "outputs": [
    {
     "name": "stdout",
     "output_type": "stream",
     "text": [
      "c=c=\n"
     ]
    }
   ],
   "source": [
    "getStr=input()"
   ]
  },
  {
   "cell_type": "code",
   "execution_count": 26,
   "metadata": {},
   "outputs": [
    {
     "name": "stdout",
     "output_type": "stream",
     "text": [
      "c= is sumalp => 1\n",
      "c= is sumalp => 2\n"
     ]
    }
   ],
   "source": [
    "chalp=['c=','c-','dz=','d-','lj','nj','s=','z='] #앞자리 c,d,l,n,s,z\n",
    "frontalp=['c','d','l','n','s','z']\n",
    "boolJump=False\n",
    "sumalp=0\n",
    "\n",
    "for i in range(len(getStr)):\n",
    "    if boolJump== True:\n",
    "        boolJump=False\n",
    "        if getStr[i-1:i+2] == 'dz=':\n",
    "            boolJump=True\n",
    "        #print('In boolJump True ch => ',boolJump)\n",
    "        continue\n",
    "    else:\n",
    "        if getStr[i] in frontalp:\n",
    "            if getStr[i:i+2] in chalp or getStr[i:i+3]=='dz=':\n",
    "                sumalp +=1\n",
    "                boolJump=True\n",
    "                print(getStr[i:i+2],'is sumalp =>',sumalp)\n",
    "            else:\n",
    "                sumalp+=1\n",
    "                print(getStr[i],'is alpabet',sumalp,'is tot alp num')\n",
    "        else:\n",
    "            sumalp +=1\n",
    "            print(getStr[i],'is alpabet',sumalp,'is tot alp num')"
   ]
  },
  {
   "cell_type": "code",
   "execution_count": 27,
   "metadata": {},
   "outputs": [
    {
     "data": {
      "text/plain": [
       "2"
      ]
     },
     "execution_count": 27,
     "metadata": {},
     "output_type": "execute_result"
    }
   ],
   "source": [
    "sumalp"
   ]
  },
  {
   "cell_type": "markdown",
   "metadata": {},
   "source": [
    "# 2941번 크로아티아 알파벳"
   ]
  },
  {
   "cell_type": "code",
   "execution_count": 31,
   "metadata": {},
   "outputs": [
    {
     "name": "stdout",
     "output_type": "stream",
     "text": [
      "c=c=\n",
      "2\n"
     ]
    }
   ],
   "source": [
    "getStr=input()\n",
    "chalp=['c=','c-','dz=','d-','lj','nj','s=','z='] #앞자리 c,d,l,n,s,z\n",
    "frontalp=['c','d','l','n','s','z']\n",
    "boolJump=False\n",
    "sumalp=0\n",
    "\n",
    "for i in range(len(getStr)):\n",
    "    if boolJump== True:\n",
    "        boolJump=False\n",
    "        if getStr[i-1:i+2] == 'dz=':\n",
    "            boolJump=True\n",
    "        continue\n",
    "    else:\n",
    "        if getStr[i] in frontalp:\n",
    "            if getStr[i:i+2] in chalp or getStr[i:i+3]=='dz=':\n",
    "                sumalp +=1\n",
    "                boolJump=True\n",
    "            else:\n",
    "                sumalp+=1\n",
    "        else:\n",
    "            sumalp +=1\n",
    "            \n",
    "print(sumalp)"
   ]
  },
  {
   "cell_type": "code",
   "execution_count": 35,
   "metadata": {},
   "outputs": [
    {
     "name": "stdout",
     "output_type": "stream",
     "text": [
      "c=c=\n",
      "2\n"
     ]
    }
   ],
   "source": [
    "getStr=input()\n",
    "chalp=['c=','c-','dz=','d-','lj','nj','s=','z='] \n",
    "boolJump=False\n",
    "sumalp=0\n",
    "\n",
    "for i in range(len(getStr)):\n",
    "    if boolJump== True:\n",
    "        boolJump=False\n",
    "        if getStr[i-1:i+2] == 'dz=':\n",
    "            boolJump=True\n",
    "        continue\n",
    "    else:        \n",
    "        if getStr[i:i+2] in chalp or getStr[i:i+3]=='dz=':\n",
    "            sumalp +=1\n",
    "            boolJump=True\n",
    "        else:\n",
    "            sumalp+=1        \n",
    "            \n",
    "print(sumalp)"
   ]
  },
  {
   "cell_type": "code",
   "execution_count": null,
   "metadata": {
    "collapsed": true
   },
   "outputs": [],
   "source": []
  }
 ],
 "metadata": {
  "kernelspec": {
   "display_name": "Python 3",
   "language": "python",
   "name": "python3"
  },
  "language_info": {
   "codemirror_mode": {
    "name": "ipython",
    "version": 3
   },
   "file_extension": ".py",
   "mimetype": "text/x-python",
   "name": "python",
   "nbconvert_exporter": "python",
   "pygments_lexer": "ipython3",
   "version": "3.6.9"
  }
 },
 "nbformat": 4,
 "nbformat_minor": 2
}

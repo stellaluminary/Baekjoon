{
 "cells": [
  {
   "cell_type": "markdown",
   "metadata": {},
   "source": [
    "# 1541번 잃어버린 괄호\n",
    "\n",
    "URL : https://www.acmicpc.net/problem/1541"
   ]
  },
  {
   "cell_type": "markdown",
   "metadata": {},
   "source": [
    "- 알고리즘 분류 : 그리디 알고리즘\n",
    "\n",
    "- 최소가 되게하는 괄호를 적절히 쳐라."
   ]
  },
  {
   "cell_type": "markdown",
   "metadata": {},
   "source": [
    "# 최초 결과물"
   ]
  },
  {
   "cell_type": "code",
   "execution_count": null,
   "metadata": {},
   "outputs": [],
   "source": [
    "N = input() \n",
    "\n",
    "a = []\n",
    "b=''\n",
    "for e,i in enumerate(N):\n",
    "    if i == '+':\n",
    "        a.append(b)\n",
    "        b=''\n",
    "        a.append('+')\n",
    "    elif i == '-':\n",
    "        a.append(b)\n",
    "        b=''\n",
    "        a.append('-')\n",
    "    else:\n",
    "        b += i\n",
    "        if  e == len(N)-1:\n",
    "            a.append(b)\n",
    "            \n",
    "c = a.copy()\n",
    "front = [0,]\n",
    "for i in range(1, len(c)-1):\n",
    "    if c[i+1] == '+' or c[i+1] == '-': \n",
    "        front.append(i)\n",
    "        \n",
    "val = []\n",
    "for i in front:\n",
    "    c.insert(i,'(')\n",
    "    for j in range(i+4, len(c)-1):\n",
    "        if c[j] == '+' or c[j] == '-': #string.isdigit()\n",
    "            c.insert(j, ')')\n",
    "            val.append(c.copy())     \n",
    "            c.pop(j)\n",
    "    c.append(')')\n",
    "    val.append(c.copy())    \n",
    "    c.pop(len(c)-1)    \n",
    "    c.pop(i)\n",
    "result = []\n",
    "p=''\n",
    "for i in range(len(val)):\n",
    "    for j in range(len(val[i])):\n",
    "        p += val[i][j]\n",
    "    result.append(eval(p))\n",
    "    p=''\n",
    "print(min(result))"
   ]
  },
  {
   "cell_type": "markdown",
   "metadata": {},
   "source": [
    "# Upgrade - 시간 초과, eval('04+3') 고려하지 않음"
   ]
  },
  {
   "cell_type": "code",
   "execution_count": null,
   "metadata": {},
   "outputs": [],
   "source": [
    "N = input() \n",
    "a = []\n",
    "b=''\n",
    "for i in N:\n",
    "    if i.isdigit():\n",
    "        b += i\n",
    "    else:\n",
    "        a.append(b)\n",
    "        a.append(i)     \n",
    "        b=''        \n",
    "a.append(b)\n",
    "bl=False\n",
    "for i,e in enumerate(a):    \n",
    "    if e == '-':\n",
    "        if bl == True: \n",
    "            a.insert(i,')')\n",
    "            bl=False            \n",
    "        a.insert(i+1,'(')\n",
    "        bl = True   \n",
    "if bl:\n",
    "    a.append(')')\n",
    "print(eval(a))"
   ]
  },
  {
   "cell_type": "markdown",
   "metadata": {},
   "source": [
    "# Upgrade - 실패"
   ]
  },
  {
   "cell_type": "code",
   "execution_count": null,
   "metadata": {},
   "outputs": [],
   "source": [
    "N = list(map(str,input().split('-')))\n",
    "p = N[0]\n",
    "for i in range(1, len(N)):\n",
    "    p = p + '-(' + N[i] + ')'\n",
    "print(eval(p))"
   ]
  },
  {
   "cell_type": "code",
   "execution_count": null,
   "metadata": {},
   "outputs": [],
   "source": [
    "eval('55-(044+32)') # SyntaxError: invalid token"
   ]
  },
  {
   "cell_type": "code",
   "execution_count": null,
   "metadata": {},
   "outputs": [],
   "source": [
    "55-(044+32) # SyntaxError: invalid token"
   ]
  },
  {
   "cell_type": "markdown",
   "metadata": {},
   "source": [
    "# Check - 런타임 에러"
   ]
  },
  {
   "cell_type": "code",
   "execution_count": null,
   "metadata": {},
   "outputs": [],
   "source": [
    "N = input().split('-')\n",
    "p = N[0]\n",
    "for i,e in enumerate(N):\n",
    "    if e.isdigit():\n",
    "        N[i] = str(int(e))\n",
    "    else:\n",
    "        N[i] = str(sum(list(map(int, N[i].split('+')))))\n",
    "for i in range(1, len(N)):\n",
    "    p += '-(' + N[i] + ')'\n",
    "print(eval(p))"
   ]
  },
  {
   "cell_type": "code",
   "execution_count": null,
   "metadata": {},
   "outputs": [],
   "source": [
    "import sys \n",
    "N = sys.stdin.readline().split('-')\n",
    "p = N[0]\n",
    "for i,e in enumerate(N):\n",
    "    if e.isdigit():\n",
    "        N[i] = str(int(e))\n",
    "    else:\n",
    "        N[i] = str(sum(list(map(int, N[i].split('+')))))\n",
    "for i in range(1, len(N)):\n",
    "    p += '-' + N[i]\n",
    "print(eval(p))"
   ]
  },
  {
   "cell_type": "code",
   "execution_count": null,
   "metadata": {},
   "outputs": [],
   "source": [
    "sum(list(map(int,'0042+0082'.split('+'))))"
   ]
  },
  {
   "cell_type": "markdown",
   "metadata": {},
   "source": [
    "# 드디어 성공"
   ]
  },
  {
   "cell_type": "code",
   "execution_count": null,
   "metadata": {},
   "outputs": [],
   "source": [
    "N = input().split('-')\n",
    "val = 0\n",
    "for i,e in enumerate(N):\n",
    "    if i == 0:\n",
    "        if e.isdigit():\n",
    "            N[i] = int(e)\n",
    "        else:\n",
    "            N[i] = sum(list(map(int, N[i].split('+'))))\n",
    "        val += N[i]\n",
    "    else:\n",
    "        if e.isdigit():\n",
    "            N[i] = int(e)\n",
    "        else:\n",
    "            N[i] = sum(list(map(int, N[i].split('+'))))\n",
    "        val -= N[i]\n",
    "print(val)"
   ]
  },
  {
   "cell_type": "markdown",
   "metadata": {},
   "source": [
    "# 다른 사람 - rapaeljin 92B 56ms"
   ]
  },
  {
   "cell_type": "code",
   "execution_count": null,
   "metadata": {},
   "outputs": [],
   "source": [
    "n = [sum(int(x) for x in y.split('+')) for y in input().split('-')]\n",
    "print(n[0] - sum(n[1:]))"
   ]
  },
  {
   "cell_type": "markdown",
   "metadata": {},
   "source": [
    "# ohyuni 124B 56ms"
   ]
  },
  {
   "cell_type": "code",
   "execution_count": null,
   "metadata": {},
   "outputs": [],
   "source": [
    "s = input().split('-')\n",
    "v = int(sum(map(int, s[0].split('+'))))\n",
    "for x in s[1:]:\n",
    "    v -= sum(map(int, x.split('+')))\n",
    "print(v)"
   ]
  },
  {
   "cell_type": "markdown",
   "metadata": {},
   "source": [
    "# 숏코딩 - sait2000 64ms - 2년전"
   ]
  },
  {
   "cell_type": "code",
   "execution_count": null,
   "metadata": {},
   "outputs": [],
   "source": [
    "a,*b=[sum(map(int,s.split('+')))for s in input().split('-')];print(a-sum(b))"
   ]
  },
  {
   "cell_type": "markdown",
   "metadata": {},
   "source": [
    "# minkj1992, youngminz 76B 60ms 8개월전"
   ]
  },
  {
   "cell_type": "code",
   "execution_count": null,
   "metadata": {},
   "outputs": [],
   "source": [
    "a,*b=[sum(map(int,s.split('+')))for s in input().split('-')];print(a-sum(b))"
   ]
  },
  {
   "cell_type": "code",
   "execution_count": null,
   "metadata": {},
   "outputs": [],
   "source": [
    "a, *b=[1,2,3,4]\n",
    "a,b"
   ]
  },
  {
   "cell_type": "code",
   "execution_count": null,
   "metadata": {},
   "outputs": [],
   "source": [
    "a,*b,c=[5,6,7,8]\n",
    "a,b,c"
   ]
  },
  {
   "cell_type": "code",
   "execution_count": null,
   "metadata": {},
   "outputs": [],
   "source": [
    "a,*b,*c,d = [1,2,3,4,5,6,7] # SyntaxError: two starred expressions in assignment"
   ]
  }
 ],
 "metadata": {
  "kernelspec": {
   "display_name": "Python 3",
   "language": "python",
   "name": "python3"
  },
  "language_info": {
   "codemirror_mode": {
    "name": "ipython",
    "version": 3
   },
   "file_extension": ".py",
   "mimetype": "text/x-python",
   "name": "python",
   "nbconvert_exporter": "python",
   "pygments_lexer": "ipython3",
   "version": "3.7.4"
  }
 },
 "nbformat": 4,
 "nbformat_minor": 2
}

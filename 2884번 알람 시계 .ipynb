{
 "cells": [
  {
   "cell_type": "markdown",
   "metadata": {},
   "source": [
    "# 2884번 알람 시계 \n",
    "- URL : https://www.acmicpc.net/problem/2884\n",
    "- 최종 : 제출 2\n",
    "- 숏코딩 : 제출 5"
   ]
  },
  {
   "cell_type": "markdown",
   "metadata": {},
   "source": [
    "# 제출 1 - 29284KB 52ms 148B"
   ]
  },
  {
   "cell_type": "code",
   "execution_count": null,
   "metadata": {},
   "outputs": [],
   "source": [
    "H,M = list(map(int, input().split()))\n",
    "if M < 45:    \n",
    "    M = 15+M\n",
    "    if H:\n",
    "        H -= 1\n",
    "    else:\n",
    "        H = 23\n",
    "else:\n",
    "    M -= 45    \n",
    "print(H,M)"
   ]
  },
  {
   "cell_type": "markdown",
   "metadata": {},
   "source": [
    "# 제출 2 - 29284KB 52ms 72B"
   ]
  },
  {
   "cell_type": "code",
   "execution_count": null,
   "metadata": {},
   "outputs": [],
   "source": [
    "H,M=map(int,input().split())\n",
    "H=(H+(M-45)//60)%24\n",
    "M=(M-45)%60\n",
    "print(H,M)"
   ]
  },
  {
   "cell_type": "markdown",
   "metadata": {},
   "source": [
    "# 제출 3 - 29284KB 56ms 64B\n",
    "- 바로 프린트를 사용하는 것은 시간을 잡아먹는다"
   ]
  },
  {
   "cell_type": "code",
   "execution_count": null,
   "metadata": {},
   "outputs": [],
   "source": [
    "H,M=map(int,input().split())\n",
    "print((H+(M-45)//60)%24,(M-45)%60)"
   ]
  },
  {
   "cell_type": "markdown",
   "metadata": {},
   "source": [
    "# 제출 4 - 29284KB 56ms 59B"
   ]
  },
  {
   "cell_type": "code",
   "execution_count": null,
   "metadata": {},
   "outputs": [],
   "source": [
    "H,M=map(int,input().split())\n",
    "print((H-(M<45))%24,(M-45)%60)"
   ]
  },
  {
   "cell_type": "markdown",
   "metadata": {},
   "source": [
    "# 제출 5 - 29284KB 56ms 59B\n",
    "- M<45를 이행하는 것은 (M-45)//60보다 시간이 더 걸린다."
   ]
  },
  {
   "cell_type": "code",
   "execution_count": null,
   "metadata": {},
   "outputs": [],
   "source": [
    "H,M=map(int,input().split())\n",
    "H=(H-(M<45))%24\n",
    "M=(M-45)%60\n",
    "print(H,M)"
   ]
  }
 ],
 "metadata": {
  "kernelspec": {
   "display_name": "tf20",
   "language": "python",
   "name": "tf20"
  },
  "language_info": {
   "codemirror_mode": {
    "name": "ipython",
    "version": 3
   },
   "file_extension": ".py",
   "mimetype": "text/x-python",
   "name": "python",
   "nbconvert_exporter": "python",
   "pygments_lexer": "ipython3",
   "version": "3.7.4"
  }
 },
 "nbformat": 4,
 "nbformat_minor": 2
}

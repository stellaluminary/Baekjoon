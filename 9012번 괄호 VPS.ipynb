{
 "cells": [
  {
   "cell_type": "markdown",
   "metadata": {},
   "source": [
    "# 9012번 괄호 VPS\n",
    "- URL : https://www.acmicpc.net/problem/9012"
   ]
  },
  {
   "cell_type": "markdown",
   "metadata": {},
   "source": [
    "# 제출 1 - 틀림 260B\n",
    "-  ')(' 이런 경우 오류가 남"
   ]
  },
  {
   "cell_type": "code",
   "execution_count": null,
   "metadata": {},
   "outputs": [],
   "source": [
    "N = int(input())\n",
    "for i in range(N):\n",
    "    a = list(input())    \n",
    "    s1,s2 = 0,0\n",
    "    for j in a:\n",
    "        if j == '(':\n",
    "            s1 += 1\n",
    "        else:\n",
    "            s2 += 1            \n",
    "    if s1 == s2:\n",
    "        print('YES')\n",
    "    else:\n",
    "        print('NO')            "
   ]
  },
  {
   "cell_type": "markdown",
   "metadata": {},
   "source": [
    "# 제출 2 - 틀림 154B\n",
    "-  ')(' 이런 경우 오류가 남"
   ]
  },
  {
   "cell_type": "code",
   "execution_count": null,
   "metadata": {},
   "outputs": [],
   "source": [
    "for i in range(int(input())):\n",
    "    a = list(input())              \n",
    "    if a.count('(') == a.count(')'):\n",
    "        print('YES')\n",
    "    else:\n",
    "        print('NO')            "
   ]
  },
  {
   "cell_type": "markdown",
   "metadata": {},
   "source": [
    "# 제출 3 - 틀림 184B\n",
    "-  ')(' 이런 경우 오류가 남"
   ]
  },
  {
   "cell_type": "code",
   "execution_count": null,
   "metadata": {},
   "outputs": [],
   "source": [
    "import sys\n",
    "for i in range(int(input())):\n",
    "    a = list(input())        \n",
    "    if a.count('(') == a.count(')'):\n",
    "        sys.stdout.write('YES\\n')\n",
    "    else:\n",
    "        sys.stdout.write('NO\\n')"
   ]
  },
  {
   "cell_type": "markdown",
   "metadata": {},
   "source": [
    "# 제출 4 - 29284KB, 64ms, 534B"
   ]
  },
  {
   "cell_type": "code",
   "execution_count": null,
   "metadata": {},
   "outputs": [],
   "source": [
    "for i in range(int(input())):\n",
    "    a = list(input())              \n",
    "    if a.count('(') == a.count(')'):\n",
    "        s = []\n",
    "        for i in a:\n",
    "            if s:\n",
    "                if i == ')':\n",
    "                    if s[-1] == '(':\n",
    "                        s.pop()\n",
    "                    else:\n",
    "                        s.append(i)\n",
    "                else:\n",
    "                    s.append(i)\n",
    "            else:\n",
    "                s.append(i)\n",
    "        if s:\n",
    "            print('NO')\n",
    "        else:\n",
    "            print('YES')\n",
    "    else:\n",
    "        print('NO')            "
   ]
  },
  {
   "cell_type": "markdown",
   "metadata": {},
   "source": [
    "# 제출 5 - 29284KB, 56ms, 551B\n",
    "- sys로만 바꿨는데 시간이 줄음"
   ]
  },
  {
   "cell_type": "code",
   "execution_count": null,
   "metadata": {},
   "outputs": [],
   "source": [
    "import sys\n",
    "r = sys.stdin.readline\n",
    "for i in range(int(r())):\n",
    "    a = list(r())[:-1] #개행 문자 제거 '\\n'\n",
    "    if a.count('(') == a.count(')'):\n",
    "        s = []\n",
    "        for i in a:\n",
    "            if s:\n",
    "                if i == ')':\n",
    "                    if s[-1] == '(':\n",
    "                        s.pop()\n",
    "                    else:\n",
    "                        s.append(i)\n",
    "                else:\n",
    "                    s.append(i)\n",
    "            else:\n",
    "                s.append(i)\n",
    "        if s:\n",
    "            print('NO')\n",
    "        else:\n",
    "            print('YES')\n",
    "    else:\n",
    "        print('NO')            "
   ]
  },
  {
   "cell_type": "markdown",
   "metadata": {},
   "source": [
    "# 제출 6 - 29284KB, 56ms, 202B\n",
    "- strip로 개행문자 제거, replace로 삭제를 통한 코드 간소화"
   ]
  },
  {
   "cell_type": "code",
   "execution_count": null,
   "metadata": {},
   "outputs": [],
   "source": [
    "import sys\n",
    "r = sys.stdin.readline\n",
    "for i in range(int(r())):\n",
    "    a = r().strip()\n",
    "    for j in range(len(a)//2):\n",
    "        a = a.replace('()','')\n",
    "    if a:\n",
    "        print('NO')\n",
    "    else:\n",
    "        print('YES')"
   ]
  },
  {
   "cell_type": "markdown",
   "metadata": {},
   "source": [
    "# 제출 7 - 29284KB, 56ms, 314B\n",
    "- 덧셈 뺄셈과 조건문으로 해결\n",
    "- = 사이 공간 줄이기"
   ]
  },
  {
   "cell_type": "code",
   "execution_count": null,
   "metadata": {},
   "outputs": [],
   "source": [
    "import sys\n",
    "r=sys.stdin.readline\n",
    "for i in range(int(r())):\n",
    "    a=list(r())[:-1]\n",
    "    sum=0\n",
    "    for j in a:\n",
    "        if j=='(':\n",
    "            sum+=1\n",
    "        elif j==')':\n",
    "            sum-=1\n",
    "        if sum<0:\n",
    "            print('NO')\n",
    "            break\n",
    "    if sum>0:\n",
    "        print('NO')\n",
    "    elif sum==0:\n",
    "        print('YES')"
   ]
  },
  {
   "cell_type": "markdown",
   "metadata": {},
   "source": [
    "# 숏코딩"
   ]
  },
  {
   "cell_type": "markdown",
   "metadata": {},
   "source": [
    "# 제출 8 - 29284KB, 64ms, 113B\n",
    "- 제출 6으로 숏코딩"
   ]
  },
  {
   "cell_type": "code",
   "execution_count": null,
   "metadata": {},
   "outputs": [],
   "source": [
    "i=input\n",
    "for j in '0'*int(i()):\n",
    "  a = i()\n",
    "  for j in range(25): a=a.replace('()','')\n",
    "  print('NO' if a else 'YES')"
   ]
  },
  {
   "cell_type": "markdown",
   "metadata": {},
   "source": [
    "# 제출 9 - 29284KB, 64ms, 97B\n",
    "- 제출 8 수정\n",
    "- print도 간소화, 불필요한 띄어쓰기 간소화"
   ]
  },
  {
   "cell_type": "code",
   "execution_count": null,
   "metadata": {},
   "outputs": [],
   "source": [
    "i=input \n",
    "for j in'0'*int(i()):\n",
    " a=i()\n",
    " for j in a:a=a.replace('()','')\n",
    " print(['YES','NO'][a>''])"
   ]
  },
  {
   "cell_type": "markdown",
   "metadata": {},
   "source": [
    "# 제출 10 - 숏코딩 1등 jhmoon2000님 코드"
   ]
  },
  {
   "cell_type": "code",
   "execution_count": null,
   "metadata": {},
   "outputs": [],
   "source": [
    "exec((\"print(['NO','YES'][not input()\"+\".replace('()','')\"*25+\"]);\")*int(input()))"
   ]
  }
 ],
 "metadata": {
  "kernelspec": {
   "display_name": "tf20",
   "language": "python",
   "name": "tf20"
  },
  "language_info": {
   "codemirror_mode": {
    "name": "ipython",
    "version": 3
   },
   "file_extension": ".py",
   "mimetype": "text/x-python",
   "name": "python",
   "nbconvert_exporter": "python",
   "pygments_lexer": "ipython3",
   "version": "3.7.4"
  }
 },
 "nbformat": 4,
 "nbformat_minor": 2
}

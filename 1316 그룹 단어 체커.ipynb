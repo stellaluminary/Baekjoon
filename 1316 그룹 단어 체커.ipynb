{
 "cells": [
  {
   "cell_type": "code",
   "execution_count": 44,
   "metadata": {},
   "outputs": [
    {
     "name": "stdout",
     "output_type": "stream",
     "text": [
      "4\n",
      "aba\n",
      "abab\n",
      "abcabc\n",
      "a\n"
     ]
    }
   ],
   "source": [
    "N=int(input())\n",
    "getStr=[]\n",
    "for i in range(N):\n",
    "    getStr.append(input())"
   ]
  },
  {
   "cell_type": "code",
   "execution_count": 45,
   "metadata": {},
   "outputs": [
    {
     "data": {
      "text/plain": [
       "['aba', 'abab', 'abcabc', 'a']"
      ]
     },
     "execution_count": 45,
     "metadata": {},
     "output_type": "execute_result"
    }
   ],
   "source": [
    "getStr"
   ]
  },
  {
   "cell_type": "code",
   "execution_count": 23,
   "metadata": {},
   "outputs": [
    {
     "data": {
      "text/plain": [
       "{'a': 0,\n",
       " 'b': 0,\n",
       " 'c': 0,\n",
       " 'd': 0,\n",
       " 'e': 0,\n",
       " 'f': 0,\n",
       " 'g': 0,\n",
       " 'h': 0,\n",
       " 'i': 0,\n",
       " 'j': 0,\n",
       " 'k': 0,\n",
       " 'l': 0,\n",
       " 'm': 0,\n",
       " 'n': 0,\n",
       " 'o': 0,\n",
       " 'p': 0,\n",
       " 'q': 0,\n",
       " 'r': 0,\n",
       " 's': 0,\n",
       " 't': 0,\n",
       " 'u': 0,\n",
       " 'v': 0,\n",
       " 'w': 0,\n",
       " 'x': 0,\n",
       " 'y': 0,\n",
       " 'z': 0}"
      ]
     },
     "execution_count": 23,
     "metadata": {},
     "output_type": "execute_result"
    }
   ],
   "source": [
    "alpDict={chr(i):0 for i in range(ord('a'),ord('z')+1)}\n",
    "alpDict"
   ]
  },
  {
   "cell_type": "code",
   "execution_count": 13,
   "metadata": {},
   "outputs": [],
   "source": [
    "seealp=[]\n",
    "countGroupNum=0\n",
    "for i in range(len(getStr[0])):    \n",
    "    if i>0 and getStr[0][i-1] == getStr[0][i]:\n",
    "        continue\n",
    "    elif getStr[0][i-1] != getStr[0][i]:\n",
    "        seealp.append(getStr[0][i])"
   ]
  },
  {
   "cell_type": "code",
   "execution_count": 18,
   "metadata": {},
   "outputs": [
    {
     "data": {
      "text/plain": [
       "{'a': 1,\n",
       " 'b': 0,\n",
       " 'c': 0,\n",
       " 'd': 0,\n",
       " 'e': 0,\n",
       " 'f': 0,\n",
       " 'g': 0,\n",
       " 'h': 1,\n",
       " 'i': 0,\n",
       " 'j': 0,\n",
       " 'k': 0,\n",
       " 'l': 0,\n",
       " 'm': 0,\n",
       " 'n': 0,\n",
       " 'o': 0,\n",
       " 'p': 1,\n",
       " 'q': 0,\n",
       " 'r': 0,\n",
       " 's': 0,\n",
       " 't': 0,\n",
       " 'u': 0,\n",
       " 'v': 0,\n",
       " 'w': 0,\n",
       " 'x': 0,\n",
       " 'y': 1,\n",
       " 'z': 0}"
      ]
     },
     "execution_count": 18,
     "metadata": {},
     "output_type": "execute_result"
    }
   ],
   "source": [
    "seealp=list(set(getStr[0]))\n",
    "countGroupNum=0\n",
    "for i in range(len(seealp)):\n",
    "    alpDict[seealp[i]] +=1\n",
    "alpDict"
   ]
  },
  {
   "cell_type": "code",
   "execution_count": 49,
   "metadata": {},
   "outputs": [],
   "source": [
    "countGroupNum=0\n",
    "for j in range(N):\n",
    "    alpDict={chr(i):0 for i in range(ord('a'),ord('z')+1)}\n",
    "    seealp=list(set(getStr[j]))\n",
    "    for i in range(len(getStr[j])):        \n",
    "        if len(seealp) == len(getStr[j]):\n",
    "            countGroupNum +=1\n",
    "            break\n",
    "        if alpDict[getStr[j][i]] != 0 and i>0 and getStr[j][i] != getStr[j][i-1]:\n",
    "            break    \n",
    "        if i == len(getStr[j])-1 and alpDict[getStr[j][i]] == 0:\n",
    "            countGroupNum +=1   \n",
    "            break\n",
    "        if alpDict[getStr[j][i]] == 0:\n",
    "            alpDict[getStr[j][i]] +=1        "
   ]
  },
  {
   "cell_type": "code",
   "execution_count": 50,
   "metadata": {},
   "outputs": [
    {
     "data": {
      "text/plain": [
       "1"
      ]
     },
     "execution_count": 50,
     "metadata": {},
     "output_type": "execute_result"
    }
   ],
   "source": [
    "countGroupNum"
   ]
  },
  {
   "cell_type": "code",
   "execution_count": 53,
   "metadata": {},
   "outputs": [
    {
     "name": "stdout",
     "output_type": "stream",
     "text": [
      "4\n",
      "aba\n",
      "abab\n",
      "abcabc\n",
      "a\n",
      "1\n"
     ]
    }
   ],
   "source": [
    "N=int(input())\n",
    "getStr=[]\n",
    "for i in range(N):\n",
    "    getStr.append(input())\n",
    "    \n",
    "countGroupNum=0\n",
    "\n",
    "for j in range(N):\n",
    "    alpDict={chr(i):0 for i in range(ord('a'),ord('z')+1)}\n",
    "    seealp=list(set(getStr[j]))\n",
    "    for i in range(len(getStr[j])):        \n",
    "        if len(seealp) == len(getStr[j]): #길이와 숫자가 같다 = 서로 다른 알파벳 가지고 있다\n",
    "            countGroupNum +=1\n",
    "            break\n",
    "        if alpDict[getStr[j][i]] != 0 and i>0 and getStr[j][i] != getStr[j][i-1]: #알파벳 사전에 있지만 연속적이지 않은 알파벳\n",
    "            break    \n",
    "        if i == len(getStr[j])-1 and alpDict[getStr[j][i]] == 0:#마지막 알파벳일 때 \n",
    "            countGroupNum +=1   \n",
    "            break\n",
    "        elif i == len(getStr[j])-1 and getStr[j][i] == getStr[j][i-1]:\n",
    "            countGroupNum += 1\n",
    "            break\n",
    "            \n",
    "        if alpDict[getStr[j][i]] == 0:\n",
    "            alpDict[getStr[j][i]] +=1  \n",
    "            \n",
    "print(countGroupNum)"
   ]
  },
  {
   "cell_type": "code",
   "execution_count": 56,
   "metadata": {},
   "outputs": [
    {
     "name": "stdout",
     "output_type": "stream",
     "text": [
      "4\n",
      "aba\n",
      "abab\n",
      "abcabc\n",
      "a\n"
     ]
    }
   ],
   "source": [
    "N=int(input())\n",
    "getStr=[]\n",
    "for i in range(N):\n",
    "    getStr.append(input())"
   ]
  },
  {
   "cell_type": "code",
   "execution_count": 60,
   "metadata": {},
   "outputs": [
    {
     "name": "stdout",
     "output_type": "stream",
     "text": [
      "1\n"
     ]
    }
   ],
   "source": [
    "N=int(input())\n",
    "getStr=[]\n",
    "for i in range(N):\n",
    "    getStr.append(input())\n",
    "    \n",
    "countGroupNum=0\n",
    "for j in range(N):\n",
    "    seealp=[]\n",
    "    seealp.append(getStr[j][0])\n",
    "    if len(getStr[j]) == 1:\n",
    "        countGroupNum+=1\n",
    "        \n",
    "    for i in range(1,len(getStr[j])):    \n",
    "        if getStr[j][i] != getStr[j][i-1]:\n",
    "            if getStr[j][i] in seealp:\n",
    "                break\n",
    "            else:\n",
    "                seealp.append(getStr[j][i])\n",
    "                \n",
    "        if i == len(getStr[j])-1:\n",
    "            countGroupNum+=1\n",
    "                        \n",
    "print(countGroupNum)"
   ]
  },
  {
   "cell_type": "code",
   "execution_count": 61,
   "metadata": {},
   "outputs": [
    {
     "name": "stdout",
     "output_type": "stream",
     "text": [
      "4\n",
      "happy\n",
      "new\n",
      "year\n",
      "aba\n",
      "3\n"
     ]
    }
   ],
   "source": [
    "N=int(input())    \n",
    "countGroupNum=0\n",
    "for j in range(N):\n",
    "    getStr=input()\n",
    "    seealp=[]\n",
    "    seealp.append(getStr[0])\n",
    "    if len(getStr) == 1:\n",
    "        countGroupNum+=1\n",
    "        \n",
    "    for i in range(1,len(getStr)):    \n",
    "        if getStr[i] != getStr[i-1]:\n",
    "            if getStr[i] in seealp:\n",
    "                break\n",
    "            else:\n",
    "                seealp.append(getStr[i])\n",
    "                \n",
    "        if i == len(getStr)-1:\n",
    "            countGroupNum+=1\n",
    "                        \n",
    "print(countGroupNum)"
   ]
  },
  {
   "cell_type": "code",
   "execution_count": 65,
   "metadata": {},
   "outputs": [
    {
     "name": "stdout",
     "output_type": "stream",
     "text": [
      "4\n",
      "ab\n",
      "abc\n",
      "aba\n",
      "a\n",
      "3\n"
     ]
    }
   ],
   "source": [
    "N=int(input())    \n",
    "countGroupNum=0\n",
    "for j in range(N):\n",
    "    getStr=input()\n",
    "    \n",
    "    if len(getStr)==1:\n",
    "            countGroupNum+=1\n",
    "            \n",
    "    for i in range(len(getStr)-1):    \n",
    "        if getStr[i] != getStr[i+1]:\n",
    "            if getStr[i] in getStr[i+1:]:\n",
    "                break\n",
    "                \n",
    "        if i == len(getStr)-2:\n",
    "            countGroupNum+=1\n",
    "                        \n",
    "print(countGroupNum)"
   ]
  },
  {
   "cell_type": "code",
   "execution_count": 54,
   "metadata": {},
   "outputs": [
    {
     "name": "stdout",
     "output_type": "stream",
     "text": [
      "3\n",
      "abca\n",
      "ddcd\n",
      "lki\n",
      "1\n"
     ]
    }
   ],
   "source": [
    "def is_group(word):\n",
    "    for i in range(len(word)-1):\n",
    "        if word[i] != word[i+1]:\n",
    "            if word[i] in word[i+1:]:\n",
    "                return False\n",
    "    return True\n",
    "\n",
    "\n",
    "n = int(input())\n",
    "cnt = 0\n",
    "for _ in range(n):\n",
    "    if is_group(input()):\n",
    "        cnt += 1\n",
    "\n",
    "print(cnt)"
   ]
  }
 ],
 "metadata": {
  "kernelspec": {
   "display_name": "Python 3",
   "language": "python",
   "name": "python3"
  },
  "language_info": {
   "codemirror_mode": {
    "name": "ipython",
    "version": 3
   },
   "file_extension": ".py",
   "mimetype": "text/x-python",
   "name": "python",
   "nbconvert_exporter": "python",
   "pygments_lexer": "ipython3",
   "version": "3.6.9"
  }
 },
 "nbformat": 4,
 "nbformat_minor": 2
}

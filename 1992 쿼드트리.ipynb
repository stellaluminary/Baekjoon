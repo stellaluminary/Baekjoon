{
 "cells": [
  {
   "cell_type": "markdown",
   "metadata": {},
   "source": [
    "# 1992 쿼드트리\n",
    "\n",
    "- URL : https://www.acmicpc.net/problem/1992"
   ]
  },
  {
   "cell_type": "code",
   "execution_count": null,
   "metadata": {},
   "outputs": [],
   "source": [
    "N = int(input())"
   ]
  },
  {
   "cell_type": "markdown",
   "metadata": {},
   "source": [
    "8\n",
    "11110000\n",
    "11110000\n",
    "00011100\n",
    "00011100\n",
    "11110000\n",
    "11110000\n",
    "11110011\n",
    "11110011"
   ]
  },
  {
   "cell_type": "code",
   "execution_count": null,
   "metadata": {},
   "outputs": [],
   "source": [
    "li = []\n",
    "for i in range(N):\n",
    "    li.append(list(map(int, input())))"
   ]
  },
  {
   "cell_type": "code",
   "execution_count": null,
   "metadata": {},
   "outputs": [],
   "source": [
    "li"
   ]
  },
  {
   "cell_type": "code",
   "execution_count": null,
   "metadata": {},
   "outputs": [],
   "source": [
    "def check(n, x, y):\n",
    "    tmp = li[x][y]\n",
    "    for i in range(x,x+n):\n",
    "        for j in range(y,y+n):\n",
    "            if tmp != li[i][j]:\n",
    "                return False\n",
    "    return True"
   ]
  },
  {
   "cell_type": "code",
   "execution_count": null,
   "metadata": {},
   "outputs": [],
   "source": [
    "result = []\n",
    "def rec(n,x,y):\n",
    "    tmp = li[x][y]        \n",
    "    if check(n,x,y):\n",
    "        result.append(tmp)        \n",
    "    else:\n",
    "        result.append('(')\n",
    "        val = n//2\n",
    "        rec(val,x,y)\n",
    "        rec(val,x,y+val)\n",
    "        rec(val,x+val,y)        \n",
    "        rec(val,x+val,y+val) \n",
    "        result.append(')')        \n",
    "    return "
   ]
  },
  {
   "cell_type": "code",
   "execution_count": null,
   "metadata": {},
   "outputs": [],
   "source": [
    "rec(N,0,0)"
   ]
  },
  {
   "cell_type": "code",
   "execution_count": null,
   "metadata": {},
   "outputs": [],
   "source": [
    "print(''.join(list(map(str, result))))"
   ]
  },
  {
   "cell_type": "markdown",
   "metadata": {},
   "source": [
    "# 제출하기 1 - 29284KB, 64ms, 632B"
   ]
  },
  {
   "cell_type": "code",
   "execution_count": null,
   "metadata": {},
   "outputs": [],
   "source": [
    "N = int(input())\n",
    "li = []\n",
    "for i in range(N):\n",
    "    li.append(list(map(int, input())))\n",
    "def check(n, x, y):\n",
    "    tmp = li[x][y]\n",
    "    for i in range(x,x+n):\n",
    "        for j in range(y,y+n):\n",
    "            if tmp != li[i][j]:\n",
    "                return False\n",
    "    return True\n",
    "result = []\n",
    "def rec(n,x,y):\n",
    "    tmp = li[x][y]        \n",
    "    if check(n,x,y):\n",
    "        result.append(tmp)        \n",
    "    else:\n",
    "        result.append('(')\n",
    "        val = n//2\n",
    "        rec(val,x,y)\n",
    "        rec(val,x,y+val)\n",
    "        rec(val,x+val,y)        \n",
    "        rec(val,x+val,y+val) \n",
    "        result.append(')')        \n",
    "    return    \n",
    "rec(N,0,0)\n",
    "print(''.join(list(map(str, result))))"
   ]
  },
  {
   "cell_type": "markdown",
   "metadata": {},
   "source": [
    "# 제출하기 2 - 29284KB, 60ms, 632B"
   ]
  },
  {
   "cell_type": "code",
   "execution_count": null,
   "metadata": {},
   "outputs": [],
   "source": [
    "import sys\n",
    "I = sys.stdin.readline\n",
    "N = int(I())\n",
    "li = []\n",
    "for i in range(N):\n",
    "    li.append(list(I()))\n",
    "def check(n, x, y):\n",
    "    tmp = li[x][y]\n",
    "    for i in range(x,x+n):\n",
    "        for j in range(y,y+n):\n",
    "            if tmp != li[i][j]:\n",
    "                return False\n",
    "    return True\n",
    "result = []\n",
    "def rec(n,x,y):\n",
    "    tmp = li[x][y]        \n",
    "    if check(n,x,y):\n",
    "        result.append(tmp)        \n",
    "    else:\n",
    "        result.append('(')\n",
    "        val = n//2\n",
    "        rec(val,x,y)\n",
    "        rec(val,x,y+val)\n",
    "        rec(val,x+val,y)        \n",
    "        rec(val,x+val,y+val) \n",
    "        result.append(')')        \n",
    "    return    \n",
    "rec(N,0,0)\n",
    "print(''.join(result))"
   ]
  },
  {
   "cell_type": "markdown",
   "metadata": {},
   "source": [
    "# 제출하기 3 - 29284KB, 60ms, 517B"
   ]
  },
  {
   "cell_type": "code",
   "execution_count": null,
   "metadata": {},
   "outputs": [],
   "source": [
    "import sys\n",
    "I = sys.stdin.readline\n",
    "N = int(I())\n",
    "li = [I() for i in range(N)]\n",
    "\n",
    "def rec(n,x,y):    \n",
    "    tmp = li[x][y]        \n",
    "    if n==1: return tmp\n",
    "    \n",
    "    result=\"\"\n",
    "    val = n//2    \n",
    "    result+=rec(val,x,y)\n",
    "    result+=rec(val,x,y+val)\n",
    "    result+=rec(val,x+val,y)        \n",
    "    result+=rec(val,x+val,y+val) \n",
    "    \n",
    "    if result == \"0000\":\n",
    "        result = \"0\"\n",
    "    elif result == \"1111\":\n",
    "        result = \"1\"\n",
    "    if result != \"0\" and result != \"1\":\n",
    "        result = \"(\"+result+\")\"\n",
    "    return result\n",
    "print(rec(N,0,0))"
   ]
  },
  {
   "cell_type": "markdown",
   "metadata": {},
   "source": [
    "# 제출하기 4 - 29284KB, 56ms, 479B\n",
    "- 1까지 가서 재귀\n",
    "- if len(TL)을 넣어놓은 이유는 그 이외의 길이에서 4개의 값이 모두 같을 경우가 생길 수 있기 때문"
   ]
  },
  {
   "cell_type": "code",
   "execution_count": null,
   "metadata": {},
   "outputs": [],
   "source": [
    "import sys\n",
    "I = sys.stdin.readline\n",
    "N = int(I().rstrip())\n",
    "li = [I().rstrip() for i in range(N)]\n",
    "\n",
    "def rec(n,x,y):        \n",
    "    if n==1: return li[x][y]    \n",
    "    \n",
    "    val = n//2    \n",
    "    TL=rec(val,x,y)\n",
    "    TR=rec(val,x,y+val)\n",
    "    DL=rec(val,x+val,y)        \n",
    "    DR=rec(val,x+val,y+val) \n",
    "    \n",
    "    if len(TL)==1:\n",
    "        if TL==TR==DL==DR:\n",
    "            return TL\n",
    "        else:        \n",
    "            return \"(\"+TL+TR+DL+DR+\")\"\n",
    "    else:\n",
    "        return \"(\"+TL+TR+DL+DR+\")\"\n",
    "\n",
    "print(rec(N,0,0))"
   ]
  },
  {
   "cell_type": "markdown",
   "metadata": {},
   "source": [
    "# 제출하기 5 - 29284KB, 56ms, 289B\n",
    "- 제출하기 4 단축\n",
    "- 2020-01-24 python 부분 맞은 사람 3위"
   ]
  },
  {
   "cell_type": "code",
   "execution_count": null,
   "metadata": {},
   "outputs": [],
   "source": [
    "import sys\n",
    "I = sys.stdin.readline\n",
    "N = int(I().rstrip())\n",
    "l = [I().rstrip() for i in range(N)]\n",
    "def a(n,x,y):        \n",
    " if n==1:return l[x][y]        \n",
    " v=n//2    \n",
    " N,E,W,S=a(v,x,y),a(v,x,y+v),a(v,x+v,y),a(v,x+v,y+v)\n",
    " if len(N)==1 and W==E==S==N:return N\n",
    " return \"(\"+N+E+W+S+\")\"\n",
    "print(a(N,0,0))"
   ]
  },
  {
   "cell_type": "markdown",
   "metadata": {},
   "source": [
    "# 제출하기 6 - 29284KB, 56ms, 247B\n",
    "- 제출하기 4 단축\n",
    "- 2020-01-24 python 부분 맞은 사람, 숏코딩 2위"
   ]
  },
  {
   "cell_type": "code",
   "execution_count": null,
   "metadata": {},
   "outputs": [],
   "source": [
    "I = input\n",
    "N = int(I())\n",
    "l = [I() for i in range(N)]\n",
    "def a(n,x,y):        \n",
    " if n==1:return l[x][y]        \n",
    " v=n//2    \n",
    " N,E,W,S=a(v,x,y),a(v,x,y+v),a(v,x+v,y),a(v,x+v,y+v)\n",
    " if len(N)==1 and W==E==S==N:return N\n",
    " return \"(\"+N+E+W+S+\")\"\n",
    "print(a(N,0,0))"
   ]
  }
 ],
 "metadata": {
  "kernelspec": {
   "display_name": "tf20",
   "language": "python",
   "name": "tf20"
  },
  "language_info": {
   "codemirror_mode": {
    "name": "ipython",
    "version": 3
   },
   "file_extension": ".py",
   "mimetype": "text/x-python",
   "name": "python",
   "nbconvert_exporter": "python",
   "pygments_lexer": "ipython3",
   "version": "3.7.4"
  }
 },
 "nbformat": 4,
 "nbformat_minor": 2
}

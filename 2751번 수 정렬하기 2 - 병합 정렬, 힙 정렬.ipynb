{
 "cells": [
  {
   "cell_type": "markdown",
   "metadata": {},
   "source": [
    "# 2751번 수 정렬하기 2\n",
    "시간 복잡도가 O(nlogn)인 정렬 알고리즘으로 풀 수 있습니다. 예를 들면 병합 정렬, 힙 정렬 등이 있습니다.\n",
    "\n",
    "https://www.acmicpc.net/problem/2751"
   ]
  },
  {
   "cell_type": "markdown",
   "metadata": {},
   "source": [
    "# Method 1 병렬 정렬 Merge Sort\n",
    "\n",
    "Time Complexity\n",
    "- Worst : O(n log n)\n",
    "- Average : O(n log n)\n",
    "- Best : O(n log n)"
   ]
  },
  {
   "cell_type": "code",
   "execution_count": 1,
   "metadata": {},
   "outputs": [
    {
     "name": "stdout",
     "output_type": "stream",
     "text": [
      "5\n",
      "5\n",
      "4\n",
      "3\n",
      "2\n",
      "1\n"
     ]
    }
   ],
   "source": [
    "N = int(input())\n",
    "arr = []\n",
    "for i in range(N):\n",
    "    arr.append(int(input()))"
   ]
  },
  {
   "cell_type": "code",
   "execution_count": 67,
   "metadata": {},
   "outputs": [],
   "source": [
    "def mergeSort(arr, head, tail):\n",
    "    if head < tail:\n",
    "        \n",
    "        mid = (head + tail) // 2\n",
    "        \n",
    "        mergeSort(arr, head, mid)\n",
    "        mergeSort(arr, mid+1, tail)\n",
    "        \n",
    "        merge(arr, head, mid, tail)    "
   ]
  },
  {
   "cell_type": "code",
   "execution_count": 68,
   "metadata": {},
   "outputs": [],
   "source": [
    "def merge(arr, head, mid ,tail):\n",
    "    front = head\n",
    "    back = mid + 1\n",
    "    tmp = []\n",
    "    for i in range(len(arr)):\n",
    "        tmp.append(arr[i])\n",
    "    index = head\n",
    "    \n",
    "    while front <= mid and back <= tail:\n",
    "        if tmp[front] <= tmp[back]:            \n",
    "            arr[index] = tmp[front]\n",
    "            front += 1   \n",
    "        else:            \n",
    "            arr[index] = tmp[back]\n",
    "            back += 1\n",
    "        index += 1        \n",
    "        \n",
    "    for i in range(0, mid-front+1):\n",
    "        arr[index+i] = tmp[front+i]\n",
    "    "
   ]
  },
  {
   "cell_type": "code",
   "execution_count": 73,
   "metadata": {},
   "outputs": [],
   "source": [
    "mergeSort(arr,0,len(arr)-1)"
   ]
  },
  {
   "cell_type": "code",
   "execution_count": 2,
   "metadata": {},
   "outputs": [
    {
     "data": {
      "text/plain": [
       "[5, 4, 3, 2, 1]"
      ]
     },
     "execution_count": 2,
     "metadata": {},
     "output_type": "execute_result"
    }
   ],
   "source": [
    "arr"
   ]
  },
  {
   "cell_type": "code",
   "execution_count": 78,
   "metadata": {},
   "outputs": [
    {
     "name": "stdout",
     "output_type": "stream",
     "text": [
      "1\n",
      "2\n",
      "3\n",
      "4\n",
      "5\n"
     ]
    }
   ],
   "source": [
    "for i in arr:\n",
    "    print(i)"
   ]
  },
  {
   "cell_type": "code",
   "execution_count": 4,
   "metadata": {},
   "outputs": [],
   "source": [
    "def mergesort(a):\n",
    "    if len(a) <= 1: \n",
    "        return a\n",
    "    half = len(a) // 2\n",
    "    left = mergesort(a[:half])\n",
    "    right = mergesort(a[half:])\n",
    "    mer = []\n",
    "    while len(left) > 0 and len(right) >0:\n",
    "        if left[0] > right[0]:\n",
    "            mer.append(right[0])\n",
    "            right.pop(0)\n",
    "        else:\n",
    "            mer.append(left[0])\n",
    "            left.pop(0)\n",
    "    if len(left) > 0:\n",
    "        mer += left\n",
    "    if len(right) > 0:\n",
    "        mer += right\n",
    "    return mer        "
   ]
  },
  {
   "cell_type": "code",
   "execution_count": 5,
   "metadata": {},
   "outputs": [
    {
     "data": {
      "text/plain": [
       "[1, 2, 3, 4, 5]"
      ]
     },
     "execution_count": 5,
     "metadata": {},
     "output_type": "execute_result"
    }
   ],
   "source": [
    "mergesort(arr)"
   ]
  },
  {
   "cell_type": "markdown",
   "metadata": {},
   "source": [
    "# 시간 초과/제출"
   ]
  },
  {
   "cell_type": "code",
   "execution_count": 6,
   "metadata": {},
   "outputs": [
    {
     "name": "stdout",
     "output_type": "stream",
     "text": [
      "5\n",
      "5\n",
      "4\n",
      "3\n",
      "2\n",
      "1\n",
      "1\n",
      "2\n",
      "3\n",
      "4\n",
      "5\n"
     ]
    }
   ],
   "source": [
    "N = int(input())\n",
    "arr = []\n",
    "for i in range(N):\n",
    "    arr.append(int(input()))\n",
    "    \n",
    "def mergesort(a):\n",
    "    if len(a) <= 1: \n",
    "        return a\n",
    "    half = len(a) // 2\n",
    "    left = mergesort(a[:half])\n",
    "    right = mergesort(a[half:])\n",
    "    mer = []\n",
    "    while len(left) > 0 and len(right) >0:\n",
    "        if left[0] > right[0]:\n",
    "            mer.append(right[0])\n",
    "            right.pop(0)\n",
    "        else:\n",
    "            mer.append(left[0])\n",
    "            left.pop(0)\n",
    "    if len(left) > 0:\n",
    "        mer += left\n",
    "    if len(right) > 0:\n",
    "        mer += right\n",
    "    return mer        \n",
    "\n",
    "for i in mergesort(arr):\n",
    "    print(i)"
   ]
  },
  {
   "cell_type": "markdown",
   "metadata": {},
   "source": [
    "```python\n",
    "import sys\n",
    "\n",
    "N = int(sys.stdin.readline())\n",
    "\n",
    "get = [int(sys.stdin.readline()) for _ in range(N)]\n",
    "\n",
    "def mergesort(a):\n",
    "    if len(a) <= 1: return a\n",
    "    half = len(a) // 2\n",
    "    left = mergesort(a[:half])\n",
    "    right = mergesort(a[half:])\n",
    "    mer = []\n",
    "    while len(left) > 0 and len(right) >0:\n",
    "        if left[0] > right[0]:\n",
    "            mer.append(right[0])\n",
    "            right.pop(0)\n",
    "        else:\n",
    "            mer.append(left[0])\n",
    "            left.pop(0)\n",
    "    if len(left) > 0: mer += left\n",
    "    if len(right) > 0: mer += right\n",
    "    return mer     \n",
    "\n",
    "li = mergesort(get)\n",
    "for i in li:\n",
    "    sys.stdout.write(str(i) + \"\\n\")\n",
    "```"
   ]
  }
 ],
 "metadata": {
  "kernelspec": {
   "display_name": "Python [conda env:tf20] *",
   "language": "python",
   "name": "conda-env-tf20-py"
  },
  "language_info": {
   "codemirror_mode": {
    "name": "ipython",
    "version": 3
   },
   "file_extension": ".py",
   "mimetype": "text/x-python",
   "name": "python",
   "nbconvert_exporter": "python",
   "pygments_lexer": "ipython3",
   "version": "3.6.9"
  }
 },
 "nbformat": 4,
 "nbformat_minor": 2
}

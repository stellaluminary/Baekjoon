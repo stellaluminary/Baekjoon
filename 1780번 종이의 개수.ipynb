{
 "cells": [
  {
   "cell_type": "markdown",
   "metadata": {},
   "source": [
    "# 1780번 종이의 개수\n",
    "\n",
    "- URL : https://www.acmicpc.net/problem/1780"
   ]
  },
  {
   "cell_type": "markdown",
   "metadata": {},
   "source": [
    "# 제출 5, 제출 6-2가 최종"
   ]
  },
  {
   "cell_type": "markdown",
   "metadata": {},
   "source": [
    "# 제출 1 - 틀렸습니다."
   ]
  },
  {
   "cell_type": "code",
   "execution_count": null,
   "metadata": {},
   "outputs": [],
   "source": [
    "N = int(input())\n",
    "li = []\n",
    "for i in range(N):\n",
    "    li.append(list(map(int, input().split())))\n",
    "res = [0,0,0]\n",
    "def ck(n,x,y):\n",
    "    tmp = li[x][y]\n",
    "    if n==1: return tmp\n",
    "    \n",
    "    val = n//3    \n",
    "    r1 = ck(val,x,y)\n",
    "    r2 = ck(val,x,y+val)\n",
    "    r3 = ck(val,x,y+2*val)\n",
    "    r4 = ck(val,x+val,y)\n",
    "    r5 = ck(val,x+val,y+val)\n",
    "    r6 = ck(val,x+val,y+2*val)\n",
    "    r7 = ck(val,x+2*val,y)\n",
    "    r8 = ck(val,x+2*val,y+val)\n",
    "    r9 = ck(val,x+2*val,y+2*val)\n",
    "    \n",
    "    if r1==r2==r3==r4==r5==r6==r7==r8==r9 :\n",
    "        if val==1:\n",
    "            if r1==-1:\n",
    "                res[0]+=1\n",
    "            elif r1==0:\n",
    "                res[1]+=1\n",
    "            else:\n",
    "                res[2]+=1         \n",
    "            return r1\n",
    "        else:\n",
    "            if r1==-1:\n",
    "                res[0]-=8\n",
    "            elif r1==0:\n",
    "                res[1]-=8\n",
    "            else:\n",
    "                res[2]-=8\n",
    "            return r1\n",
    "    elif val==1:\n",
    "        for i in range(n):\n",
    "            for j in range(n):\n",
    "                if li[x+i][y+j] == -1:\n",
    "                    res[0] += 1\n",
    "                elif li[x+i][y+j] == 0:\n",
    "                    res[1] += 1\n",
    "                else:\n",
    "                    res[2] += 1\n",
    "        return r1,r2,r3,r4,r5,r6,r7,r8\n",
    "    return\n",
    "ck(N,0,0)\n",
    "print(f\"{res[0]}\\n{res[1]}\\n{res[2]}\")"
   ]
  },
  {
   "cell_type": "markdown",
   "metadata": {},
   "source": [
    "# 제출 2 - 66892KB 4212ms 1007B\n",
    "- else부분에서 정확한 표기가 아닌 대충 표현한 것이 else의 상황의 예외에서 오류가 났다. -> 이 부분 수정"
   ]
  },
  {
   "cell_type": "code",
   "execution_count": null,
   "metadata": {},
   "outputs": [],
   "source": [
    "import sys\n",
    "I=sys.stdin.readline\n",
    "N = int(I())\n",
    "li = [list(map(int,I().split())) for i in range(N)]\n",
    "res = [0,0,0]\n",
    "def ck(n,x,y):\n",
    "    if n==1: return li[x][y]    \n",
    "    val = n//3    \n",
    "    r1,r2,r3,r4,r5,r6,r7,r8,r9 = ck(val,x,y),ck(val,x,y+val),ck(val,x,y+2*val),ck(val,x+val,y),\\\n",
    "    ck(val,x+val,y+val),ck(val,x+val,y+2*val),ck(val,x+2*val,y),ck(val,x+2*val,y+val),ck(val,x+2*val,y+2*val)\n",
    "        \n",
    "    if r1==r2==r3==r4==r5==r6==r7==r8==r9 :\n",
    "        if val==1:\n",
    "            if r1==-1:res[0]+=1\n",
    "            elif r1==0:res[1]+=1\n",
    "            else:res[2]+=1         \n",
    "            return r1\n",
    "        else:\n",
    "            if r1==-1:res[0]-=8\n",
    "            elif r1==0:res[1]-=8\n",
    "            elif r1==1:res[2]-=8\n",
    "            return r1\n",
    "    elif val==1:\n",
    "        for i in range(n):\n",
    "            for j in range(n):\n",
    "                if li[x+i][y+j] == -1:res[0] += 1\n",
    "                elif li[x+i][y+j] == 0:res[1] += 1\n",
    "                elif li[x+i][y+j] == 1:res[2] += 1\n",
    "        return 9 \n",
    "ck(N,0,0)\n",
    "print(f\"{res[0]}\\n{res[1]}\\n{res[2]}\")"
   ]
  },
  {
   "cell_type": "markdown",
   "metadata": {},
   "source": [
    "# 제출 3 - 66860KB 3004ms 599B\n",
    "- 1로 갔다가 회귀하는 재귀가 아닌 처음부터 중간에 잘못된 것인지를 체크하고 이를 통한 재귀를 하는 것이 시간적으로 유용"
   ]
  },
  {
   "cell_type": "code",
   "execution_count": null,
   "metadata": {},
   "outputs": [],
   "source": [
    "import sys\n",
    "I=sys.stdin.readline\n",
    "N = int(I())\n",
    "l = [list(map(int,I().split())) for i in range(N)]\n",
    "r = [0,0,0]\n",
    "def c(n,x,y):\n",
    "    t = l[x][y]   \n",
    "    if n==1: r[t+1]+=1;return \n",
    "    f = 0\n",
    "    for i in range(x,x+n):\n",
    "        for j in range(y,y+n):\n",
    "            if l[i][j] != t:f=1;break\n",
    "        if f:break\n",
    "    if f:\n",
    "        v = n//3    \n",
    "        v2 = 2*v\n",
    "        c(v,x,y),c(v,x,y+v),c(v,x,y+v2),c(v,x+v,y),c(v,x+v,y+v),\\\n",
    "        c(v,x+v,y+v2),c(v,x+v2,y),c(v,x+v2,y+v),c(v,x+v2,y+v2)        \n",
    "    else:r[t+1]+=1;return\n",
    "c(N,0,0)\n",
    "print(*r,sep='\\n')"
   ]
  },
  {
   "cell_type": "markdown",
   "metadata": {},
   "source": [
    "# 제출 3-2) - 66860KB 3012ms 472B\n",
    "- indentation만 줄인 것"
   ]
  },
  {
   "cell_type": "code",
   "execution_count": null,
   "metadata": {},
   "outputs": [],
   "source": [
    "import sys\n",
    "I=sys.stdin.readline\n",
    "N = int(I())\n",
    "l = [list(map(int,I().split())) for i in range(N)]\n",
    "r = [0,0,0]\n",
    "def c(n,x,y):\n",
    " t = l[x][y]   \n",
    " if n==1: r[t+1]+=1;return \n",
    " f = 0\n",
    " for i in range(x,x+n):\n",
    "  for j in range(y,y+n):\n",
    "   if l[i][j] != t:f=1;break\n",
    "  if f:break\n",
    " if f:\n",
    "  v = n//3    \n",
    "  v2 = 2*v\n",
    "  c(v,x,y),c(v,x,y+v),c(v,x,y+v2),c(v,x+v,y),c(v,x+v,y+v),\\\n",
    "  c(v,x+v,y+v2),c(v,x+v2,y),c(v,x+v2,y+v),c(v,x+v2,y+v2)        \n",
    " else:r[t+1]+=1;return\n",
    "c(N,0,0)\n",
    "print(*r,sep='\\n')"
   ]
  },
  {
   "cell_type": "markdown",
   "metadata": {},
   "source": [
    "# 제출 4 - 369492KB 2040ms 592B\n",
    "- 메모리를 소모하여 얻어낸 결과\n",
    "- 2020-01-26 python 맞은 사람 부분 1등"
   ]
  },
  {
   "cell_type": "code",
   "execution_count": null,
   "metadata": {},
   "outputs": [],
   "source": [
    "import sys\n",
    "I=sys.stdin.readline\n",
    "N = int(I())\n",
    "li = [I().split() for i in range(N)]\n",
    "res = [0,0,0]\n",
    "def c(n,x,y):\n",
    "    if n==1: return li[x][y]    \n",
    "    v = n//3    \n",
    "    v2 = 2*v    \n",
    "    r1,r2,r3,r4,r5,r6,r7,r8,r9 = c(v,x,y),c(v,x,y+v),c(v,x,y+v2),\\\n",
    "    c(v,x+v,y),c(v,x+v,y+v),c(v,x+v,y+v2),c(v,x+v2,y),c(v,x+v2,y+v),c(v,x+v2,y+v2)\n",
    "    if r1==r2==r3==r4==r5==r6==r7==r8==r9 and (r1=='0' or r1 == '1' or r1=='-1'):return r1\n",
    "    else:return ''.join([r1,r2,r3,r4,r5,r6,r7,r8,r9])\n",
    "r = c(N,0,0)\n",
    "m1,z,o=0,0,0\n",
    "m1 = r.count('-1')\n",
    "z = r.count('0')\n",
    "o = r.replace('-1','').count('1')\n",
    "print(f\"{m1}\\n{z}\\n{o}\")"
   ]
  },
  {
   "cell_type": "markdown",
   "metadata": {},
   "source": [
    "# 제출 5 - 369520KB 1996ms 536B\n",
    "- 메모리를 소모하여 얻어낸 결과 - 제출 4 1자리 이름과 indentation 정리\n",
    "- 2020-01-26 python 맞은 사람 부분 1등 갱신"
   ]
  },
  {
   "cell_type": "code",
   "execution_count": null,
   "metadata": {},
   "outputs": [],
   "source": [
    "import sys\n",
    "I=sys.stdin.readline\n",
    "N = int(I())\n",
    "l = [I().split() for i in range(N)]\n",
    "def c(n,x,y):\n",
    " if n==1: return l[x][y]    \n",
    " v=n//3    \n",
    " v2=2*v    \n",
    " r1,r2,r3,r4,r5,r6,r7,r8,r9=c(v,x,y),c(v,x,y+v),c(v,x,y+v2),c(v,x+v,y),c(v,x+v,y+v),c(v,x+v,y+v2),c(v,x+v2,y),c(v,x+v2,y+v),c(v,x+v2,y+v2)\n",
    " if r1==r2==r3==r4==r5==r6==r7==r8==r9 and (r1=='0' or r1=='1' or r1=='-1'):return r1\n",
    " else:return ''.join([r1,r2,r3,r4,r5,r6,r7,r8,r9])\n",
    "r=c(N,0,0)\n",
    "m1=r.count('-1')\n",
    "z=r.count('0')\n",
    "o=r.replace('-1','').count('1')\n",
    "print(f\"{m1}\\n{z}\\n{o}\")"
   ]
  },
  {
   "cell_type": "markdown",
   "metadata": {},
   "source": [
    "# 제출 6 - 66868KB 3944ms 419B"
   ]
  },
  {
   "cell_type": "code",
   "execution_count": null,
   "metadata": {},
   "outputs": [],
   "source": [
    "import sys\n",
    "I=sys.stdin.readline\n",
    "N = int(I())\n",
    "l = [list(map(int,I().split())) for i in range(N)]\n",
    "r = [0]*3\n",
    "def c(n,x,y):   \n",
    "    if n==1:return l[x][y]\n",
    "    t=[]\n",
    "    for i in range(x,x+n,n//3):\n",
    "        for j in range(y,y+n,n//3):\n",
    "            t.append(c(n//3,i,j))\n",
    "    if len(set(t))==1 and t[0]!=None:return t[0]\n",
    "    for i in t:\n",
    "        if i==None:continue\n",
    "        r[i+1]+=1\n",
    "p=c(N,0,0)\n",
    "if p!=None:\n",
    "    r[p+1]+=1\n",
    "print(*r,sep='\\n')"
   ]
  },
  {
   "cell_type": "markdown",
   "metadata": {},
   "source": [
    "# 제출 6-2) - 66868KB 4052ms 376B\n",
    "- indentation 줄이기\n",
    "- 2020-01-26 python 숏코딩 2등"
   ]
  },
  {
   "cell_type": "code",
   "execution_count": null,
   "metadata": {},
   "outputs": [],
   "source": [
    "import sys\n",
    "I=sys.stdin.readline\n",
    "N=int(I())\n",
    "l=[list(map(int,I().split())) for i in range(N)]\n",
    "r=[0]*3\n",
    "def c(n,x,y):   \n",
    " if n==1:return l[x][y]\n",
    " t=[]\n",
    " for i in range(x,x+n,n//3):\n",
    "  for j in range(y,y+n,n//3):\n",
    "   t.append(c(n//3,i,j))\n",
    " if len(set(t))==1 and t[0]!=None:return t[0]\n",
    " for i in t:\n",
    "  if i==None:continue\n",
    "  r[i+1]+=1\n",
    "p=c(N,0,0)\n",
    "if p!=None:\n",
    " r[p+1]+=1\n",
    "print(*r,sep='\\n')"
   ]
  },
  {
   "cell_type": "markdown",
   "metadata": {},
   "source": [
    "# 제출 6 - 66868KB 3944ms 419B\n",
    "- wider93 참조 : https://www.acmicpc.net/source/13441947\n",
    "- add를 활용한 방법, sum 내장 함수를 사용한 방법이 기발\n",
    "- sum((x[rstart+i][cstart:cstart+size] for i in range(3)), []) \n",
    " - 이 방식을 통해 3x3로 이뤄진 matrix를 1 list로 만들 수 있다.\n",
    " - sum (content, type)이라서 type을 list로 설정함에 따라 리스트를 더하는 계산이 되어버림"
   ]
  },
  {
   "cell_type": "code",
   "execution_count": null,
   "metadata": {},
   "outputs": [],
   "source": [
    "import sys\n",
    "from operator import add\n",
    "input = sys.stdin.readline\n",
    "n = int(input())\n",
    "if n == 1:\n",
    "    x = int(input())\n",
    "    for i in range(-1, 2):\n",
    "        print(1 if x == i else 0)\n",
    "else:\n",
    "    x = [list(map(int, input().split())) for _ in range(n)]\n",
    "    def func(size, rstart, cstart):\n",
    "        if size == 3:\n",
    "            l = sum((x[rstart+i][cstart:cstart+size] for i in range(3)), [])\n",
    "            print(l)\n",
    "            u, v = l.count(-1), l.count(0)\n",
    "            w = 9-u-v\n",
    "            print(u,v,w)\n",
    "        else:\n",
    "            base = (0, 0, 0)\n",
    "            new_size = size // 3\n",
    "            for i in range(3):\n",
    "                for j in range(3):\n",
    "                    base = tuple(map(add, base, func(new_size, rstart+i*new_size, cstart+j*new_size)))\n",
    "            u, v, w = base\n",
    "        if u:\n",
    "            return (1, 0, 0) if not (v or w) else (u, v, w)\n",
    "        if v:\n",
    "            return (0, 1, 0) if not w else (u, v, w)\n",
    "        return 0, 0, 1\n",
    "    for i in func(n, 0, 0):\n",
    "        print(i)"
   ]
  }
 ],
 "metadata": {
  "kernelspec": {
   "display_name": "tf20",
   "language": "python",
   "name": "tf20"
  },
  "language_info": {
   "codemirror_mode": {
    "name": "ipython",
    "version": 3
   },
   "file_extension": ".py",
   "mimetype": "text/x-python",
   "name": "python",
   "nbconvert_exporter": "python",
   "pygments_lexer": "ipython3",
   "version": "3.7.4"
  }
 },
 "nbformat": 4,
 "nbformat_minor": 2
}

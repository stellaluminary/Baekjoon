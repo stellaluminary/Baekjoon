{
 "cells": [
  {
   "cell_type": "markdown",
   "metadata": {},
   "source": [
    "# 1149번 RGB거리\n",
    "\n",
    "URL : https://www.acmicpc.net/problem/1149"
   ]
  },
  {
   "cell_type": "code",
   "execution_count": 1,
   "metadata": {},
   "outputs": [
    {
     "name": "stdout",
     "output_type": "stream",
     "text": [
      "1\n"
     ]
    }
   ],
   "source": [
    "N = int(input())"
   ]
  },
  {
   "cell_type": "code",
   "execution_count": 2,
   "metadata": {},
   "outputs": [
    {
     "data": {
      "text/plain": [
       "[[0, 0, 0]]"
      ]
     },
     "execution_count": 2,
     "metadata": {},
     "output_type": "execute_result"
    }
   ],
   "source": [
    "cs = [[0]*3 for _ in range(N)]\n",
    "cs"
   ]
  },
  {
   "cell_type": "code",
   "execution_count": 3,
   "metadata": {},
   "outputs": [
    {
     "name": "stdout",
     "output_type": "stream",
     "text": [
      "1 2 3\n"
     ]
    }
   ],
   "source": [
    "for i in range(N):\n",
    "    cs[i][0], cs[i][1], cs[i][2] = map(int, input().split())"
   ]
  },
  {
   "cell_type": "code",
   "execution_count": 4,
   "metadata": {},
   "outputs": [
    {
     "data": {
      "text/plain": [
       "[[1, 2, 3]]"
      ]
     },
     "execution_count": 4,
     "metadata": {},
     "output_type": "execute_result"
    }
   ],
   "source": [
    "cs"
   ]
  },
  {
   "cell_type": "code",
   "execution_count": 5,
   "metadata": {},
   "outputs": [],
   "source": [
    "tmp = [[0]*3 for _ in range(N)]"
   ]
  },
  {
   "cell_type": "code",
   "execution_count": 6,
   "metadata": {},
   "outputs": [
    {
     "name": "stdout",
     "output_type": "stream",
     "text": [
      "1\n"
     ]
    }
   ],
   "source": [
    "for i in range(N):\n",
    "    if i == 0:\n",
    "        tmp[i][0] = cs[i][0]\n",
    "        tmp[i][1] = cs[i][1]\n",
    "        tmp[i][2] = cs[i][2]\n",
    "        continue\n",
    "    tmp[i][0] = cs[i][0] + min(tmp[i-1][1], tmp[i-1][2])\n",
    "    tmp[i][1] = cs[i][1] + min(tmp[i-1][0], tmp[i-1][2])\n",
    "    tmp[i][2] = cs[i][2] + min(tmp[i-1][1], tmp[i-1][0])\n",
    "    \n",
    "print(min(min(tmp[N-1][0], tmp[N-1][1]), tmp[N-1][2]))"
   ]
  },
  {
   "cell_type": "markdown",
   "metadata": {},
   "source": [
    "# 제출"
   ]
  },
  {
   "cell_type": "code",
   "execution_count": 7,
   "metadata": {},
   "outputs": [
    {
     "name": "stdout",
     "output_type": "stream",
     "text": [
      "1\n",
      "1 2 3\n",
      "1\n"
     ]
    }
   ],
   "source": [
    "N = int(input())\n",
    "cs = [[0]*3 for _ in range(N)]\n",
    "tmp = [[0]*3 for _ in range(N)]\n",
    "for i in range(N):\n",
    "    cs[i][0], cs[i][1], cs[i][2] = map(int, input().split())\n",
    "    \n",
    "for i in range(N):\n",
    "    if i == 0:\n",
    "        tmp[i][0] = cs[i][0]\n",
    "        tmp[i][1] = cs[i][1]\n",
    "        tmp[i][2] = cs[i][2]\n",
    "        continue\n",
    "    tmp[i][0] = cs[i][0] + min(tmp[i-1][1], tmp[i-1][2])\n",
    "    tmp[i][1] = cs[i][1] + min(tmp[i-1][0], tmp[i-1][2])\n",
    "    tmp[i][2] = cs[i][2] + min(tmp[i-1][1], tmp[i-1][0])\n",
    "    \n",
    "print(min(tmp[N-1][0], tmp[N-1][1], tmp[N-1][2]))"
   ]
  },
  {
   "cell_type": "markdown",
   "metadata": {},
   "source": [
    "# 숏코딩"
   ]
  },
  {
   "cell_type": "code",
   "execution_count": 8,
   "metadata": {},
   "outputs": [
    {
     "name": "stdout",
     "output_type": "stream",
     "text": [
      "1\n",
      "1 2 3\n",
      "1\n"
     ]
    }
   ],
   "source": [
    "N=int(input())\n",
    "a,b,c=0,0,0\n",
    "while N:\n",
    "    x,y,z=map(int,input().split())\n",
    "    a,b,c=min(b,c)+x,min(a,c)+y,min(a,b)+z\n",
    "    N-=1\n",
    "print(min(a,b,c))"
   ]
  },
  {
   "cell_type": "code",
   "execution_count": 9,
   "metadata": {},
   "outputs": [
    {
     "name": "stdout",
     "output_type": "stream",
     "text": [
      "1 \n",
      "1 2 3\n",
      "1\n"
     ]
    }
   ],
   "source": [
    "v=[0]*6;exec(\"v=[*map(sum,zip(map(int,input().split()),map(min,v[1:5],v[2:])))]*2;\"*int(input()));print(min(v))"
   ]
  }
 ],
 "metadata": {
  "kernelspec": {
   "display_name": "Python [conda env:tf20] *",
   "language": "python",
   "name": "conda-env-tf20-py"
  },
  "language_info": {
   "codemirror_mode": {
    "name": "ipython",
    "version": 3
   },
   "file_extension": ".py",
   "mimetype": "text/x-python",
   "name": "python",
   "nbconvert_exporter": "python",
   "pygments_lexer": "ipython3",
   "version": "3.6.9"
  }
 },
 "nbformat": 4,
 "nbformat_minor": 2
}

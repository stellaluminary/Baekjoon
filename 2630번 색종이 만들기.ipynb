{
 "cells": [
  {
   "cell_type": "markdown",
   "metadata": {},
   "source": [
    "# 2630번 색종이 만들기\n",
    "\n",
    "- URL : https://www.acmicpc.net/problem/2630"
   ]
  },
  {
   "cell_type": "code",
   "execution_count": null,
   "metadata": {},
   "outputs": [],
   "source": [
    "N = int(input())\n",
    "li = []\n",
    "for i in range(N):\n",
    "    li.append(list(map(int,input().split())))"
   ]
  },
  {
   "cell_type": "code",
   "execution_count": null,
   "metadata": {},
   "outputs": [],
   "source": [
    "li"
   ]
  },
  {
   "cell_type": "code",
   "execution_count": null,
   "metadata": {},
   "outputs": [],
   "source": [
    "blue, white = 0,0\n",
    "def check_full(row_start,row_end, col_start, col_end):\n",
    "    tmp = li[row_start][col_start]\n",
    "    for i in range(row_start, row_end+1):\n",
    "        for j in range(col_start, col_end+1):\n",
    "            if tmp != li[i][j]:\n",
    "                return False\n",
    "    return True"
   ]
  },
  {
   "cell_type": "code",
   "execution_count": null,
   "metadata": {},
   "outputs": [],
   "source": [
    "check_full(0,1,6,7)"
   ]
  },
  {
   "cell_type": "code",
   "execution_count": null,
   "metadata": {},
   "outputs": [],
   "source": [
    "def brute(row_start,row_end, col_start, col_end):\n",
    "    global blue,white\n",
    "    if check_full(row_start,row_end, col_start, col_end):\n",
    "        if li[row_start][col_start]:\n",
    "            blue +=1\n",
    "        else:\n",
    "            white += 1\n",
    "    else:\n",
    "        val = (row_end-row_start+1) //2\n",
    "        brute(row_start,row_end - val, col_start, col_end - val)\n",
    "        brute(row_start,row_end - val, col_start + val, col_end)\n",
    "        brute(row_start + val, row_end, col_start, col_end - val)        \n",
    "        brute(row_start + val, row_end, col_start+val, col_end)"
   ]
  },
  {
   "cell_type": "code",
   "execution_count": null,
   "metadata": {},
   "outputs": [],
   "source": [
    "li[0][0]"
   ]
  },
  {
   "cell_type": "code",
   "execution_count": null,
   "metadata": {},
   "outputs": [],
   "source": [
    "brute(0,7,0,7)"
   ]
  },
  {
   "cell_type": "code",
   "execution_count": null,
   "metadata": {},
   "outputs": [],
   "source": [
    "blue,white"
   ]
  },
  {
   "cell_type": "markdown",
   "metadata": {},
   "source": [
    "# 제출 1 - 29284KB 88ms 952B"
   ]
  },
  {
   "cell_type": "code",
   "execution_count": null,
   "metadata": {},
   "outputs": [],
   "source": [
    "N = int(input())\n",
    "li = []\n",
    "for i in range(N):\n",
    "    li.append(list(map(int,input().split())))\n",
    "blue, white = 0,0\n",
    "\n",
    "def check_full(row_start,row_end, col_start, col_end):\n",
    "    tmp = li[row_start][col_start]\n",
    "    for i in range(row_start, row_end+1):\n",
    "        for j in range(col_start, col_end+1):\n",
    "            if tmp != li[i][j]:\n",
    "                return False\n",
    "    return True\n",
    "\n",
    "def brute(row_start,row_end, col_start, col_end):\n",
    "    global blue,white\n",
    "    if check_full(row_start,row_end, col_start, col_end):\n",
    "        if li[row_start][col_start]:\n",
    "            blue +=1\n",
    "        else:\n",
    "            white += 1\n",
    "    else:\n",
    "        val = (row_end-row_start+1) // 2\n",
    "        brute(row_start,row_end - val, col_start, col_end - val)\n",
    "        brute(row_start,row_end - val, col_start + val, col_end)\n",
    "        brute(row_start + val, row_end, col_start, col_end - val)        \n",
    "        brute(row_start + val, row_end, col_start+val, col_end)\n",
    "brute(0,N-1,0,N-1)\n",
    "print(white)\n",
    "print(blue)"
   ]
  },
  {
   "cell_type": "markdown",
   "metadata": {},
   "source": [
    "# 제출 2 - 29284KB 76ms 885B"
   ]
  },
  {
   "cell_type": "code",
   "execution_count": null,
   "metadata": {},
   "outputs": [],
   "source": [
    "import sys\n",
    "N = int(sys.stdin.readline())\n",
    "li = []\n",
    "for i in range(N):\n",
    "    li.append(list(map(int, sys.stdin.readline().split())))\n",
    "blue, white = 0,0\n",
    "\n",
    "def brute(row_start,row_end, col_start, col_end):\n",
    "    global blue,white\n",
    "    tmp = li[row_start][col_start]\n",
    "    bl_ck = True\n",
    "    \n",
    "    for i in range(row_start, row_end+1):\n",
    "        for j in range(col_start, col_end+1):\n",
    "            if tmp != li[i][j]:\n",
    "                val = (row_end-row_start+1) // 2\n",
    "                brute(row_start,row_end - val, col_start, col_end - val)\n",
    "                brute(row_start,row_end - val, col_start + val, col_end)\n",
    "                brute(row_start + val, row_end, col_start, col_end - val)        \n",
    "                brute(row_start + val, row_end, col_start+val, col_end)\n",
    "                return\n",
    "\n",
    "    if tmp:\n",
    "        blue +=1\n",
    "    else:\n",
    "        white += 1\n",
    "    return    \n",
    "brute(0,N-1,0,N-1)\n",
    "print(white)\n",
    "print(blue)"
   ]
  },
  {
   "cell_type": "markdown",
   "metadata": {},
   "source": [
    "# 제출 3 - 29284KB 76ms 984B"
   ]
  },
  {
   "cell_type": "code",
   "execution_count": null,
   "metadata": {},
   "outputs": [],
   "source": [
    "import sys\n",
    "li = []\n",
    "blue, white = 0,0\n",
    "\n",
    "def brute(row_start,row_end, col_start, col_end):\n",
    "    global blue,white\n",
    "    tmp = li[row_start][col_start]\n",
    "    bl_ck = True\n",
    "    \n",
    "    for i in range(row_start, row_end+1):\n",
    "        for j in range(col_start, col_end+1):\n",
    "            if tmp != li[i][j]:\n",
    "                val = (row_end-row_start+1) // 2\n",
    "                brute(row_start,row_end - val, col_start, col_end - val)\n",
    "                brute(row_start,row_end - val, col_start + val, col_end)\n",
    "                brute(row_start + val, row_end, col_start, col_end - val)        \n",
    "                brute(row_start + val, row_end, col_start+val, col_end)\n",
    "                return\n",
    "\n",
    "    if tmp:\n",
    "        blue +=1\n",
    "    else:\n",
    "        white += 1\n",
    "    return    \n",
    "def main():\n",
    "    global li\n",
    "    N = int(sys.stdin.readline())    \n",
    "    for i in range(N):\n",
    "        li.append(list(map(int, sys.stdin.readline().split())))\n",
    "    brute(0,N-1,0,N-1)\n",
    "    print(white)\n",
    "    print(blue)\n",
    "        \n",
    "if __name__==\"__main__\":\n",
    "    main()"
   ]
  },
  {
   "cell_type": "markdown",
   "metadata": {},
   "source": [
    "# 제출 4 - 29284KB 68ms 666B\n",
    "\n",
    "- subproblem 문제로 푸는 divide and conquer method\n",
    "- 결국 마지막 1까지 가는 것\n",
    "- brute에서 숫자를 빼는 이유는 4개의 값을 합치는 과정에서 미리 더해놨던 것을 빼는 것 4개->1개 이므로 -3\n",
    "- 마지막 print에서 f는 format을 가르킨다.\n",
    " - 보통 print('{}\\n{}'.format(num[0],num[1])) 이런식으로 적는데 축약버전이다."
   ]
  },
  {
   "cell_type": "code",
   "execution_count": null,
   "metadata": {},
   "outputs": [],
   "source": [
    "import sys\n",
    "N = int(sys.stdin.readline())\n",
    "li = []\n",
    "for i in range(N):\n",
    "    li.append(list(map(int, sys.stdin.readline().split())))\n",
    "num = [0,0]\n",
    "\n",
    "def brute(N,rs,re,cs,ce):\n",
    "    tmp = li[rs][cs]\n",
    "    if N==1:\n",
    "        if tmp:num[1]+=1\n",
    "        else:num[0]+=1\n",
    "        return tmp\n",
    "    else:\n",
    "        val = N // 2\n",
    "        rm = rs+val\n",
    "        cm = cs+val\n",
    "        \n",
    "        tl = brute(val, rs, rm, cs, cm)\n",
    "        tr = brute(val, rs, rm, cm, ce)\n",
    "        bl = brute(val, rm, re, cs, cm)\n",
    "        br = brute(val, rm, re, cm, ce)\n",
    "        \n",
    "        if tl==tr==bl==br==1: num[1]-=3; return tl\n",
    "        if tl==tr==bl==br==0: num[0]-=3; return tl\n",
    "\n",
    "brute(N, 0,N,0,N)\n",
    "print(f'{num[0]}\\n{num[1]}')"
   ]
  },
  {
   "cell_type": "markdown",
   "metadata": {},
   "source": [
    "# 제출 5 - 29284KB 64ms 666B\n",
    "- tl -> tmp"
   ]
  },
  {
   "cell_type": "code",
   "execution_count": null,
   "metadata": {},
   "outputs": [],
   "source": [
    "import sys\n",
    "N = int(sys.stdin.readline())\n",
    "li = []\n",
    "for i in range(N):\n",
    "    li.append(list(map(int, sys.stdin.readline().split())))\n",
    "num = [0,0]\n",
    "\n",
    "def brute(N,rs,re,cs,ce):\n",
    "    tmp = li[rs][cs]\n",
    "    if N==1:\n",
    "        if tmp:num[1]+=1\n",
    "        else:num[0]+=1\n",
    "        return tmp\n",
    "    else:\n",
    "        val = N // 2\n",
    "        rm = rs+val\n",
    "        cm = cs+val\n",
    "        \n",
    "        tl = brute(val, rs, rm, cs, cm)\n",
    "        tr = brute(val, rs, rm, cm, ce)\n",
    "        bl = brute(val, rm, re, cs, cm)\n",
    "        br = brute(val, rm, re, cm, ce)\n",
    "        \n",
    "        if tl==tr==bl==br==1: num[1]-=3; return tmp\n",
    "        if tl==tr==bl==br==0: num[0]-=3; return tmp\n",
    "\n",
    "brute(N, 0,N,0,N)\n",
    "print(f'{num[0]}\\n{num[1]}')"
   ]
  },
  {
   "cell_type": "markdown",
   "metadata": {},
   "source": [
    "# 제출 6 - 29284KB 64ms 626B\n",
    "- 2020-01-23 맞은 사람 2등"
   ]
  },
  {
   "cell_type": "code",
   "execution_count": null,
   "metadata": {},
   "outputs": [],
   "source": [
    "import sys\n",
    "N = int(sys.stdin.readline())\n",
    "li = []\n",
    "for i in range(N):\n",
    "    li.append(list(map(int, sys.stdin.readline().split())))\n",
    "num = [0,0]\n",
    "\n",
    "def brute(N,rs,cs):\n",
    "    tmp = li[rs][cs]\n",
    "    if N==1:\n",
    "        if tmp:num[1]+=1\n",
    "        else:num[0]+=1\n",
    "        return tmp\n",
    "    else:\n",
    "        val = N // 2\n",
    "        rm = rs+val\n",
    "        cm = cs+val\n",
    "        \n",
    "        tl = brute(val, rs, cs)\n",
    "        tr = brute(val, rs, cm)\n",
    "        bl = brute(val, rm, cs)\n",
    "        br = brute(val, rm, cm)\n",
    "        \n",
    "        if tl==tr==bl==br==1: num[1]-=3; return tmp\n",
    "        if tl==tr==bl==br==0: num[0]-=3; return tmp\n",
    "\n",
    "brute(N, 0,0)\n",
    "print(f'{num[0]}\\n{num[1]}')"
   ]
  },
  {
   "cell_type": "markdown",
   "metadata": {},
   "source": [
    "# 숏코딩"
   ]
  },
  {
   "cell_type": "markdown",
   "metadata": {},
   "source": [
    "# 제출 7 - 29284KB 80ms 309B"
   ]
  },
  {
   "cell_type": "code",
   "execution_count": null,
   "metadata": {},
   "outputs": [],
   "source": [
    "import sys\n",
    "I=sys.stdin.readline\n",
    "b=[0,0]\n",
    "def f(n,x,y):\n",
    "    c=sum([sum(i[y:y+n])for i in a[x:x+n]])\n",
    "    if n*n==c:b[1]+=1;return \n",
    "    elif c==0:b[0]+=1;return \n",
    "    n//=2\n",
    "    f(n,x,y);f(n,x+n,y);f(n,x,y+n);f(n,x+n,y+n)\n",
    "    return b\n",
    "n=int(I())\n",
    "a=[list(map(int,I().split()))for i in[0]*n]\n",
    "print(*f(n,0,0),sep='\\n')"
   ]
  },
  {
   "cell_type": "markdown",
   "metadata": {},
   "source": [
    "# 제출 8 - 29284KB 84ms 285B\n",
    "- 2020-01-23 숏코딩 1등"
   ]
  },
  {
   "cell_type": "code",
   "execution_count": null,
   "metadata": {},
   "outputs": [],
   "source": [
    "I=input\n",
    "b=[0,0]\n",
    "def f(n,x,y):\n",
    "    c=sum([sum(i[y:y+n])for i in a[x:x+n]])\n",
    "    if n*n==c:b[1]+=1;return \n",
    "    elif c==0:b[0]+=1;return \n",
    "    n//=2\n",
    "    f(n,x,y);f(n,x+n,y);f(n,x,y+n);f(n,x+n,y+n)\n",
    "    return b\n",
    "n=int(I())\n",
    "a=[list(map(int,I().split()))for i in[0]*n]\n",
    "print(*f(n,0,0),sep='\\n')"
   ]
  }
 ],
 "metadata": {
  "kernelspec": {
   "display_name": "tf20",
   "language": "python",
   "name": "tf20"
  },
  "language_info": {
   "codemirror_mode": {
    "name": "ipython",
    "version": 3
   },
   "file_extension": ".py",
   "mimetype": "text/x-python",
   "name": "python",
   "nbconvert_exporter": "python",
   "pygments_lexer": "ipython3",
   "version": "3.7.4"
  }
 },
 "nbformat": 4,
 "nbformat_minor": 2
}

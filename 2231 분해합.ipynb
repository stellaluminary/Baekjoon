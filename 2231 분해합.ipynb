{
 "cells": [
  {
   "cell_type": "markdown",
   "metadata": {},
   "source": [
    "# 2231 분해합 \n",
    "- URL : https://www.acmicpc.net/problem/2231\n",
    "\n",
    "- 최종 : 맞은 사람 : 제출 4,6\n",
    "- 최종 : 숏코딩 : 제출 8 - 1등"
   ]
  },
  {
   "cell_type": "markdown",
   "metadata": {},
   "source": [
    "# 제출 1 - 29284KB 1436ms 220B"
   ]
  },
  {
   "cell_type": "code",
   "execution_count": null,
   "metadata": {},
   "outputs": [],
   "source": [
    "N = int(input())\n",
    "l=[]\n",
    "for i in range(1,N+1):\n",
    "    s=i\n",
    "    q=i\n",
    "    while q != 0:\n",
    "        r = q % 10\n",
    "        q = q // 10        \n",
    "        s += r\n",
    "    if s == N:\n",
    "        l.append(i)\n",
    "        break\n",
    "if l:print(l[0])\n",
    "else:print(0)"
   ]
  },
  {
   "cell_type": "markdown",
   "metadata": {},
   "source": [
    "# 제출 2 - 29284KB 60ms 169B"
   ]
  },
  {
   "cell_type": "code",
   "execution_count": null,
   "metadata": {},
   "outputs": [],
   "source": [
    "N=input()\n",
    "n=int(N)\n",
    "l=[]\n",
    "for i in range(max(n - 9*len(N),0),n):\n",
    "    if n==sum(map(int,str(i)))+i:\n",
    "        l.append(i)\n",
    "        break\n",
    "if l:print(l[0])    \n",
    "else:print(0)    "
   ]
  },
  {
   "cell_type": "markdown",
   "metadata": {},
   "source": [
    "# 제출 3 - 29284KB 56ms 157B"
   ]
  },
  {
   "cell_type": "code",
   "execution_count": null,
   "metadata": {},
   "outputs": [],
   "source": [
    "N=int(input())\n",
    "l=[]\n",
    "for i in range(max(N-54,1),N):\n",
    "    if N==sum(map(int,str(i)))+i:\n",
    "        l.append(i)\n",
    "        break\n",
    "if l:print(l[0])    \n",
    "else:print(0)    "
   ]
  },
  {
   "cell_type": "markdown",
   "metadata": {},
   "source": [
    "# 제출 4 - 29284KB 56ms 104B"
   ]
  },
  {
   "cell_type": "code",
   "execution_count": null,
   "metadata": {},
   "outputs": [],
   "source": [
    "N=int(input())\n",
    "for i in range(max(N-54,1),N):\n",
    "    if N==sum(map(int,str(i)))+i:print(i);exit(0)\n",
    "print(0)"
   ]
  },
  {
   "cell_type": "markdown",
   "metadata": {},
   "source": [
    "# 제출 5 - 29284KB 60ms 127B"
   ]
  },
  {
   "cell_type": "code",
   "execution_count": null,
   "metadata": {},
   "outputs": [],
   "source": [
    "N = input()\n",
    "n = int(N)\n",
    "s = max(n - 9*len(N),1)\n",
    "r = 0\n",
    "for i in range(s,n):\n",
    "    if n == sum(map(int,str(i)))+i:r=i;break\n",
    "print(r)"
   ]
  },
  {
   "cell_type": "markdown",
   "metadata": {},
   "source": [
    "# 제출 6 - 29284KB 60ms 98B"
   ]
  },
  {
   "cell_type": "code",
   "execution_count": null,
   "metadata": {},
   "outputs": [],
   "source": [
    "N,r=int(input()),0\n",
    "for i in range(max(N-54,1),N):\n",
    "    if N==sum(map(int,str(i)))+i:r=i;break\n",
    "print(r)"
   ]
  },
  {
   "cell_type": "markdown",
   "metadata": {},
   "source": [
    "# 제출 7 - 29284KB 60ms 93B"
   ]
  },
  {
   "cell_type": "code",
   "execution_count": null,
   "metadata": {},
   "outputs": [],
   "source": [
    "N=int(input());print(min([i for i in range(max(N-54,1),N)if N==sum(map(int,str(i)))+i]or[0]))"
   ]
  },
  {
   "cell_type": "markdown",
   "metadata": {},
   "source": [
    "# 제출 8 - 29284KB 1348ms 83B\n",
    "- 2020-02-16 숏코딩 1등"
   ]
  },
  {
   "cell_type": "code",
   "execution_count": null,
   "metadata": {},
   "outputs": [],
   "source": [
    "N=int(input());print(min([i for i in range(1,N)if N==sum(map(int,str(i)))+i]or[0]))"
   ]
  }
 ],
 "metadata": {
  "kernelspec": {
   "display_name": "tf20",
   "language": "python",
   "name": "tf20"
  },
  "language_info": {
   "codemirror_mode": {
    "name": "ipython",
    "version": 3
   },
   "file_extension": ".py",
   "mimetype": "text/x-python",
   "name": "python",
   "nbconvert_exporter": "python",
   "pygments_lexer": "ipython3",
   "version": "3.7.4"
  }
 },
 "nbformat": 4,
 "nbformat_minor": 2
}

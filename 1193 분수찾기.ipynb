{
 "cells": [
  {
   "cell_type": "code",
   "execution_count": 42,
   "metadata": {},
   "outputs": [
    {
     "name": "stdout",
     "output_type": "stream",
     "text": [
      "16\n",
      "sub: 5 totnum: 21.0 number: 6\n",
      "1/6\n"
     ]
    }
   ],
   "source": [
    "getNum=int(input())\n",
    "number=1\n",
    "totnum=0\n",
    "while True:\n",
    "    totnum=number*(number+1)/2\n",
    "    if totnum >= getNum:\n",
    "        break\n",
    "    number += 1\n",
    "    \n",
    "sub=int(totnum-getNum)\n",
    "\n",
    "if number %2 == 0: #짝수 시작 1/number 마지막 number/1\n",
    "    a,b=number-sub,1+sub\n",
    "else: #홀수 시작 number/1 마지막 1/number \n",
    "    a,b=1+sub,number-sub\n",
    "    \n",
    "result=str(a)+str('/')+str(b)\n",
    "print(result)"
   ]
  }
 ],
 "metadata": {
  "kernelspec": {
   "display_name": "Python 3",
   "language": "python",
   "name": "python3"
  },
  "language_info": {
   "codemirror_mode": {
    "name": "ipython",
    "version": 3
   },
   "file_extension": ".py",
   "mimetype": "text/x-python",
   "name": "python",
   "nbconvert_exporter": "python",
   "pygments_lexer": "ipython3",
   "version": "3.6.9"
  }
 },
 "nbformat": 4,
 "nbformat_minor": 2
}

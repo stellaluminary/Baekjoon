{
 "cells": [
  {
   "cell_type": "markdown",
   "metadata": {},
   "source": [
    "# 10844 쉬운 계단 수\n",
    "\n",
    "URL : https://www.acmicpc.net/problem/10844"
   ]
  },
  {
   "cell_type": "markdown",
   "metadata": {},
   "source": [
    "### https://debuglog.tistory.com/81 참조"
   ]
  },
  {
   "cell_type": "markdown",
   "metadata": {},
   "source": [
    "- 맨 앞은 1~9만 가능\n",
    "- 앞 자리가 1이라면 뒷 자리는 0과 2\n",
    "- 앞 자리가 9라면 뒷 자리는 8만 가능\n",
    "- 중간 자리가 0이라면 뒷 자리는 1만 가능\n",
    "\n",
    "\n",
    "### 점화식\n",
    "\n",
    "- cf 자리 숫자를 계산할 때 다음과 같이 정의\n",
    "- ex) 1234가 있다면 1이 첫 번째 자리 2는 두 번째 자리 3은 ...\n",
    "\n",
    "### D(1자리, 숫자)\n",
    "- D(1, 숫자) : if 숫자== 0: 0 else 1 \n",
    "\n",
    "- D(2 이상의 자리 n, 숫자) : \n",
    " - if 숫자==0: D(n-1, 숫자==1) \n",
    " - elif 숫자 == 9: D(n-1, 숫자==8)\n",
    " - else D(n-1,i-1) + D(n-1,i+1)"
   ]
  },
  {
   "cell_type": "code",
   "execution_count": 1,
   "metadata": {},
   "outputs": [
    {
     "name": "stdout",
     "output_type": "stream",
     "text": [
      "3\n"
     ]
    }
   ],
   "source": [
    "n = int(input())"
   ]
  },
  {
   "cell_type": "code",
   "execution_count": 2,
   "metadata": {},
   "outputs": [],
   "source": [
    "D = [[0 for _ in range(10)] for _ in range(n+1)]\n",
    "for i in range(1,10):\n",
    "    D[1][i] = 1"
   ]
  },
  {
   "cell_type": "code",
   "execution_count": 3,
   "metadata": {},
   "outputs": [
    {
     "data": {
      "text/plain": [
       "[[0, 0, 0, 0, 0, 0, 0, 0, 0, 0],\n",
       " [0, 1, 1, 1, 1, 1, 1, 1, 1, 1],\n",
       " [0, 0, 0, 0, 0, 0, 0, 0, 0, 0],\n",
       " [0, 0, 0, 0, 0, 0, 0, 0, 0, 0]]"
      ]
     },
     "execution_count": 3,
     "metadata": {},
     "output_type": "execute_result"
    }
   ],
   "source": [
    "D"
   ]
  },
  {
   "cell_type": "code",
   "execution_count": 4,
   "metadata": {},
   "outputs": [],
   "source": [
    "for i in range(2,n+1):\n",
    "    for j in range(10):\n",
    "        if j == 0:\n",
    "            D[i][j] = D[i-1][1]\n",
    "        elif j == 9:\n",
    "            D[i][j] = D[i-1][8]\n",
    "        else:\n",
    "            D[i][j] = D[i-1][j-1] + D[i-1][j+1]"
   ]
  },
  {
   "cell_type": "code",
   "execution_count": 5,
   "metadata": {},
   "outputs": [
    {
     "data": {
      "text/plain": [
       "[[0, 0, 0, 0, 0, 0, 0, 0, 0, 0],\n",
       " [0, 1, 1, 1, 1, 1, 1, 1, 1, 1],\n",
       " [1, 1, 2, 2, 2, 2, 2, 2, 2, 1],\n",
       " [1, 3, 3, 4, 4, 4, 4, 4, 3, 2]]"
      ]
     },
     "execution_count": 5,
     "metadata": {},
     "output_type": "execute_result"
    }
   ],
   "source": [
    "D"
   ]
  },
  {
   "cell_type": "code",
   "execution_count": 6,
   "metadata": {},
   "outputs": [],
   "source": [
    "sumD = 0\n",
    "for i in range(10):\n",
    "    sumD += D[n][i]"
   ]
  },
  {
   "cell_type": "code",
   "execution_count": 7,
   "metadata": {},
   "outputs": [
    {
     "data": {
      "text/plain": [
       "32"
      ]
     },
     "execution_count": 7,
     "metadata": {},
     "output_type": "execute_result"
    }
   ],
   "source": [
    "sumD"
   ]
  },
  {
   "cell_type": "markdown",
   "metadata": {},
   "source": [
    "# 제출"
   ]
  },
  {
   "cell_type": "code",
   "execution_count": null,
   "metadata": {},
   "outputs": [],
   "source": [
    "n = int(input())\n",
    "D = [[0 for _ in range(10)] for _ in range(n+1)]\n",
    "for i in range(1,10):\n",
    "    D[1][i] = 1\n",
    "for i in range(2,n+1):\n",
    "    for j in range(10):\n",
    "        if j == 0:\n",
    "            D[i][j] = D[i-1][1]\n",
    "        elif j == 9:\n",
    "            D[i][j] = D[i-1][8]\n",
    "        else:\n",
    "            D[i][j] = D[i-1][j-1] + D[i-1][j+1]    \n",
    "sumD = 0\n",
    "for i in range(10):\n",
    "    sumD += D[n][i]\n",
    "print(sumD%1000000000)"
   ]
  },
  {
   "cell_type": "markdown",
   "metadata": {},
   "source": [
    "# 숏코딩"
   ]
  },
  {
   "cell_type": "code",
   "execution_count": null,
   "metadata": {},
   "outputs": [],
   "source": [
    "a=1;b=c=d=e=2\n",
    "exec(\"a,b,c,d,e=b,a+c,b+d,c+e,d+e;\"*(int(input())-1))\n",
    "print((a+b+c+d+e)%10**9)"
   ]
  }
 ],
 "metadata": {
  "kernelspec": {
   "display_name": "Python [conda env:tf20] *",
   "language": "python",
   "name": "conda-env-tf20-py"
  },
  "language_info": {
   "codemirror_mode": {
    "name": "ipython",
    "version": 3
   },
   "file_extension": ".py",
   "mimetype": "text/x-python",
   "name": "python",
   "nbconvert_exporter": "python",
   "pygments_lexer": "ipython3",
   "version": "3.6.9"
  }
 },
 "nbformat": 4,
 "nbformat_minor": 2
}

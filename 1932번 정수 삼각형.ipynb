{
 "cells": [
  {
   "cell_type": "markdown",
   "metadata": {},
   "source": [
    "# 1932번 정수 삼각형\n",
    "\n",
    "URL : https://www.acmicpc.net/problem/1932"
   ]
  },
  {
   "cell_type": "code",
   "execution_count": null,
   "metadata": {},
   "outputs": [],
   "source": [
    "N = int(input())"
   ]
  },
  {
   "cell_type": "code",
   "execution_count": null,
   "metadata": {},
   "outputs": [],
   "source": [
    "arr = [[0] for _ in range(N)]\n",
    "\n",
    "for i in range(N):\n",
    "    arr[i] = list(map(int, input().split()))"
   ]
  },
  {
   "cell_type": "code",
   "execution_count": null,
   "metadata": {},
   "outputs": [],
   "source": [
    "arr"
   ]
  },
  {
   "cell_type": "code",
   "execution_count": null,
   "metadata": {},
   "outputs": [],
   "source": [
    "summation = [[0]*(i+1) for i in range(N)]\n",
    "print(summation)"
   ]
  },
  {
   "cell_type": "code",
   "execution_count": null,
   "metadata": {},
   "outputs": [],
   "source": [
    "for i in range(N):\n",
    "    if i == 0:\n",
    "        summation[i][0] = arr[i][0]\n",
    "        continue\n",
    "    for j in range(i+1):\n",
    "        print('i : ',i,'j: ', j)\n",
    "        if j==0:\n",
    "            summation[i][j] = arr[i][j] + summation[i-1][j]\n",
    "            print('arr[',i,'],[',j,']',arr[i][j],'summation[',i-1,'][',j,']', summation[i-1][j], summation[i])        \n",
    "        else:\n",
    "            summation[i][j+1] = arr[i][j+1] + max(summation[i-1][j-1], summation[i-1][j])\n",
    "            print('arr[',i,'],[',j+1,']',arr[i][j+1],'summation', max(summation[i-1][j-1], summation[i-1][j]), summation[i])\n",
    "            print(summation[i])\n",
    "        \n",
    "        if j == i-1:\n",
    "            summation[i][j+1] = arr[i][j+1] + summation[i-1][j]\n",
    "            print('arr[',i,'],[',j+1,']',arr[i][j+1],'summation[',i-1,'][',j,']', summation[i-1][j], summation[i])\n",
    "            print(summation[i])"
   ]
  },
  {
   "cell_type": "code",
   "execution_count": null,
   "metadata": {},
   "outputs": [],
   "source": [
    "dp = [[0]*(i+2) for i in range(N)]\n",
    "dp"
   ]
  },
  {
   "cell_type": "code",
   "execution_count": null,
   "metadata": {},
   "outputs": [],
   "source": [
    "for i in range(N):\n",
    "    if i == 0:\n",
    "        dp[i][0] = arr[i][0]\n",
    "        continue\n",
    "    for j in range(i+1):\n",
    "        if j==0:\n",
    "            dp[i][j] = arr[i][j] + dp[i-1][j]\n",
    "            print(dp[i])    \n",
    "        else:    \n",
    "            print('i',i,'j',j)\n",
    "            dp[i][j] = arr[i][j] + max(dp[i-1][j-1], dp[i-1][j])\n",
    "            print(dp[i])       "
   ]
  },
  {
   "cell_type": "code",
   "execution_count": null,
   "metadata": {},
   "outputs": [],
   "source": [
    "max(dp[N-1])"
   ]
  },
  {
   "cell_type": "markdown",
   "metadata": {},
   "source": [
    "# 제출"
   ]
  },
  {
   "cell_type": "code",
   "execution_count": null,
   "metadata": {},
   "outputs": [],
   "source": [
    "N = int(input())\n",
    "arr = [[0] for _ in range(N)]\n",
    "\n",
    "for i in range(N):\n",
    "    arr[i] = list(map(int, input().split()))\n",
    "    \n",
    "dp = [[0]*(i+2) for i in range(N)]\n",
    "for i in range(N):\n",
    "    if i == 0:\n",
    "        dp[i][0] = arr[i][0]\n",
    "        continue\n",
    "    for j in range(i+1):\n",
    "        if j==0:\n",
    "            dp[i][j] = arr[i][j] + dp[i-1][j]\n",
    "        else:    \n",
    "            dp[i][j] = arr[i][j] + max(dp[i-1][j-1], dp[i-1][j])\n",
    "            \n",
    "print(max(dp[N-1]))"
   ]
  }
 ],
 "metadata": {
  "kernelspec": {
   "display_name": "Python [conda env:tf20] *",
   "language": "python",
   "name": "conda-env-tf20-py"
  },
  "language_info": {
   "codemirror_mode": {
    "name": "ipython",
    "version": 3
   },
   "file_extension": ".py",
   "mimetype": "text/x-python",
   "name": "python",
   "nbconvert_exporter": "python",
   "pygments_lexer": "ipython3",
   "version": "3.6.9"
  }
 },
 "nbformat": 4,
 "nbformat_minor": 2
}

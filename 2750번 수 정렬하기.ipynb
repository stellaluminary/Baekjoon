{
 "cells": [
  {
   "cell_type": "markdown",
   "metadata": {},
   "source": [
    "# 2750번 수 정렬하기\n",
    "시간 복잡도가 O(n²)인 정렬 알고리즘으로 풀 수 있습니다. 예를 들면 삽입 정렬, 거품 정렬 등이 있습니다.\n",
    "<br>\n",
    "<pre>\n",
    "시간 제한   메모리 제한      제출   정답     맞은 사람 정답 비율<br>\n",
    "1 초           128 MB        30110  17074    12573      58.987% \n",
    "</pre>"
   ]
  },
  {
   "cell_type": "markdown",
   "metadata": {},
   "source": [
    "# 제일 짧은 숏코딩"
   ]
  },
  {
   "cell_type": "code",
   "execution_count": 1,
   "metadata": {},
   "outputs": [
    {
     "name": "stdout",
     "output_type": "stream",
     "text": [
      "5\n",
      "5\n",
      "2\n",
      "3\n",
      "4\n",
      "1\n",
      "1 2 3 4 5\n"
     ]
    }
   ],
   "source": [
    "print(*sorted(eval(\"int(input()),\"*int(input()))))"
   ]
  },
  {
   "cell_type": "markdown",
   "metadata": {},
   "source": [
    "# Method 1 Python 자체 함수 sort"
   ]
  },
  {
   "cell_type": "code",
   "execution_count": 2,
   "metadata": {},
   "outputs": [
    {
     "name": "stdout",
     "output_type": "stream",
     "text": [
      "5\n",
      "5\n",
      "2\n",
      "3\n",
      "4\n",
      "1\n",
      "1\n",
      "2\n",
      "3\n",
      "4\n",
      "5\n"
     ]
    }
   ],
   "source": [
    "#Method 2\n",
    "N=int(input())\n",
    "listNum=[]\n",
    "for i in range(N):\n",
    "    listNum.append(int(input()))\n",
    "    \n",
    "listNum=sorted(listNum)\n",
    "for i in listNum:\n",
    "    print(i)"
   ]
  },
  {
   "cell_type": "markdown",
   "metadata": {},
   "source": [
    "# Method 2 버블 정렬"
   ]
  },
  {
   "cell_type": "code",
   "execution_count": 3,
   "metadata": {},
   "outputs": [
    {
     "name": "stdout",
     "output_type": "stream",
     "text": [
      "5\n",
      "5\n",
      "2\n",
      "3\n",
      "4\n",
      "1\n",
      "1\n",
      "2\n",
      "3\n",
      "4\n",
      "5\n"
     ]
    }
   ],
   "source": [
    "N=int(input())\n",
    "listNum=[]\n",
    "for i in range(N):\n",
    "    listNum.append(int(input()))\n",
    "    \n",
    "for i in range(N-1):\n",
    "    for j in range(i+1,N):\n",
    "        if listNum[i] > listNum[j]:\n",
    "            tmp = listNum[i]\n",
    "            listNum[i] = listNum[j]\n",
    "            listNum[j] = tmp\n",
    "            \n",
    "for i in listNum:\n",
    "    print(i)"
   ]
  },
  {
   "cell_type": "markdown",
   "metadata": {},
   "source": [
    "# Method 3 삽입 정렬"
   ]
  },
  {
   "cell_type": "code",
   "execution_count": 5,
   "metadata": {},
   "outputs": [
    {
     "name": "stdout",
     "output_type": "stream",
     "text": [
      "1\n",
      "2\n",
      "3\n",
      "4\n",
      "5\n"
     ]
    }
   ],
   "source": [
    "for i in range(1,len(listNum)):\n",
    "    key = listNum[i]\n",
    "    for j in range(i-1,-1,-1):\n",
    "        if listNum[j] > key:\n",
    "            tmp = listNum[j+1]\n",
    "            listNum[j+1] = listNum[j]\n",
    "            listNum[j] = tmp\n",
    "        else:\n",
    "            break            \n",
    "for i in listNum:\n",
    "    print(i)"
   ]
  }
 ],
 "metadata": {
  "kernelspec": {
   "display_name": "Python [conda env:tf20] *",
   "language": "python",
   "name": "conda-env-tf20-py"
  },
  "language_info": {
   "codemirror_mode": {
    "name": "ipython",
    "version": 3
   },
   "file_extension": ".py",
   "mimetype": "text/x-python",
   "name": "python",
   "nbconvert_exporter": "python",
   "pygments_lexer": "ipython3",
   "version": "3.6.9"
  }
 },
 "nbformat": 4,
 "nbformat_minor": 2
}

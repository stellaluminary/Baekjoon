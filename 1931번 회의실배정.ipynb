{
 "cells": [
  {
   "cell_type": "markdown",
   "metadata": {},
   "source": [
    "# 1931번 회의실배정\n",
    "\n",
    "URL : https://www.acmicpc.net/problem/1931"
   ]
  },
  {
   "cell_type": "code",
   "execution_count": 5,
   "metadata": {},
   "outputs": [],
   "source": [
    "N = 11"
   ]
  },
  {
   "cell_type": "code",
   "execution_count": 6,
   "metadata": {},
   "outputs": [
    {
     "name": "stdout",
     "output_type": "stream",
     "text": [
      "1 4\n",
      "3 5\n",
      "0 6\n",
      "5 7\n",
      "3 8\n",
      "5 9\n",
      "6 10\n",
      "8 11\n",
      "8 12\n",
      "2 13\n",
      "12 14\n"
     ]
    }
   ],
   "source": [
    "a=[]\n",
    "for i in range(N):\n",
    "    a.append(list(map(int, input().split())))    "
   ]
  },
  {
   "cell_type": "code",
   "execution_count": 7,
   "metadata": {},
   "outputs": [],
   "source": [
    "cp = a.copy()"
   ]
  },
  {
   "cell_type": "code",
   "execution_count": 8,
   "metadata": {},
   "outputs": [
    {
     "data": {
      "text/plain": [
       "[[1, 4],\n",
       " [3, 5],\n",
       " [0, 6],\n",
       " [5, 7],\n",
       " [3, 8],\n",
       " [5, 9],\n",
       " [6, 10],\n",
       " [8, 11],\n",
       " [8, 12],\n",
       " [2, 13],\n",
       " [12, 14]]"
      ]
     },
     "execution_count": 8,
     "metadata": {},
     "output_type": "execute_result"
    }
   ],
   "source": [
    "a"
   ]
  },
  {
   "cell_type": "code",
   "execution_count": 9,
   "metadata": {},
   "outputs": [
    {
     "name": "stdout",
     "output_type": "stream",
     "text": [
      "[[3, 0], [2, 1], [6, 2], [2, 3], [5, 4], [4, 5], [4, 6], [3, 7], [4, 8], [11, 9], [2, 10]]\n",
      "[[2, 1], [2, 3], [2, 10], [3, 0], [3, 7], [4, 5], [4, 6], [4, 8], [5, 4], [6, 2], [11, 9]]\n"
     ]
    }
   ],
   "source": [
    "b=[]\n",
    "for i,a_ in enumerate(a):    \n",
    "    b.append([a_[1]-a_[0],i])\n",
    "print(b)\n",
    "print(sorted(b))\n",
    "b = sorted(b)"
   ]
  },
  {
   "cell_type": "code",
   "execution_count": 32,
   "metadata": {},
   "outputs": [
    {
     "data": {
      "text/plain": [
       "[[2, 1],\n",
       " [2, 3],\n",
       " [2, 10],\n",
       " [3, 0],\n",
       " [3, 7],\n",
       " [4, 5],\n",
       " [4, 6],\n",
       " [4, 8],\n",
       " [5, 4],\n",
       " [6, 2],\n",
       " [11, 9]]"
      ]
     },
     "execution_count": 32,
     "metadata": {},
     "output_type": "execute_result"
    }
   ],
   "source": [
    "b"
   ]
  },
  {
   "cell_type": "code",
   "execution_count": 33,
   "metadata": {},
   "outputs": [
    {
     "data": {
      "text/plain": [
       "11"
      ]
     },
     "execution_count": 33,
     "metadata": {},
     "output_type": "execute_result"
    }
   ],
   "source": [
    "len(b)"
   ]
  },
  {
   "cell_type": "code",
   "execution_count": 10,
   "metadata": {},
   "outputs": [
    {
     "name": "stdout",
     "output_type": "stream",
     "text": [
      "24\n"
     ]
    }
   ],
   "source": [
    "c = [0 for _ in range(24)]\n",
    "print(len(c))"
   ]
  },
  {
   "cell_type": "code",
   "execution_count": 48,
   "metadata": {},
   "outputs": [],
   "source": [
    "sum_ = 0\n",
    "for i in range(N):\n",
    "    start = a[b[i][1]][0]\n",
    "    end = a[b[i][1]][1]\n",
    "    if 1 not in c[start:end]:\n",
    "        sum_ += 1\n",
    "        for j in range(start,end):        \n",
    "            c[j]=1   "
   ]
  },
  {
   "cell_type": "code",
   "execution_count": 50,
   "metadata": {},
   "outputs": [
    {
     "data": {
      "text/plain": [
       "4"
      ]
     },
     "execution_count": 50,
     "metadata": {},
     "output_type": "execute_result"
    }
   ],
   "source": [
    "sum_"
   ]
  },
  {
   "cell_type": "code",
   "execution_count": 51,
   "metadata": {},
   "outputs": [
    {
     "data": {
      "text/plain": [
       "{0, 1}"
      ]
     },
     "execution_count": 51,
     "metadata": {},
     "output_type": "execute_result"
    }
   ],
   "source": [
    "pp = [0,0,1,1,0,0,2,0]\n",
    "if 2 not in pp[:4]:\n",
    "    print('c')"
   ]
  },
  {
   "cell_type": "markdown",
   "metadata": {},
   "source": [
    "런타임 오류"
   ]
  },
  {
   "cell_type": "code",
   "execution_count": 52,
   "metadata": {},
   "outputs": [
    {
     "name": "stdout",
     "output_type": "stream",
     "text": [
      "11\n",
      "1 4\n",
      "3 5\n",
      "0 6\n",
      "5 7\n",
      "3 8\n",
      "5 9\n",
      "6 10\n",
      "8 11\n",
      "8 12\n",
      "2 13\n",
      "12 14\n",
      "4\n"
     ]
    }
   ],
   "source": [
    "N = int(input())\n",
    "a=[]\n",
    "for i in range(N):\n",
    "    a.append(list(map(int, input().split())))    \n",
    "b=[]\n",
    "for i,a_ in enumerate(a):    \n",
    "    b.append([a_[1]-a_[0],i])\n",
    "b = sorted(b)    \n",
    "c = [0 for _ in range(24)]\n",
    "sum_ = 0\n",
    "for i in range(N):\n",
    "    start = a[b[i][1]][0]\n",
    "    end = a[b[i][1]][1]\n",
    "    if 1 not in c[start:end]:\n",
    "        sum_ += 1\n",
    "        for j in range(start,end):        \n",
    "            c[j]=1   \n",
    "print(sum_)"
   ]
  },
  {
   "cell_type": "markdown",
   "metadata": {},
   "source": [
    "***"
   ]
  },
  {
   "cell_type": "code",
   "execution_count": 13,
   "metadata": {},
   "outputs": [
    {
     "data": {
      "text/plain": [
       "['a', 'b', 'c']"
      ]
     },
     "execution_count": 13,
     "metadata": {},
     "output_type": "execute_result"
    }
   ],
   "source": [
    "z={'a':1,'b':2,'c':3}\n",
    "list(z.keys())"
   ]
  },
  {
   "cell_type": "code",
   "execution_count": 15,
   "metadata": {},
   "outputs": [
    {
     "data": {
      "text/plain": [
       "{'a': 1, 'b': 2, 'c': 3, 'd': 3}"
      ]
     },
     "execution_count": 15,
     "metadata": {},
     "output_type": "execute_result"
    }
   ],
   "source": [
    "z['d']=3\n",
    "z"
   ]
  },
  {
   "cell_type": "code",
   "execution_count": null,
   "metadata": {},
   "outputs": [],
   "source": [
    "c = dict()\n",
    "sum_ =0\n",
    "for i in range(N):\n",
    "    start = a[b[i][1]][0]\n",
    "    end = a[b[i][1]][1]\n",
    "    for j in range(end-start):\n",
    "        if   not in list(c.keys()):\n",
    "        "
   ]
  },
  {
   "cell_type": "code",
   "execution_count": null,
   "metadata": {},
   "outputs": [],
   "source": [
    "N = int(input())\n",
    "a=[]\n",
    "for i in range(N):\n",
    "    a.append(list(map(int, input().split())))    \n",
    "b=[]\n",
    "for i,a_ in enumerate(a):    \n",
    "    b.append([a_[1]-a_[0],i])\n",
    "b = sorted(b)    \n",
    "c = [0 for _ in range(24)]\n",
    "sum_ = 0\n",
    "for i in range(N):\n",
    "    start = a[b[i][1]][0]\n",
    "    end = a[b[i][1]][1]\n",
    "    if 1 not in c[start:end]:\n",
    "        sum_ += 1\n",
    "        for j in range(start,end):        \n",
    "            c[j]=1   \n",
    "print(sum_)"
   ]
  },
  {
   "cell_type": "code",
   "execution_count": null,
   "metadata": {},
   "outputs": [],
   "source": [
    "c"
   ]
  }
 ],
 "metadata": {
  "kernelspec": {
   "display_name": "tf20",
   "language": "python",
   "name": "tf20"
  },
  "language_info": {
   "codemirror_mode": {
    "name": "ipython",
    "version": 3
   },
   "file_extension": ".py",
   "mimetype": "text/x-python",
   "name": "python",
   "nbconvert_exporter": "python",
   "pygments_lexer": "ipython3",
   "version": "3.7.4"
  }
 },
 "nbformat": 4,
 "nbformat_minor": 2
}

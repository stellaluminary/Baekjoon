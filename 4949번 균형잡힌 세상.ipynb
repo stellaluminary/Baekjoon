{
 "cells": [
  {
   "cell_type": "markdown",
   "metadata": {},
   "source": [
    "# 4949번 균형잡힌 세상\n",
    "URL : https://www.acmicpc.net/problem/4949"
   ]
  },
  {
   "cell_type": "markdown",
   "metadata": {},
   "source": [
    "# 제출 1 - 29284KB, 396ms, 327B\n",
    "- 2020-01-10 숏코딩 5등"
   ]
  },
  {
   "cell_type": "code",
   "execution_count": null,
   "metadata": {},
   "outputs": [],
   "source": [
    "a = input()\n",
    "while a[0]!='.':\n",
    "    s = []\n",
    "    for i in a:\n",
    "        if i == '(' or i == ')' or i=='[' or i==']':\n",
    "            s.append(i)\n",
    "    b = ''.join(s)\n",
    "    for i in range(len(s)//2):\n",
    "        b = b.replace('()','')\n",
    "        b = b.replace('[]','')\n",
    "    if b == '':\n",
    "        print('yes')\n",
    "    else:\n",
    "        print('no')\n",
    "    a = input()"
   ]
  },
  {
   "cell_type": "markdown",
   "metadata": {},
   "source": [
    "# 제출 2 - 29472KB, 116ms, 358B : 메모리 증가, 시간 감소\n",
    "- 제출 1에서 sys로 바꾼 것\n",
    "- if에서 in을 통한 코드 축소\n",
    "- replace를 중복 사용"
   ]
  },
  {
   "cell_type": "code",
   "execution_count": null,
   "metadata": {},
   "outputs": [],
   "source": [
    "from sys import stdin, stdout\n",
    "a = stdin.readline()\n",
    "while a[0]!='.':\n",
    "    s = []\n",
    "    for i in a:\n",
    "        if i in '()[]':\n",
    "            s.append(i)\n",
    "    b = ''.join(s)\n",
    "    for i in range(len(s)//2):\n",
    "        b = b.replace('()','').replace('[]','')        \n",
    "    if b == '':\n",
    "        stdout.write('yes\\n')\n",
    "    else:\n",
    "        stdout.write('no\\n')\n",
    "    a = stdin.readline()"
   ]
  },
  {
   "cell_type": "markdown",
   "metadata": {},
   "source": [
    "# 제출 3 - 29284KB, 396ms, 327B - 틀림"
   ]
  },
  {
   "cell_type": "code",
   "execution_count": null,
   "metadata": {},
   "outputs": [],
   "source": [
    "from sys import stdin, stdout\n",
    "strings = stdin.readlines()\n",
    "strings.pop()\n",
    "for string in strings:\n",
    "    s = []\n",
    "    bl = True\n",
    "    for i in string:\n",
    "        if i in '([':\n",
    "            s.append(i)\n",
    "        elif i == ')':\n",
    "            if not s or s.pop() != '(':\n",
    "                bl = False\n",
    "                break\n",
    "        elif i == ']':\n",
    "            if not s or s.pop() != '[':\n",
    "                bl = False\n",
    "                break\n",
    "    stdout.write(\"yes\\n\" if bl else \"no\\n\")    "
   ]
  },
  {
   "cell_type": "markdown",
   "metadata": {},
   "source": [
    "# 제출 4 - 29472KB, 76ms, 441B\n",
    "- 제출 3을 함수 형태로 만든 것인데 왜 제출 3은 틀리고 제출 4는 틀린가\n",
    " - break, bool check과 return에서 무슨 차이가 발생한 것인가\n",
    " - s에 '([' 남아있는 경우 또한 있을 수 있다."
   ]
  },
  {
   "cell_type": "code",
   "execution_count": null,
   "metadata": {},
   "outputs": [],
   "source": [
    "from sys import stdin, stdout\n",
    "def bl(string):\n",
    "    s = []\n",
    "    for i in string:\n",
    "        if i in '([':\n",
    "            s.append(i)\n",
    "        elif i == ')':\n",
    "            if not s or s.pop() != '(':\n",
    "                return False\n",
    "        elif i == ']':\n",
    "            if not s or s.pop() != '[':\n",
    "                return False\n",
    "    return not s\n",
    "strings = stdin.readlines()\n",
    "strings.pop()\n",
    "for string in strings:\n",
    "    stdout.write(\"yes\\n\" if bl(string) else \"no\\n\")"
   ]
  },
  {
   "cell_type": "markdown",
   "metadata": {},
   "source": [
    "# 제출 5 - 29472KB, 88ms, 472B\n",
    "- 제출 3의 문제 해결!\n",
    " - s에 '([' 남아있는 경우 또한 있을 수 있다."
   ]
  },
  {
   "cell_type": "code",
   "execution_count": null,
   "metadata": {},
   "outputs": [],
   "source": [
    "from sys import stdin, stdout\n",
    "strings = stdin.readlines()\n",
    "strings.pop()\n",
    "for string in strings:\n",
    "    s = []\n",
    "    bl = True\n",
    "    for i in string:\n",
    "        if i in '([':\n",
    "            s.append(i)\n",
    "        elif i == ')':\n",
    "            if not s or s.pop() != '(':\n",
    "                bl = False\n",
    "                break\n",
    "        elif i == ']':\n",
    "            if not s or s.pop() != '[':\n",
    "                bl = False\n",
    "                break    \n",
    "    stdout.write(\"yes\\n\" if bl and not s else \"no\\n\")    "
   ]
  },
  {
   "cell_type": "markdown",
   "metadata": {},
   "source": [
    "# 제출 6 - 29472KB, 80ms, 455B\n",
    "- 메모리를 줄이기 위해 realines가 아닌 readline으로 읽었는데...\n",
    "- 메모리가 같다고...? 뭔...."
   ]
  },
  {
   "cell_type": "code",
   "execution_count": null,
   "metadata": {},
   "outputs": [],
   "source": [
    "from sys import stdin, stdout\n",
    "def bl(string):\n",
    "    s = []\n",
    "    for i in string:\n",
    "        if i in '([':\n",
    "            s.append(i)\n",
    "        elif i == ')':\n",
    "            if not s or s.pop() != '(':\n",
    "                return False\n",
    "        elif i == ']':\n",
    "            if not s or s.pop() != '[':\n",
    "                return False\n",
    "    return not s\n",
    "a = stdin.readline()\n",
    "while a != '.':    \n",
    "    stdout.write(\"yes\\n\" if bl(a) else \"no\\n\")\n",
    "    a = stdin.readline()"
   ]
  },
  {
   "cell_type": "markdown",
   "metadata": {},
   "source": [
    "# 숏코딩"
   ]
  },
  {
   "cell_type": "markdown",
   "metadata": {},
   "source": [
    "# 제출 7 - 29284KB, 356ms, 253B\n",
    "- 2020-01-10 숏코딩 3등"
   ]
  },
  {
   "cell_type": "code",
   "execution_count": null,
   "metadata": {},
   "outputs": [],
   "source": [
    "a = input()\n",
    "while a[0]!='.':\n",
    "    s = []\n",
    "    for i in a:\n",
    "        if i in '()[]':\n",
    "            s.append(i)\n",
    "    b = ''.join(s)\n",
    "    for i in range(len(s)//2):\n",
    "        b = b.replace('()','').replace('[]','')    \n",
    "    print('no' if b else 'yes')\n",
    "    a = input()"
   ]
  },
  {
   "cell_type": "markdown",
   "metadata": {},
   "source": [
    "# 제출 7 - 29284KB, 332ms, 253B\n",
    "- 2020-01-10 숏코딩 3등"
   ]
  },
  {
   "cell_type": "code",
   "execution_count": null,
   "metadata": {},
   "outputs": [],
   "source": [
    "while 1:\n",
    "    a,s,b = input(),[],1\n",
    "    if a=='.':break\n",
    "    for i in a:\n",
    "        if i in '([':\n",
    "            s.append(i)\n",
    "        elif i==')' and (not s or s.pop()!='(') or i==']' and (not s or s.pop()!='['):b=0;break\n",
    "    print('yes' if b and not s else 'no')"
   ]
  },
  {
   "cell_type": "markdown",
   "metadata": {},
   "source": [
    "# 제출 8 - 29284KB, 348ms, 235B\n",
    "- 2020-01-10 숏코딩 2등"
   ]
  },
  {
   "cell_type": "code",
   "execution_count": null,
   "metadata": {},
   "outputs": [],
   "source": [
    "while 1:\n",
    "    a,s,b = input(),[],1\n",
    "    if a=='.':break\n",
    "    for i in a:\n",
    "        if i in '([':s.append(i)\n",
    "        elif i==')' and (not s or s.pop()!='(') or i==']' and (not s or s.pop()!='['):b=0;break\n",
    "    print(['no','yes'][b and not s])"
   ]
  },
  {
   "cell_type": "markdown",
   "metadata": {},
   "source": [
    "# 제출 9 - 29472KB, 96ms, 288B\n",
    "- input을 sys로 변형시켜봤음\n",
    " - 결과적으로 내릴 수 있는 결론은 sys는 분명 input보다 속도가 빠르다, 그러나 메모리를 차지한다. 일정부분 감수하고 들어가야함\n",
    " - 함수 형태가 역시나 더 빠르다."
   ]
  },
  {
   "cell_type": "code",
   "execution_count": null,
   "metadata": {},
   "outputs": [],
   "source": [
    "import sys\n",
    "while 1:\n",
    "    a,s,b = sys.stdin.readline().rstrip(),[],1\n",
    "    if a=='.':break\n",
    "    for i in a:\n",
    "        if i in '([':s.append(i)\n",
    "        elif i==')' and (not s or s.pop()!='(') or i==']' and (not s or s.pop()!='['):b=0;break\n",
    "    sys.stdout.write(\"yes\\n\" if b and not s else \"no\\n\")"
   ]
  },
  {
   "cell_type": "markdown",
   "metadata": {},
   "source": [
    "# 제출 8 - 29284KB, 348ms, 235B\n",
    "- 2020-01-10 숏코딩 2등"
   ]
  }
 ],
 "metadata": {
  "kernelspec": {
   "display_name": "tf20",
   "language": "python",
   "name": "tf20"
  },
  "language_info": {
   "codemirror_mode": {
    "name": "ipython",
    "version": 3
   },
   "file_extension": ".py",
   "mimetype": "text/x-python",
   "name": "python",
   "nbconvert_exporter": "python",
   "pygments_lexer": "ipython3",
   "version": "3.7.4"
  }
 },
 "nbformat": 4,
 "nbformat_minor": 2
}

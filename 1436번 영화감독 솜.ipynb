{
 "cells": [
  {
   "cell_type": "markdown",
   "metadata": {},
   "source": [
    "# 1436번 영화감독 솜\n",
    "- URL : https://www.acmicpc.net/problem/1436"
   ]
  },
  {
   "cell_type": "markdown",
   "metadata": {},
   "source": [
    "# 제출 1 - 29284KB 4144ms 200B"
   ]
  },
  {
   "cell_type": "code",
   "execution_count": null,
   "metadata": {},
   "outputs": [],
   "source": [
    "N=int(input())\n",
    "tmp=['666']\n",
    "t=667\n",
    "while len(tmp) != N:\n",
    "    o=str(t)\n",
    "    for i in range(len(o)-2):\n",
    "        if o[i:i+3]=='666':\n",
    "            tmp.append(o)\n",
    "            break\n",
    "    t+=1    \n",
    "print(tmp[-1])    "
   ]
  },
  {
   "cell_type": "markdown",
   "metadata": {},
   "source": [
    "# 제출 2 - 29284KB 864ms 70B\n",
    " - 2020-02-19 숏코딩 2등"
   ]
  },
  {
   "cell_type": "code",
   "execution_count": null,
   "metadata": {},
   "outputs": [],
   "source": [
    "N,i=int(input()),665\n",
    "while N: \n",
    " i+=1 \n",
    " if'666'in str(i):N-=1 \n",
    "print(i)"
   ]
  },
  {
   "cell_type": "markdown",
   "metadata": {},
   "source": [
    "# 제출 3 - 29284KB 856ms 65B\n",
    " - 2020-02-19 숏코딩 1등"
   ]
  },
  {
   "cell_type": "code",
   "execution_count": null,
   "metadata": {},
   "outputs": [],
   "source": [
    "N,i=int(input()),9\n",
    "while N:\n",
    " i+=1\n",
    " if'666'in str(i):N-=1\n",
    "print(i)"
   ]
  },
  {
   "cell_type": "markdown",
   "metadata": {},
   "source": [
    "# 제출 4 - 29284KB 1064ms 68B"
   ]
  },
  {
   "cell_type": "code",
   "execution_count": null,
   "metadata": {},
   "outputs": [],
   "source": [
    "N,i=int(input()),9\n",
    "while N:i+=1;N-=1if'666'in str(i)else 0 \n",
    "print(i)"
   ]
  },
  {
   "cell_type": "markdown",
   "metadata": {},
   "source": [
    "# 제출 5 - 29284KB 1064ms 68B\n",
    "- 2020-02-19 1등 leejunhaeng 코드 \n",
    "- 666을 기준으로 맨 뒤가 아닌 666이면 자릿수를 높임으로써 좀 더 빠르게 converge 할 수 있도록 만든 코드"
   ]
  },
  {
   "cell_type": "code",
   "execution_count": null,
   "metadata": {},
   "outputs": [],
   "source": [
    "N = int(input())\n",
    "if N==1:\n",
    "    print(666)\n",
    "else:\n",
    "    count = 1\n",
    "    for i in range(2, N+1):\n",
    "        base_title = \"{0}666\".format(i-1)\n",
    "        num_of_extra_six_in_row = 0\n",
    "        for k in range(len(base_title)-3):\n",
    "            if base_title[-4-k]=='6':\n",
    "                num_of_extra_six_in_row += 1\n",
    "            else:\n",
    "                break\n",
    "        count += int(10**num_of_extra_six_in_row)\n",
    "        if count >= N:\n",
    "            break\n",
    "            \n",
    "    if num_of_extra_six_in_row > 0:\n",
    "        base = int(10**num_of_extra_six_in_row)\n",
    "        count -= base\n",
    "        base_title = int(base_title) - int(base_title)%base + (N - count-1)\n",
    "        \n",
    "    print(base_title)"
   ]
  }
 ],
 "metadata": {
  "kernelspec": {
   "display_name": "tf20",
   "language": "python",
   "name": "tf20"
  },
  "language_info": {
   "codemirror_mode": {
    "name": "ipython",
    "version": 3
   },
   "file_extension": ".py",
   "mimetype": "text/x-python",
   "name": "python",
   "nbconvert_exporter": "python",
   "pygments_lexer": "ipython3",
   "version": "3.7.4"
  }
 },
 "nbformat": 4,
 "nbformat_minor": 2
}

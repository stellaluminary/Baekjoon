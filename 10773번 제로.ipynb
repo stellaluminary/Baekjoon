{
 "cells": [
  {
   "cell_type": "markdown",
   "metadata": {},
   "source": [
    "# 10773번 제로\n",
    "-  URL : https://www.acmicpc.net/problem/10773"
   ]
  },
  {
   "cell_type": "markdown",
   "metadata": {},
   "source": [
    "# 제출 1 - 30088KB, 3744ms, 150B"
   ]
  },
  {
   "cell_type": "code",
   "execution_count": 15,
   "metadata": {},
   "outputs": [
    {
     "name": "stdout",
     "output_type": "stream",
     "text": [
      "10\n",
      "1\n",
      "3\n",
      "5\n",
      "4\n",
      "0\n",
      "0\n",
      "7\n",
      "0\n",
      "0\n",
      "6\n",
      "7\n"
     ]
    }
   ],
   "source": [
    "s = []\n",
    "for i in range(int(input())):\n",
    "    a = int(input())\n",
    "    if a == 0:\n",
    "        if s:\n",
    "            s.pop()\n",
    "    else:\n",
    "        s.append(a)\n",
    "print(sum(s))"
   ]
  },
  {
   "cell_type": "markdown",
   "metadata": {},
   "source": [
    "# 제출 2 - 30088KB, 92ms, 135B\n",
    "- sys로 바꾼 것만으로도 빠른 시간"
   ]
  },
  {
   "cell_type": "code",
   "execution_count": null,
   "metadata": {},
   "outputs": [],
   "source": [
    "from sys import stdin\n",
    "input()\n",
    "s = []\n",
    "for i in map(int,stdin):\n",
    "    if i:\n",
    "        s.append(i)\n",
    "    else:\n",
    "        s.pop()    \n",
    "print(sum(s))"
   ]
  },
  {
   "cell_type": "markdown",
   "metadata": {},
   "source": [
    "# 제출 3 - 30088KB, 88ms, 128B\n",
    "- 1등 2020-01-09 "
   ]
  },
  {
   "cell_type": "code",
   "execution_count": null,
   "metadata": {},
   "outputs": [],
   "source": [
    "import sys\n",
    "input()\n",
    "s = []\n",
    "for i in map(int,sys.stdin):\n",
    "    if i:\n",
    "        s.append(i)\n",
    "    else:\n",
    "        s.pop()    \n",
    "print(sum(s))"
   ]
  },
  {
   "cell_type": "markdown",
   "metadata": {},
   "source": [
    "# 숏코딩"
   ]
  },
  {
   "cell_type": "markdown",
   "metadata": {},
   "source": [
    "# 제출 4 - 30088KB, 92ms, 99B\n",
    "- 제출 3을 숏코딩\n",
    "- 압도적 속도"
   ]
  },
  {
   "cell_type": "code",
   "execution_count": null,
   "metadata": {},
   "outputs": [],
   "source": [
    "import sys\n",
    "input()\n",
    "s = []\n",
    "for i in map(int,sys.stdin):\n",
    " if i:s+=[i]\n",
    " else:s.pop()    \n",
    "print(sum(s))"
   ]
  }
 ],
 "metadata": {
  "kernelspec": {
   "display_name": "tf20",
   "language": "python",
   "name": "tf20"
  },
  "language_info": {
   "codemirror_mode": {
    "name": "ipython",
    "version": 3
   },
   "file_extension": ".py",
   "mimetype": "text/x-python",
   "name": "python",
   "nbconvert_exporter": "python",
   "pygments_lexer": "ipython3",
   "version": "3.7.4"
  }
 },
 "nbformat": 4,
 "nbformat_minor": 2
}

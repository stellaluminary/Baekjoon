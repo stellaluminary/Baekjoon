{
 "cells": [
  {
   "cell_type": "markdown",
   "metadata": {},
   "source": [
    "# 2156번 포도주 시식\n",
    "\n",
    "URL : https://www.acmicpc.net/problem/2156"
   ]
  },
  {
   "cell_type": "code",
   "execution_count": null,
   "metadata": {},
   "outputs": [],
   "source": [
    "n = int(input())"
   ]
  },
  {
   "cell_type": "code",
   "execution_count": null,
   "metadata": {},
   "outputs": [],
   "source": [
    "a = [0]\n",
    "for i in range(n):\n",
    "    a.append(int(input()))"
   ]
  },
  {
   "cell_type": "code",
   "execution_count": null,
   "metadata": {},
   "outputs": [],
   "source": [
    "a"
   ]
  },
  {
   "cell_type": "code",
   "execution_count": null,
   "metadata": {},
   "outputs": [],
   "source": [
    "tmp = []\n",
    "\n",
    "tmp.append(a[0])\n",
    "tmp.append(a[1])\n",
    "if len(a) > 2:\n",
    "    tmp.append(a[1]+a[2])\n",
    "for i in range(3,n+1):\n",
    "    tmp.append(max(a[i]+tmp[i-2],a[i]+a[i-1]+tmp[i-3], tmp[i-1]))"
   ]
  },
  {
   "cell_type": "code",
   "execution_count": null,
   "metadata": {},
   "outputs": [],
   "source": [
    "max(tmp)"
   ]
  },
  {
   "cell_type": "code",
   "execution_count": null,
   "metadata": {},
   "outputs": [],
   "source": [
    "tmp"
   ]
  },
  {
   "cell_type": "markdown",
   "metadata": {},
   "source": [
    "# 제출"
   ]
  },
  {
   "cell_type": "code",
   "execution_count": null,
   "metadata": {},
   "outputs": [],
   "source": [
    "n = int(input())\n",
    "a = [0]\n",
    "for i in range(n):\n",
    "    a.append(int(input()))\n",
    "\n",
    "tmp = []\n",
    "tmp.append(a[0])\n",
    "tmp.append(a[1])\n",
    "if len(a) > 2:\n",
    "    tmp.append(a[1]+a[2])\n",
    "for i in range(3,n+1):\n",
    "    tmp.append(max(a[i]+tmp[i-2],a[i]+a[i-1]+tmp[i-3], tmp[i-1]))\n",
    "\n",
    "print(max(tmp))"
   ]
  },
  {
   "cell_type": "markdown",
   "metadata": {},
   "source": [
    "# 숏코딩"
   ]
  },
  {
   "cell_type": "code",
   "execution_count": null,
   "metadata": {},
   "outputs": [],
   "source": [
    "import sys;I=sys.stdin.readline;w=[0]*3\n",
    "for i in range(int(I())):p=int(I());w=w[1]+p,w[2]+p,max(w)\n",
    "print(max(w))"
   ]
  }
 ],
 "metadata": {
  "kernelspec": {
   "display_name": "Python [conda env:tf20] *",
   "language": "python",
   "name": "conda-env-tf20-py"
  },
  "language_info": {
   "codemirror_mode": {
    "name": "ipython",
    "version": 3
   },
   "file_extension": ".py",
   "mimetype": "text/x-python",
   "name": "python",
   "nbconvert_exporter": "python",
   "pygments_lexer": "ipython3",
   "version": "3.6.9"
  }
 },
 "nbformat": 4,
 "nbformat_minor": 2
}

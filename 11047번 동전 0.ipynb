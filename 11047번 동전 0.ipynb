{
 "cells": [
  {
   "cell_type": "markdown",
   "metadata": {},
   "source": [
    "# 11047번 동전 0\n",
    "\n",
    "URL : https://www.acmicpc.net/problem/11047\n",
    "\n",
    "알고리즘 분류 : 13. 그리디 알고리즘"
   ]
  },
  {
   "cell_type": "markdown",
   "metadata": {},
   "source": [
    "- N개의 종류, 적절한 합이 K로 만들고자 한다. 이 때 필요한 동전 개수의 최솟값을 구하는 프로그램\n",
    "\n",
    "- 입력 첫 줄 N,K(1<=N<=10, 1<=K<=100,000,000)\n",
    "- 둘째 줄부터 N개의 줄에 동전의 가치 A_i가 오름차순으로 주어진다. \n",
    "- A1=1, i>=2인 경우 a_i는 A_(i-1)의 배수\n",
    "- 출력: 첫 째 줄에 K 원을 만드는데 필요한 동전의 개수의 최솟값을 출력한다."
   ]
  },
  {
   "cell_type": "code",
   "execution_count": 1,
   "metadata": {},
   "outputs": [
    {
     "name": "stdout",
     "output_type": "stream",
     "text": [
      "10 4790\n"
     ]
    }
   ],
   "source": [
    "N, K = map(int, input().split())"
   ]
  },
  {
   "cell_type": "code",
   "execution_count": 2,
   "metadata": {},
   "outputs": [
    {
     "name": "stdout",
     "output_type": "stream",
     "text": [
      "1\n",
      "5\n",
      "10\n",
      "50\n",
      "100\n",
      "500\n",
      "1000\n",
      "5000\n",
      "10000\n",
      "50000\n"
     ]
    }
   ],
   "source": [
    "val = []\n",
    "for i in range(N):\n",
    "    val.append(int(input()))"
   ]
  },
  {
   "cell_type": "code",
   "execution_count": 3,
   "metadata": {},
   "outputs": [
    {
     "data": {
      "text/plain": [
       "[1, 5, 10, 50, 100, 500, 1000, 5000, 10000, 50000]"
      ]
     },
     "execution_count": 3,
     "metadata": {},
     "output_type": "execute_result"
    }
   ],
   "source": [
    "val"
   ]
  },
  {
   "cell_type": "code",
   "execution_count": 4,
   "metadata": {},
   "outputs": [],
   "source": [
    "count = 0 \n",
    "sumVal = K\n",
    "for i in reversed(val):\n",
    "    if sumVal <= 0:\n",
    "        break\n",
    "    count += sumVal // i\n",
    "    sumVal = sumVal % i    "
   ]
  },
  {
   "cell_type": "code",
   "execution_count": 5,
   "metadata": {},
   "outputs": [
    {
     "name": "stdout",
     "output_type": "stream",
     "text": [
      "12\n"
     ]
    }
   ],
   "source": [
    "print(count)"
   ]
  },
  {
   "cell_type": "markdown",
   "metadata": {},
   "source": [
    "# 결과물 제출 - 코드 길이 233B 시간 56ms"
   ]
  },
  {
   "cell_type": "code",
   "execution_count": null,
   "metadata": {},
   "outputs": [],
   "source": [
    "N, K = map(int, input().split())\n",
    "val = []\n",
    "for i in range(N):\n",
    "    val.append(int(input()))\n",
    "count = 0 \n",
    "sumVal = K\n",
    "for i in reversed(val):\n",
    "    if sumVal <= 0:\n",
    "        break\n",
    "    count += sumVal // i\n",
    "    sumVal = sumVal % i  \n",
    "print(count)"
   ]
  },
  {
   "cell_type": "markdown",
   "metadata": {},
   "source": [
    "# 다른 사람 결과물 보기\n",
    "## 1. 숏코딩 leemir143 - 98B 56ms"
   ]
  },
  {
   "cell_type": "code",
   "execution_count": null,
   "metadata": {},
   "outputs": [],
   "source": [
    "n,k=map(int,input().split());c=0\n",
    "for i in reversed(eval(\"int(input()),\"*n)):c+=k//i;k=k%i\n",
    "print(c)"
   ]
  },
  {
   "cell_type": "markdown",
   "metadata": {},
   "source": [
    "### 평가: 전반적으로 비슷 다만 할당에 있어 바로 대입했냐 하지않았냐의 차이"
   ]
  }
 ],
 "metadata": {
  "kernelspec": {
   "display_name": "tf20",
   "language": "python",
   "name": "tf20"
  },
  "language_info": {
   "codemirror_mode": {
    "name": "ipython",
    "version": 3
   },
   "file_extension": ".py",
   "mimetype": "text/x-python",
   "name": "python",
   "nbconvert_exporter": "python",
   "pygments_lexer": "ipython3",
   "version": "3.7.4"
  }
 },
 "nbformat": 4,
 "nbformat_minor": 2
}

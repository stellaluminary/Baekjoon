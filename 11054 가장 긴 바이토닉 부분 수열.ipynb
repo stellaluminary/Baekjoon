{
 "cells": [
  {
   "cell_type": "markdown",
   "metadata": {},
   "source": [
    "# 11054 가장 긴 바이토닉 부분 수열\n",
    "\n",
    "URL : https://www.acmicpc.net/problem/11054"
   ]
  },
  {
   "cell_type": "code",
   "execution_count": 1,
   "metadata": {},
   "outputs": [
    {
     "name": "stdout",
     "output_type": "stream",
     "text": [
      "10\n"
     ]
    }
   ],
   "source": [
    "n = int(input())"
   ]
  },
  {
   "cell_type": "code",
   "execution_count": 2,
   "metadata": {},
   "outputs": [
    {
     "name": "stdout",
     "output_type": "stream",
     "text": [
      "1 5 2 1 4 3 4 5 2 1\n"
     ]
    }
   ],
   "source": [
    "seq = list(map(int, input().split()))"
   ]
  },
  {
   "cell_type": "code",
   "execution_count": 3,
   "metadata": {},
   "outputs": [
    {
     "data": {
      "text/plain": [
       "[1, 5, 2, 1, 4, 3, 4, 5, 2, 1]"
      ]
     },
     "execution_count": 3,
     "metadata": {},
     "output_type": "execute_result"
    }
   ],
   "source": [
    "seq"
   ]
  },
  {
   "cell_type": "code",
   "execution_count": 4,
   "metadata": {},
   "outputs": [
    {
     "data": {
      "text/plain": [
       "[[1, 1],\n",
       " [1, 1],\n",
       " [1, 1],\n",
       " [1, 1],\n",
       " [1, 1],\n",
       " [1, 1],\n",
       " [1, 1],\n",
       " [1, 1],\n",
       " [1, 1],\n",
       " [1, 1]]"
      ]
     },
     "execution_count": 4,
     "metadata": {},
     "output_type": "execute_result"
    }
   ],
   "source": [
    "tmp = [[1]*2 for _ in range(n)]\n",
    "tmp"
   ]
  },
  {
   "cell_type": "code",
   "execution_count": 5,
   "metadata": {},
   "outputs": [
    {
     "data": {
      "text/plain": [
       "[[1, 1],\n",
       " [2, 1],\n",
       " [2, 1],\n",
       " [1, 1],\n",
       " [3, 1],\n",
       " [3, 1],\n",
       " [4, 1],\n",
       " [5, 1],\n",
       " [2, 1],\n",
       " [1, 1]]"
      ]
     },
     "execution_count": 5,
     "metadata": {},
     "output_type": "execute_result"
    }
   ],
   "source": [
    "for i in range(1,n):\n",
    "    cnt = 0\n",
    "    for j in range(i):\n",
    "        if seq[i] > seq[j] and cnt < tmp[j][0]:\n",
    "            cnt = tmp[j][0]\n",
    "    tmp[i][0] = cnt+1\n",
    "tmp"
   ]
  },
  {
   "cell_type": "code",
   "execution_count": 6,
   "metadata": {},
   "outputs": [
    {
     "data": {
      "text/plain": [
       "[[1, 1],\n",
       " [2, 5],\n",
       " [2, 2],\n",
       " [1, 1],\n",
       " [3, 4],\n",
       " [3, 3],\n",
       " [4, 3],\n",
       " [5, 3],\n",
       " [2, 2],\n",
       " [1, 1]]"
      ]
     },
     "execution_count": 6,
     "metadata": {},
     "output_type": "execute_result"
    }
   ],
   "source": [
    "for i in range(1,n-1):\n",
    "    cnt = 0\n",
    "    for j in range(i):\n",
    "        if seq[n-1-i] > seq[n-1-j] and cnt < tmp[n-1-j][1]:\n",
    "            cnt = tmp[n-1-j][1]\n",
    "    tmp[n-1-i][1] = cnt+1\n",
    "tmp"
   ]
  },
  {
   "cell_type": "code",
   "execution_count": 99,
   "metadata": {},
   "outputs": [
    {
     "data": {
      "text/plain": [
       "7"
      ]
     },
     "execution_count": 99,
     "metadata": {},
     "output_type": "execute_result"
    }
   ],
   "source": [
    "sum(max(tmp))-1"
   ]
  },
  {
   "cell_type": "markdown",
   "metadata": {},
   "source": [
    "# 제출"
   ]
  },
  {
   "cell_type": "code",
   "execution_count": 101,
   "metadata": {},
   "outputs": [
    {
     "name": "stdout",
     "output_type": "stream",
     "text": [
      "1\n",
      "1\n"
     ]
    }
   ],
   "source": [
    "n = int(input())\n",
    "seq = list(map(int, input().split()))\n",
    "tmp = [[1]*2 for _ in range(n)]\n",
    "\n",
    "for i in range(1,n):\n",
    "    cnt = 0\n",
    "    for j in range(i):\n",
    "        if seq[i] > seq[j] and cnt < tmp[j][0]:\n",
    "            cnt = tmp[j][0]\n",
    "    tmp[i][0] = cnt+1\n",
    "    \n",
    "for i in range(1,n-1):\n",
    "    cnt = 0\n",
    "    for j in range(i):\n",
    "        if seq[n-1-i] > seq[n-1-j] and cnt < tmp[n-1-j][1]:\n",
    "            cnt = tmp[n-1-j][1]\n",
    "    tmp[n-1-i][1] = cnt+1\n",
    "    \n",
    "val = 0\n",
    "for i in range(n):\n",
    "    val = max(val, sum(tmp[i])-1)\n",
    "print(val)"
   ]
  },
  {
   "cell_type": "markdown",
   "metadata": {},
   "source": [
    "## 다른 사람 관찰"
   ]
  },
  {
   "cell_type": "code",
   "execution_count": 38,
   "metadata": {},
   "outputs": [],
   "source": [
    "# ryuwhale95 https://www.acmicpc.net/source/14210557\n",
    "import sys\n",
    "import bisect"
   ]
  },
  {
   "cell_type": "code",
   "execution_count": 48,
   "metadata": {},
   "outputs": [],
   "source": [
    "def l(a,n,p):\n",
    "    v=[-1]\n",
    "    a=a[::p]\n",
    "    d=[0]*n\n",
    "    print(v,a,d)\n",
    "    for i in range(n):\n",
    "        if v[-1]<a[i]: \n",
    "            v+=[a[i]]\n",
    "            d[i]=len(v)-1\n",
    "            print(v,a,d)\n",
    "        else: \n",
    "            v[bisect.bisect_left(v,a[i])]=a[i]\n",
    "            d[i]=d[i-1]\n",
    "            print(v,a,d)\n",
    "    return d[::p]"
   ]
  },
  {
   "cell_type": "code",
   "execution_count": 49,
   "metadata": {},
   "outputs": [
    {
     "name": "stdout",
     "output_type": "stream",
     "text": [
      "[-1] [1, 5, 2, 1, 4, 3, 4, 5, 2, 1] [0, 0, 0, 0, 0, 0, 0, 0, 0, 0]\n",
      "[-1, 1] [1, 5, 2, 1, 4, 3, 4, 5, 2, 1] [1, 0, 0, 0, 0, 0, 0, 0, 0, 0]\n",
      "[-1, 1, 5] [1, 5, 2, 1, 4, 3, 4, 5, 2, 1] [1, 2, 0, 0, 0, 0, 0, 0, 0, 0]\n",
      "[-1, 1, 2] [1, 5, 2, 1, 4, 3, 4, 5, 2, 1] [1, 2, 2, 0, 0, 0, 0, 0, 0, 0]\n",
      "[-1, 1, 2] [1, 5, 2, 1, 4, 3, 4, 5, 2, 1] [1, 2, 2, 2, 0, 0, 0, 0, 0, 0]\n",
      "[-1, 1, 2, 4] [1, 5, 2, 1, 4, 3, 4, 5, 2, 1] [1, 2, 2, 2, 3, 0, 0, 0, 0, 0]\n",
      "[-1, 1, 2, 3] [1, 5, 2, 1, 4, 3, 4, 5, 2, 1] [1, 2, 2, 2, 3, 3, 0, 0, 0, 0]\n",
      "[-1, 1, 2, 3, 4] [1, 5, 2, 1, 4, 3, 4, 5, 2, 1] [1, 2, 2, 2, 3, 3, 4, 0, 0, 0]\n",
      "[-1, 1, 2, 3, 4, 5] [1, 5, 2, 1, 4, 3, 4, 5, 2, 1] [1, 2, 2, 2, 3, 3, 4, 5, 0, 0]\n",
      "[-1, 1, 2, 3, 4, 5] [1, 5, 2, 1, 4, 3, 4, 5, 2, 1] [1, 2, 2, 2, 3, 3, 4, 5, 5, 0]\n",
      "[-1, 1, 2, 3, 4, 5] [1, 5, 2, 1, 4, 3, 4, 5, 2, 1] [1, 2, 2, 2, 3, 3, 4, 5, 5, 5]\n"
     ]
    },
    {
     "data": {
      "text/plain": [
       "[1, 2, 2, 2, 3, 3, 4, 5, 5, 5]"
      ]
     },
     "execution_count": 49,
     "metadata": {},
     "output_type": "execute_result"
    }
   ],
   "source": [
    "l(a,n,1)"
   ]
  },
  {
   "cell_type": "code",
   "execution_count": 22,
   "metadata": {},
   "outputs": [
    {
     "name": "stdout",
     "output_type": "stream",
     "text": [
      "10\n"
     ]
    }
   ],
   "source": [
    "n=int(input())"
   ]
  },
  {
   "cell_type": "code",
   "execution_count": 42,
   "metadata": {},
   "outputs": [
    {
     "name": "stdout",
     "output_type": "stream",
     "text": [
      "1 5 2 1 4 3 4 5 2 1\n"
     ]
    }
   ],
   "source": [
    "a=[*map(int,input().split())]"
   ]
  },
  {
   "cell_type": "code",
   "execution_count": 47,
   "metadata": {},
   "outputs": [
    {
     "data": {
      "text/plain": [
       "(10, [1, 5, 2, 1, 4, 3, 4, 5, 2, 1])"
      ]
     },
     "execution_count": 47,
     "metadata": {},
     "output_type": "execute_result"
    }
   ],
   "source": [
    "n,a"
   ]
  },
  {
   "cell_type": "code",
   "execution_count": 44,
   "metadata": {},
   "outputs": [
    {
     "name": "stdout",
     "output_type": "stream",
     "text": [
      "[-1] [1, 5, 2, 1, 4, 3, 4, 5, 2, 1] [0, 0, 0, 0, 0, 0, 0, 0, 0, 0]\n",
      "[-1] [1, 2, 5, 4, 3, 4, 1, 2, 5, 1] [0, 0, 0, 0, 0, 0, 0, 0, 0, 0]\n",
      "7\n"
     ]
    }
   ],
   "source": [
    "d=list(map(lambda x,y:x+y-1, l(a,n,1),l(a,n,-1))) # x에는 l(a,n,1), y에는 l(a,n,-1)\n",
    "print(max(d))"
   ]
  },
  {
   "cell_type": "code",
   "execution_count": 32,
   "metadata": {},
   "outputs": [
    {
     "data": {
      "text/plain": [
       "[5, 6, 5, 5, 6, 5, 6, 7, 6, 5]"
      ]
     },
     "execution_count": 32,
     "metadata": {},
     "output_type": "execute_result"
    }
   ],
   "source": [
    "d"
   ]
  },
  {
   "cell_type": "code",
   "execution_count": 45,
   "metadata": {},
   "outputs": [
    {
     "data": {
      "text/plain": [
       "[1, 5, 2, 1, 4, 3, 4, 5, 2, 1]"
      ]
     },
     "execution_count": 45,
     "metadata": {},
     "output_type": "execute_result"
    }
   ],
   "source": [
    "a"
   ]
  },
  {
   "cell_type": "code",
   "execution_count": null,
   "metadata": {},
   "outputs": [],
   "source": []
  }
 ],
 "metadata": {
  "kernelspec": {
   "display_name": "Python [conda env:tf20] *",
   "language": "python",
   "name": "conda-env-tf20-py"
  },
  "language_info": {
   "codemirror_mode": {
    "name": "ipython",
    "version": 3
   },
   "file_extension": ".py",
   "mimetype": "text/x-python",
   "name": "python",
   "nbconvert_exporter": "python",
   "pygments_lexer": "ipython3",
   "version": "3.6.9"
  }
 },
 "nbformat": 4,
 "nbformat_minor": 2
}

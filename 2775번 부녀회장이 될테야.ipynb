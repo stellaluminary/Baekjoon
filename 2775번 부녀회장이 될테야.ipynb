{
 "cells": [
  {
   "cell_type": "code",
   "execution_count": 1,
   "metadata": {},
   "outputs": [
    {
     "name": "stdout",
     "output_type": "stream",
     "text": [
      "2\n"
     ]
    }
   ],
   "source": [
    "k=int(input()) #층 floor"
   ]
  },
  {
   "cell_type": "code",
   "execution_count": 3,
   "metadata": {},
   "outputs": [
    {
     "name": "stdout",
     "output_type": "stream",
     "text": [
      "3\n"
     ]
    }
   ],
   "source": [
    "n=int(input()) #room Num"
   ]
  },
  {
   "cell_type": "code",
   "execution_count": 7,
   "metadata": {},
   "outputs": [
    {
     "data": {
      "text/plain": [
       "[1, 2, 3]"
      ]
     },
     "execution_count": 7,
     "metadata": {},
     "output_type": "execute_result"
    }
   ],
   "source": [
    "LowfloorList=[x+1 for x in range(n)]\n",
    "UpperfloorList=[]\n",
    "start=1\n",
    "sumLow=0\n",
    "LowfloorList"
   ]
  },
  {
   "cell_type": "code",
   "execution_count": 10,
   "metadata": {},
   "outputs": [],
   "source": [
    "for i in range(k):\n",
    "    for j in range(n):\n",
    "        sumLow += LowfloorList[j]\n",
    "        UpperfloorList.append(sumLow)\n",
    "    sumLow=0\n",
    "    LowfloorList = UpperfloorList\n",
    "    UpperfloorList =[]"
   ]
  },
  {
   "cell_type": "code",
   "execution_count": 11,
   "metadata": {},
   "outputs": [
    {
     "data": {
      "text/plain": [
       "[]"
      ]
     },
     "execution_count": 11,
     "metadata": {},
     "output_type": "execute_result"
    }
   ],
   "source": [
    "UpperfloorList"
   ]
  },
  {
   "cell_type": "code",
   "execution_count": 12,
   "metadata": {},
   "outputs": [
    {
     "data": {
      "text/plain": [
       "[1, 4, 10]"
      ]
     },
     "execution_count": 12,
     "metadata": {},
     "output_type": "execute_result"
    }
   ],
   "source": [
    "LowfloorList"
   ]
  },
  {
   "cell_type": "code",
   "execution_count": 14,
   "metadata": {},
   "outputs": [
    {
     "data": {
      "text/plain": [
       "10"
      ]
     },
     "execution_count": 14,
     "metadata": {},
     "output_type": "execute_result"
    }
   ],
   "source": [
    "LowfloorList.pop()"
   ]
  },
  {
   "cell_type": "code",
   "execution_count": 15,
   "metadata": {},
   "outputs": [
    {
     "name": "stdout",
     "output_type": "stream",
     "text": [
      "2\n",
      "1\n",
      "3\n",
      "6\n",
      "2\n",
      "3\n",
      "10\n"
     ]
    }
   ],
   "source": [
    "# 첫 제출본 - 성공 그러나 시간복잡도 n^3\n",
    "\n",
    "T=int(input())\n",
    "for t in range(T):\n",
    "    k=int(input()) #층 floor\n",
    "    n=int(input()) #room Num\n",
    "    LowfloorList=[x+1 for x in range(n)]\n",
    "    UpperfloorList=[]\n",
    "    sumLow=0\n",
    "    \n",
    "    for i in range(k):\n",
    "        for j in range(n):\n",
    "            sumLow += LowfloorList[j]\n",
    "            UpperfloorList.append(sumLow)\n",
    "        sumLow=0\n",
    "        LowfloorList = UpperfloorList\n",
    "        UpperfloorList =[]\n",
    "    \n",
    "    print(LowfloorList.pop())"
   ]
  }
 ],
 "metadata": {
  "kernelspec": {
   "display_name": "Python [conda env:tf20] *",
   "language": "python",
   "name": "conda-env-tf20-py"
  },
  "language_info": {
   "codemirror_mode": {
    "name": "ipython",
    "version": 3
   },
   "file_extension": ".py",
   "mimetype": "text/x-python",
   "name": "python",
   "nbconvert_exporter": "python",
   "pygments_lexer": "ipython3",
   "version": "3.6.9"
  }
 },
 "nbformat": 4,
 "nbformat_minor": 2
}
